{
 "cells": [
  {
   "attachments": {},
   "cell_type": "markdown",
   "metadata": {},
   "source": [
    "\"Travel Suggest\" - это проект для туристического бизнеса, целью которого является рекомендация новому туристу города для посещения в зависимости от его данных. На основе данных о существующих клиентах туристического агентства я построю модель машинного обучения, которая будет предсказывать город назначения новому клиенту. \n",
    "\n",
    "1. Анализ данных. \n",
    "Для начала проанализирую данные. Создам переменную, которая будет содержать данные клиентов туристического агентства:"
   ]
  },
  {
   "cell_type": "code",
   "execution_count": 1,
   "metadata": {},
   "outputs": [],
   "source": [
    "import pandas\n",
    "\n",
    "# Читаем файл в формате Эксель и кладем результат в переменную travelBD\n",
    "\n",
    "travelBD = pandas.read_excel(\"/Travel_Suggest/travelBD.xlsx\")"
   ]
  },
  {
   "attachments": {},
   "cell_type": "markdown",
   "metadata": {},
   "source": [
    "Рассмотрим данные, которые находятся в файле. Для этого применим функцию head(). На экране выведутся первые пять строчек таблицы. \n",
    "Здесь мы можем увидеть названия колонок таблицы, первые пять значений и порядковые номера строк от 0 до 4. "
   ]
  },
  {
   "cell_type": "code",
   "execution_count": 2,
   "metadata": {},
   "outputs": [
    {
     "data": {
      "text/html": [
       "<div>\n",
       "<style scoped>\n",
       "    .dataframe tbody tr th:only-of-type {\n",
       "        vertical-align: middle;\n",
       "    }\n",
       "\n",
       "    .dataframe tbody tr th {\n",
       "        vertical-align: top;\n",
       "    }\n",
       "\n",
       "    .dataframe thead th {\n",
       "        text-align: right;\n",
       "    }\n",
       "</style>\n",
       "<table border=\"1\" class=\"dataframe\">\n",
       "  <thead>\n",
       "    <tr style=\"text-align: right;\">\n",
       "      <th></th>\n",
       "      <th>zarabotnaya_plata</th>\n",
       "      <th>gorod</th>\n",
       "      <th>vozrast</th>\n",
       "      <th>tip_tura</th>\n",
       "      <th>vid_transporta</th>\n",
       "      <th>chleni_semyi</th>\n",
       "      <th>kurort</th>\n",
       "    </tr>\n",
       "  </thead>\n",
       "  <tbody>\n",
       "    <tr>\n",
       "      <th>0</th>\n",
       "      <td>191000</td>\n",
       "      <td>Апатиты</td>\n",
       "      <td>63</td>\n",
       "      <td>Экскурсионный тур</td>\n",
       "      <td>Морской транспорт</td>\n",
       "      <td>2</td>\n",
       "      <td>Rimini</td>\n",
       "    </tr>\n",
       "    <tr>\n",
       "      <th>1</th>\n",
       "      <td>130000</td>\n",
       "      <td>Апатиты</td>\n",
       "      <td>55</td>\n",
       "      <td>Экскурсионный тур</td>\n",
       "      <td>Самолет</td>\n",
       "      <td>1</td>\n",
       "      <td>Rimini</td>\n",
       "    </tr>\n",
       "    <tr>\n",
       "      <th>2</th>\n",
       "      <td>158000</td>\n",
       "      <td>Апатиты</td>\n",
       "      <td>58</td>\n",
       "      <td>Пляжный тур</td>\n",
       "      <td>Самолет</td>\n",
       "      <td>1</td>\n",
       "      <td>Rimini</td>\n",
       "    </tr>\n",
       "    <tr>\n",
       "      <th>3</th>\n",
       "      <td>236000</td>\n",
       "      <td>Апатиты</td>\n",
       "      <td>69</td>\n",
       "      <td>Круизный отдых</td>\n",
       "      <td>Морской транспорт</td>\n",
       "      <td>2</td>\n",
       "      <td>Rimini</td>\n",
       "    </tr>\n",
       "    <tr>\n",
       "      <th>4</th>\n",
       "      <td>196000</td>\n",
       "      <td>Апатиты</td>\n",
       "      <td>64</td>\n",
       "      <td>Пляжный тур</td>\n",
       "      <td>Самолет</td>\n",
       "      <td>2</td>\n",
       "      <td>Rimini</td>\n",
       "    </tr>\n",
       "  </tbody>\n",
       "</table>\n",
       "</div>"
      ],
      "text/plain": [
       "   zarabotnaya_plata    gorod  vozrast           tip_tura     vid_transporta  \\\n",
       "0             191000  Апатиты       63  Экскурсионный тур  Морской транспорт   \n",
       "1             130000  Апатиты       55  Экскурсионный тур            Самолет   \n",
       "2             158000  Апатиты       58        Пляжный тур            Самолет   \n",
       "3             236000  Апатиты       69     Круизный отдых  Морской транспорт   \n",
       "4             196000  Апатиты       64        Пляжный тур            Самолет   \n",
       "\n",
       "   chleni_semyi  kurort  \n",
       "0             2  Rimini  \n",
       "1             1  Rimini  \n",
       "2             1  Rimini  \n",
       "3             2  Rimini  \n",
       "4             2  Rimini  "
      ]
     },
     "execution_count": 2,
     "metadata": {},
     "output_type": "execute_result"
    }
   ],
   "source": [
    "travelBD.head() # Выводит первые несколько строк"
   ]
  },
  {
   "attachments": {},
   "cell_type": "markdown",
   "metadata": {},
   "source": [
    "Приступим к анализу данных таблицы. У нас в распоряжении ряд столбцов для анализа, таких как заработная плата, город, возраст и т.д. Для аналитика данных важно детально изучить эту информацию, чтобы узнать базовые характеристики. Каждый столбец имеет свое название переменной, которое можно использовать для получения информации из соответствующей ячейки. Например, чтобы получить данные только по заработной плате, нужно указать название переменной «travelBD» и после точки указать название столбца «zarabotnaya_plata»:"
   ]
  },
  {
   "cell_type": "code",
   "execution_count": 3,
   "metadata": {},
   "outputs": [
    {
     "data": {
      "text/plain": [
       "0      191000\n",
       "1      130000\n",
       "2      158000\n",
       "3      236000\n",
       "4      196000\n",
       "        ...  \n",
       "995    158000\n",
       "996     45000\n",
       "997    108000\n",
       "998     32000\n",
       "999    130000\n",
       "Name: zarabotnaya_plata, Length: 1000, dtype: int64"
      ]
     },
     "execution_count": 3,
     "metadata": {},
     "output_type": "execute_result"
    }
   ],
   "source": [
    "travelBD.zarabotnaya_plata"
   ]
  },
  {
   "attachments": {},
   "cell_type": "markdown",
   "metadata": {},
   "source": [
    "Нам доступна функция discribe(). Это метод, который используется в Pandas библиотеке для создания сводной статистики числовых данных в DataFrame. Он генерирует описательные статистические данные, которые предоставляют информацию, такую как количество, среднее значение, стандартное отклонение и различные процентили данных."
   ]
  },
  {
   "cell_type": "code",
   "execution_count": 4,
   "metadata": {},
   "outputs": [
    {
     "data": {
      "text/plain": [
       "count      1000.000000\n",
       "mean     114935.000000\n",
       "std       54580.049073\n",
       "min        3000.000000\n",
       "25%       71000.000000\n",
       "50%      102000.000000\n",
       "75%      164000.000000\n",
       "max      253000.000000\n",
       "Name: zarabotnaya_plata, dtype: float64"
      ]
     },
     "execution_count": 4,
     "metadata": {},
     "output_type": "execute_result"
    }
   ],
   "source": [
    "travelBD.zarabotnaya_plata.describe()"
   ]
  },
  {
   "attachments": {},
   "cell_type": "markdown",
   "metadata": {},
   "source": [
    "Для анализа заработной платы туристов можно построить по заработной плате гистограмму."
   ]
  },
  {
   "cell_type": "code",
   "execution_count": 5,
   "metadata": {},
   "outputs": [
    {
     "data": {
      "text/plain": [
       "<Axes: >"
      ]
     },
     "execution_count": 5,
     "metadata": {},
     "output_type": "execute_result"
    },
    {
     "data": {
      "image/png": "[encoded data removed]",
      "text/plain": [
       "<Figure size 640x480 with 1 Axes>"
      ]
     },
     "metadata": {},
     "output_type": "display_data"
    }
   ],
   "source": [
    "travelBD.zarabotnaya_plata.hist()"
   ]
  },
  {
   "attachments": {},
   "cell_type": "markdown",
   "metadata": {},
   "source": [
    "Постоим гистограмму по возрасту туристов:"
   ]
  },
  {
   "cell_type": "code",
   "execution_count": 6,
   "metadata": {},
   "outputs": [
    {
     "data": {
      "text/plain": [
       "<Axes: >"
      ]
     },
     "execution_count": 6,
     "metadata": {},
     "output_type": "execute_result"
    },
    {
     "data": {
      "image/png": "[encoded data removed]",
      "text/plain": [
       "<Figure size 640x480 with 1 Axes>"
      ]
     },
     "metadata": {},
     "output_type": "display_data"
    }
   ],
   "source": [
    "travelBD.vozrast.hist()"
   ]
  },
  {
   "attachments": {},
   "cell_type": "markdown",
   "metadata": {},
   "source": [
    "Получим информацию по городам, в которых находятся наши туристы. Гистограмму по городам невозможно построить, так как названия городов не являются числами. Но мы можем получить информацию, сколько людей из разных городов:"
   ]
  },
  {
   "cell_type": "code",
   "execution_count": 7,
   "metadata": {},
   "outputs": [
    {
     "data": {
      "text/plain": [
       "Санкт-Петербург     307\n",
       "Москва              267\n",
       "Сочи                107\n",
       "Мурманск            106\n",
       "Самара               84\n",
       "Воронеж              67\n",
       "Апатиты              33\n",
       "Сегежа               14\n",
       "Петрозаводск         13\n",
       "Великий-Новгород      1\n",
       "Минеральные Воды      1\n",
       "Name: gorod, dtype: int64"
      ]
     },
     "execution_count": 7,
     "metadata": {},
     "output_type": "execute_result"
    }
   ],
   "source": [
    "travelBD.gorod.value_counts()"
   ]
  },
  {
   "attachments": {},
   "cell_type": "markdown",
   "metadata": {},
   "source": [
    "Также есть другая похожая другая похожая функция. Она называется unique() - уникальные значения, которые встречаются в этой колонке городов:"
   ]
  },
  {
   "cell_type": "code",
   "execution_count": 8,
   "metadata": {},
   "outputs": [
    {
     "data": {
      "text/plain": [
       "array(['Апатиты', 'Великий-Новгород', 'Воронеж', 'Минеральные Воды',\n",
       "       'Москва', 'Мурманск', 'Санкт-Петербург', 'Самара', 'Петрозаводск',\n",
       "       'Сегежа', 'Сочи'], dtype=object)"
      ]
     },
     "execution_count": 8,
     "metadata": {},
     "output_type": "execute_result"
    }
   ],
   "source": [
    "travelBD.gorod.unique()"
   ]
  },
  {
   "attachments": {},
   "cell_type": "markdown",
   "metadata": {},
   "source": [
    "Воспользуемся этой функцией groupby(), чтобы сгруппировать данные в колонке \"gorod\":"
   ]
  },
  {
   "cell_type": "code",
   "execution_count": 9,
   "metadata": {},
   "outputs": [
    {
     "data": {
      "text/plain": [
       "<pandas.core.groupby.generic.DataFrameGroupBy object at 0x000002BE1B7FD3D0>"
      ]
     },
     "execution_count": 9,
     "metadata": {},
     "output_type": "execute_result"
    }
   ],
   "source": [
    "travelBD.groupby(\"gorod\")"
   ]
  },
  {
   "attachments": {},
   "cell_type": "markdown",
   "metadata": {},
   "source": [
    "Теперь можно определить максимальный возраст туристов в кажом городе. Мы группируем данные по городу (колонка \"gorod\") и применяем функцию max() к колонке \"vozrast\":"
   ]
  },
  {
   "cell_type": "code",
   "execution_count": 10,
   "metadata": {},
   "outputs": [
    {
     "data": {
      "text/plain": [
       "gorod\n",
       "Апатиты             74\n",
       "Великий-Новгород    33\n",
       "Воронеж             72\n",
       "Минеральные Воды    65\n",
       "Москва              80\n",
       "Мурманск            79\n",
       "Петрозаводск        74\n",
       "Самара              78\n",
       "Санкт-Петербург     76\n",
       "Сегежа              76\n",
       "Сочи                80\n",
       "Name: vozrast, dtype: int64"
      ]
     },
     "execution_count": 10,
     "metadata": {},
     "output_type": "execute_result"
    }
   ],
   "source": [
    "travelBD.groupby(\"gorod\")[\"vozrast\"].max()"
   ]
  },
  {
   "attachments": {},
   "cell_type": "markdown",
   "metadata": {},
   "source": [
    "Помимо собственно функции max(), можно использовать функцию mean() и вывести средний возраст туристов в каждом городе"
   ]
  },
  {
   "cell_type": "code",
   "execution_count": 11,
   "metadata": {},
   "outputs": [
    {
     "data": {
      "text/plain": [
       "gorod\n",
       "Апатиты             60.272727\n",
       "Великий-Новгород    33.000000\n",
       "Воронеж             58.343284\n",
       "Минеральные Воды    65.000000\n",
       "Москва              52.239700\n",
       "Мурманск            52.518868\n",
       "Петрозаводск        63.000000\n",
       "Самара              56.202381\n",
       "Санкт-Петербург     50.583062\n",
       "Сегежа              55.642857\n",
       "Сочи                54.672897\n",
       "Name: vozrast, dtype: float64"
      ]
     },
     "execution_count": 11,
     "metadata": {},
     "output_type": "execute_result"
    }
   ],
   "source": [
    "travelBD.groupby(\"gorod\")[\"vozrast\"].mean()"
   ]
  },
  {
   "attachments": {},
   "cell_type": "markdown",
   "metadata": {},
   "source": [
    "И соответственно минимальный возраст min(): "
   ]
  },
  {
   "cell_type": "code",
   "execution_count": 12,
   "metadata": {},
   "outputs": [
    {
     "data": {
      "text/plain": [
       "gorod\n",
       "Апатиты             40\n",
       "Великий-Новгород    33\n",
       "Воронеж             27\n",
       "Минеральные Воды    65\n",
       "Москва              18\n",
       "Мурманск            19\n",
       "Петрозаводск        53\n",
       "Самара              32\n",
       "Санкт-Петербург     16\n",
       "Сегежа              34\n",
       "Сочи                26\n",
       "Name: vozrast, dtype: int64"
      ]
     },
     "execution_count": 12,
     "metadata": {},
     "output_type": "execute_result"
    }
   ],
   "source": [
    "travelBD.groupby(\"gorod\")[\"vozrast\"].min()"
   ]
  },
  {
   "attachments": {},
   "cell_type": "markdown",
   "metadata": {},
   "source": [
    "Также можно посчитать и другие показатели для этой колонки, например квантиль. Можно выбрать любые квантили, которые интересуют 0.25, 0.75 и так далее."
   ]
  },
  {
   "cell_type": "code",
   "execution_count": 13,
   "metadata": {},
   "outputs": [
    {
     "data": {
      "text/plain": [
       "gorod\n",
       "Апатиты             60.0\n",
       "Великий-Новгород    33.0\n",
       "Воронеж             59.0\n",
       "Минеральные Воды    65.0\n",
       "Москва              55.0\n",
       "Мурманск            54.0\n",
       "Петрозаводск        63.0\n",
       "Самара              55.0\n",
       "Санкт-Петербург     55.0\n",
       "Сегежа              57.5\n",
       "Сочи                56.0\n",
       "Name: vozrast, dtype: float64"
      ]
     },
     "execution_count": 13,
     "metadata": {},
     "output_type": "execute_result"
    }
   ],
   "source": [
    "travelBD.groupby(\"gorod\")[\"vozrast\"].quantile()"
   ]
  },
  {
   "attachments": {},
   "cell_type": "markdown",
   "metadata": {},
   "source": [
    "Рассмотрим предпочтения клиентов в том, как они путешествуют:"
   ]
  },
  {
   "cell_type": "code",
   "execution_count": 14,
   "metadata": {},
   "outputs": [
    {
     "data": {
      "text/plain": [
       "Самолет              390\n",
       "Автомобиль           379\n",
       "Поезд                148\n",
       "Морской транспорт     83\n",
       "Name: vid_transporta, dtype: int64"
      ]
     },
     "execution_count": 14,
     "metadata": {},
     "output_type": "execute_result"
    }
   ],
   "source": [
    "travelBD.vid_transporta.value_counts()"
   ]
  },
  {
   "cell_type": "code",
   "execution_count": 15,
   "metadata": {},
   "outputs": [
    {
     "data": {
      "text/html": [
       "<div>\n",
       "<style scoped>\n",
       "    .dataframe tbody tr th:only-of-type {\n",
       "        vertical-align: middle;\n",
       "    }\n",
       "\n",
       "    .dataframe tbody tr th {\n",
       "        vertical-align: top;\n",
       "    }\n",
       "\n",
       "    .dataframe thead th {\n",
       "        text-align: right;\n",
       "    }\n",
       "</style>\n",
       "<table border=\"1\" class=\"dataframe\">\n",
       "  <thead>\n",
       "    <tr style=\"text-align: right;\">\n",
       "      <th></th>\n",
       "      <th>zarabotnaya_plata</th>\n",
       "      <th>gorod</th>\n",
       "      <th>vozrast</th>\n",
       "      <th>tip_tura</th>\n",
       "      <th>vid_transporta</th>\n",
       "      <th>chleni_semyi</th>\n",
       "      <th>kurort</th>\n",
       "    </tr>\n",
       "  </thead>\n",
       "  <tbody>\n",
       "    <tr>\n",
       "      <th>1</th>\n",
       "      <td>130000</td>\n",
       "      <td>Апатиты</td>\n",
       "      <td>55</td>\n",
       "      <td>Экскурсионный тур</td>\n",
       "      <td>Самолет</td>\n",
       "      <td>1</td>\n",
       "      <td>Rimini</td>\n",
       "    </tr>\n",
       "    <tr>\n",
       "      <th>2</th>\n",
       "      <td>158000</td>\n",
       "      <td>Апатиты</td>\n",
       "      <td>58</td>\n",
       "      <td>Пляжный тур</td>\n",
       "      <td>Самолет</td>\n",
       "      <td>1</td>\n",
       "      <td>Rimini</td>\n",
       "    </tr>\n",
       "    <tr>\n",
       "      <th>4</th>\n",
       "      <td>196000</td>\n",
       "      <td>Апатиты</td>\n",
       "      <td>64</td>\n",
       "      <td>Пляжный тур</td>\n",
       "      <td>Самолет</td>\n",
       "      <td>2</td>\n",
       "      <td>Rimini</td>\n",
       "    </tr>\n",
       "    <tr>\n",
       "      <th>5</th>\n",
       "      <td>179000</td>\n",
       "      <td>Апатиты</td>\n",
       "      <td>62</td>\n",
       "      <td>Пляжный тур</td>\n",
       "      <td>Самолет</td>\n",
       "      <td>3</td>\n",
       "      <td>Rimini</td>\n",
       "    </tr>\n",
       "    <tr>\n",
       "      <th>6</th>\n",
       "      <td>151000</td>\n",
       "      <td>Апатиты</td>\n",
       "      <td>58</td>\n",
       "      <td>Пляжный тур</td>\n",
       "      <td>Самолет</td>\n",
       "      <td>3</td>\n",
       "      <td>Rimini</td>\n",
       "    </tr>\n",
       "    <tr>\n",
       "      <th>...</th>\n",
       "      <td>...</td>\n",
       "      <td>...</td>\n",
       "      <td>...</td>\n",
       "      <td>...</td>\n",
       "      <td>...</td>\n",
       "      <td>...</td>\n",
       "      <td>...</td>\n",
       "    </tr>\n",
       "    <tr>\n",
       "      <th>993</th>\n",
       "      <td>67000</td>\n",
       "      <td>Сочи</td>\n",
       "      <td>65</td>\n",
       "      <td>Экскурсионный тур</td>\n",
       "      <td>Самолет</td>\n",
       "      <td>1</td>\n",
       "      <td>Singapore</td>\n",
       "    </tr>\n",
       "    <tr>\n",
       "      <th>995</th>\n",
       "      <td>158000</td>\n",
       "      <td>Сочи</td>\n",
       "      <td>65</td>\n",
       "      <td>Экскурсионный тур</td>\n",
       "      <td>Самолет</td>\n",
       "      <td>1</td>\n",
       "      <td>Singapore</td>\n",
       "    </tr>\n",
       "    <tr>\n",
       "      <th>996</th>\n",
       "      <td>45000</td>\n",
       "      <td>Сочи</td>\n",
       "      <td>64</td>\n",
       "      <td>Экскурсионный тур</td>\n",
       "      <td>Самолет</td>\n",
       "      <td>2</td>\n",
       "      <td>Singapore</td>\n",
       "    </tr>\n",
       "    <tr>\n",
       "      <th>998</th>\n",
       "      <td>32000</td>\n",
       "      <td>Сочи</td>\n",
       "      <td>65</td>\n",
       "      <td>Экскурсионный тур</td>\n",
       "      <td>Самолет</td>\n",
       "      <td>1</td>\n",
       "      <td>Singapore</td>\n",
       "    </tr>\n",
       "    <tr>\n",
       "      <th>999</th>\n",
       "      <td>130000</td>\n",
       "      <td>Сочи</td>\n",
       "      <td>55</td>\n",
       "      <td>Лечебно-оздоровительный</td>\n",
       "      <td>Самолет</td>\n",
       "      <td>2</td>\n",
       "      <td>Singapore</td>\n",
       "    </tr>\n",
       "  </tbody>\n",
       "</table>\n",
       "<p>390 rows × 7 columns</p>\n",
       "</div>"
      ],
      "text/plain": [
       "     zarabotnaya_plata    gorod  vozrast                 tip_tura  \\\n",
       "1               130000  Апатиты       55        Экскурсионный тур   \n",
       "2               158000  Апатиты       58              Пляжный тур   \n",
       "4               196000  Апатиты       64              Пляжный тур   \n",
       "5               179000  Апатиты       62              Пляжный тур   \n",
       "6               151000  Апатиты       58              Пляжный тур   \n",
       "..                 ...      ...      ...                      ...   \n",
       "993              67000     Сочи       65        Экскурсионный тур   \n",
       "995             158000     Сочи       65        Экскурсионный тур   \n",
       "996              45000     Сочи       64        Экскурсионный тур   \n",
       "998              32000     Сочи       65        Экскурсионный тур   \n",
       "999             130000     Сочи       55  Лечебно-оздоровительный   \n",
       "\n",
       "    vid_transporta  chleni_semyi     kurort  \n",
       "1          Самолет             1     Rimini  \n",
       "2          Самолет             1     Rimini  \n",
       "4          Самолет             2     Rimini  \n",
       "5          Самолет             3     Rimini  \n",
       "6          Самолет             3     Rimini  \n",
       "..             ...           ...        ...  \n",
       "993        Самолет             1  Singapore  \n",
       "995        Самолет             1  Singapore  \n",
       "996        Самолет             2  Singapore  \n",
       "998        Самолет             1  Singapore  \n",
       "999        Самолет             2  Singapore  \n",
       "\n",
       "[390 rows x 7 columns]"
      ]
     },
     "execution_count": 15,
     "metadata": {},
     "output_type": "execute_result"
    }
   ],
   "source": [
    "travelBD[travelBD.vid_transporta == 'Самолет']"
   ]
  },
  {
   "cell_type": "code",
   "execution_count": 16,
   "metadata": {},
   "outputs": [
    {
     "data": {
      "text/plain": [
       "3"
      ]
     },
     "execution_count": 16,
     "metadata": {},
     "output_type": "execute_result"
    }
   ],
   "source": [
    "plane_priority = travelBD[travelBD.vid_transporta == 'Самолет']\n",
    "plane_priority.chleni_semyi.max()"
   ]
  },
  {
   "attachments": {},
   "cell_type": "markdown",
   "metadata": {},
   "source": [
    "2. Создание модели машинного обучения.\n",
    "Задача модели машинного обучения заключается в том, чтобы спрогнозировать рекомендации для новых клиентов, основываясь на их личных данных. Я хочу научить модель машинного обучения рекомендовать курорт новому клиенту. Например, если клиент сообщает свой доход, возраст и все остальные показатели, модель может рекомендовать ему подходящие города, такие как Сингапур, Лос-Анжелес, Римини и т.д. Для этого модель использует информацию о том, куда ранее ездили другие туристы с теми же показателями. Какие города будут предлагаться в качестве рекомендации? Посмотрим на колонку, которая называется «kurort». Это те города, куда ездили туристы. Применим функцию value_counts(): "
   ]
  },
  {
   "cell_type": "code",
   "execution_count": 17,
   "metadata": {},
   "outputs": [
    {
     "data": {
      "text/plain": [
       "Barcelona      203\n",
       "Los Angeles    201\n",
       "Rimini         199\n",
       "Singapore      199\n",
       "Dubai          198\n",
       "Name: kurort, dtype: int64"
      ]
     },
     "execution_count": 17,
     "metadata": {},
     "output_type": "execute_result"
    }
   ],
   "source": [
    "travelBD.kurort.value_counts()"
   ]
  },
  {
   "attachments": {},
   "cell_type": "markdown",
   "metadata": {},
   "source": [
    "Мы получили список возможных городов назначения. Задача выбора наиболее вероятного ответа из заранее заданных возможностей называется задачей классификации. Для решения этой задачи используется модель машинного обучения, называемая классификатором.\n",
    "\n",
    "На вход модели мы будем подавать информацию о нашем клиенте (Х) – это зарплата, город, возраст и так далее (там несколько колонок), а на выходе мы ожидаем получить (Y) - города назначения. "
   ]
  },
  {
   "cell_type": "code",
   "execution_count": 18,
   "metadata": {},
   "outputs": [],
   "source": [
    "# Задача \"Классификации\" - модель МО выбирает наиболее вероятный из заранее известных ответов\n",
    "# Модель - \"Классификатор\"\n",
    "# На вход модели (Х): данные о туристе (ЗП. город, возраст и т.д)\n",
    "# На выходе модели (y): город назначения (kurort)\n",
    "# Задача модели найти закономерности между Х и у\n",
    "# Х => model => y\n",
    "\n",
    "X = travelBD.drop(\"kurort\", axis=1)\n",
    "y = travelBD.kurort\n",
    "\n"
   ]
  },
  {
   "attachments": {},
   "cell_type": "markdown",
   "metadata": {},
   "source": [
    "С помощью функции pandas.get_dummies() уберем буквенные значения в таблице. X_dummies – это развернутая таблица с нулями и единицами, которую мы получили в результате применения функции get_dummies():"
   ]
  },
  {
   "cell_type": "code",
   "execution_count": 19,
   "metadata": {},
   "outputs": [
    {
     "name": "stdout",
     "output_type": "stream",
     "text": [
      "     zarabotnaya_plata  vozrast  chleni_semyi  gorod_Апатиты  \\\n",
      "0               191000       63             2              1   \n",
      "1               130000       55             1              1   \n",
      "2               158000       58             1              1   \n",
      "3               236000       69             2              1   \n",
      "4               196000       64             2              1   \n",
      "..                 ...      ...           ...            ...   \n",
      "995             158000       65             1              0   \n",
      "996              45000       64             2              0   \n",
      "997             108000       63             0              0   \n",
      "998              32000       65             1              0   \n",
      "999             130000       55             2              0   \n",
      "\n",
      "     gorod_Великий-Новгород  gorod_Воронеж  gorod_Минеральные Воды  \\\n",
      "0                         0              0                       0   \n",
      "1                         0              0                       0   \n",
      "2                         0              0                       0   \n",
      "3                         0              0                       0   \n",
      "4                         0              0                       0   \n",
      "..                      ...            ...                     ...   \n",
      "995                       0              0                       0   \n",
      "996                       0              0                       0   \n",
      "997                       0              0                       0   \n",
      "998                       0              0                       0   \n",
      "999                       0              0                       0   \n",
      "\n",
      "     gorod_Москва  gorod_Мурманск  gorod_Петрозаводск  ...  \\\n",
      "0               0               0                   0  ...   \n",
      "1               0               0                   0  ...   \n",
      "2               0               0                   0  ...   \n",
      "3               0               0                   0  ...   \n",
      "4               0               0                   0  ...   \n",
      "..            ...             ...                 ...  ...   \n",
      "995             0               0                   0  ...   \n",
      "996             0               0                   0  ...   \n",
      "997             0               0                   0  ...   \n",
      "998             0               0                   0  ...   \n",
      "999             0               0                   0  ...   \n",
      "\n",
      "     tip_tura_Круизный отдых  tip_tura_Лечебно-оздоровительный  \\\n",
      "0                          0                                 0   \n",
      "1                          0                                 0   \n",
      "2                          0                                 0   \n",
      "3                          1                                 0   \n",
      "4                          0                                 0   \n",
      "..                       ...                               ...   \n",
      "995                        0                                 0   \n",
      "996                        0                                 0   \n",
      "997                        0                                 0   \n",
      "998                        0                                 0   \n",
      "999                        0                                 1   \n",
      "\n",
      "     tip_tura_Лечебно-профилактический  tip_tura_Пляжный тур  \\\n",
      "0                                    0                     0   \n",
      "1                                    0                     0   \n",
      "2                                    0                     1   \n",
      "3                                    0                     0   \n",
      "4                                    0                     1   \n",
      "..                                 ...                   ...   \n",
      "995                                  0                     0   \n",
      "996                                  0                     0   \n",
      "997                                  0                     1   \n",
      "998                                  0                     0   \n",
      "999                                  0                     0   \n",
      "\n",
      "     tip_tura_Шоп-тур  tip_tura_Экскурсионный тур  vid_transporta_Автомобиль  \\\n",
      "0                   0                           1                          0   \n",
      "1                   0                           1                          0   \n",
      "2                   0                           0                          0   \n",
      "3                   0                           0                          0   \n",
      "4                   0                           0                          0   \n",
      "..                ...                         ...                        ...   \n",
      "995                 0                           1                          0   \n",
      "996                 0                           1                          0   \n",
      "997                 0                           0                          0   \n",
      "998                 0                           1                          0   \n",
      "999                 0                           0                          0   \n",
      "\n",
      "     vid_transporta_Морской транспорт  vid_transporta_Поезд  \\\n",
      "0                                   1                     0   \n",
      "1                                   0                     0   \n",
      "2                                   0                     0   \n",
      "3                                   1                     0   \n",
      "4                                   0                     0   \n",
      "..                                ...                   ...   \n",
      "995                                 0                     0   \n",
      "996                                 0                     0   \n",
      "997                                 1                     0   \n",
      "998                                 0                     0   \n",
      "999                                 0                     0   \n",
      "\n",
      "     vid_transporta_Самолет  \n",
      "0                         0  \n",
      "1                         1  \n",
      "2                         1  \n",
      "3                         0  \n",
      "4                         1  \n",
      "..                      ...  \n",
      "995                       1  \n",
      "996                       1  \n",
      "997                       0  \n",
      "998                       1  \n",
      "999                       1  \n",
      "\n",
      "[1000 rows x 24 columns]\n"
     ]
    }
   ],
   "source": [
    "X_dummies = pandas.get_dummies(X, columns=[\"gorod\", \"tip_tura\", \"vid_transporta\"])\n",
    "\n",
    "print (X_dummies)\n"
   ]
  },
  {
   "attachments": {},
   "cell_type": "markdown",
   "metadata": {},
   "source": [
    "Я выберу алгоритм машинного обучения \"случайные леса\" так как они подходят для решения задачи классификации.\n",
    "Библиотека scikit-learn предоставляет реализации многих алгоритмов машинного обучения, включая Random Forest Classifier.\n",
    "Мы приступаем к обучению модели, для этого используем функцию model.fit(). Ключевым моментом в этом процессе является то, что мы просим модель подстроиться под данные x и y, а не просто обучиться на них напрямую. Именно поэтому метод обучения называется fit, что на английском языке означает \"подстроиться\". Таким образом, модель будет аккуратно и плавно подстраиваться к этим конкретным данным x и y.\n",
    "В конечном итоге, качество модели будет зависеть от того, насколько точный и качественный пример и качество данных:\n"
   ]
  },
  {
   "cell_type": "code",
   "execution_count": 20,
   "metadata": {},
   "outputs": [
    {
     "data": {
      "text/html": [
       "<style>#sk-container-id-1 {color: black;background-color: white;}#sk-container-id-1 pre{padding: 0;}#sk-container-id-1 div.sk-toggleable {background-color: white;}#sk-container-id-1 label.sk-toggleable__label {cursor: pointer;display: block;width: 100%;margin-bottom: 0;padding: 0.3em;box-sizing: border-box;text-align: center;}#sk-container-id-1 label.sk-toggleable__label-arrow:before {content: \"▸\";float: left;margin-right: 0.25em;color: #696969;}#sk-container-id-1 label.sk-toggleable__label-arrow:hover:before {color: black;}#sk-container-id-1 div.sk-estimator:hover label.sk-toggleable__label-arrow:before {color: black;}#sk-container-id-1 div.sk-toggleable__content {max-height: 0;max-width: 0;overflow: hidden;text-align: left;background-color: #f0f8ff;}#sk-container-id-1 div.sk-toggleable__content pre {margin: 0.2em;color: black;border-radius: 0.25em;background-color: #f0f8ff;}#sk-container-id-1 input.sk-toggleable__control:checked~div.sk-toggleable__content {max-height: 200px;max-width: 100%;overflow: auto;}#sk-container-id-1 input.sk-toggleable__control:checked~label.sk-toggleable__label-arrow:before {content: \"▾\";}#sk-container-id-1 div.sk-estimator input.sk-toggleable__control:checked~label.sk-toggleable__label {background-color: #d4ebff;}#sk-container-id-1 div.sk-label input.sk-toggleable__control:checked~label.sk-toggleable__label {background-color: #d4ebff;}#sk-container-id-1 input.sk-hidden--visually {border: 0;clip: rect(1px 1px 1px 1px);clip: rect(1px, 1px, 1px, 1px);height: 1px;margin: -1px;overflow: hidden;padding: 0;position: absolute;width: 1px;}#sk-container-id-1 div.sk-estimator {font-family: monospace;background-color: #f0f8ff;border: 1px dotted black;border-radius: 0.25em;box-sizing: border-box;margin-bottom: 0.5em;}#sk-container-id-1 div.sk-estimator:hover {background-color: #d4ebff;}#sk-container-id-1 div.sk-parallel-item::after {content: \"\";width: 100%;border-bottom: 1px solid gray;flex-grow: 1;}#sk-container-id-1 div.sk-label:hover label.sk-toggleable__label {background-color: #d4ebff;}#sk-container-id-1 div.sk-serial::before {content: \"\";position: absolute;border-left: 1px solid gray;box-sizing: border-box;top: 0;bottom: 0;left: 50%;z-index: 0;}#sk-container-id-1 div.sk-serial {display: flex;flex-direction: column;align-items: center;background-color: white;padding-right: 0.2em;padding-left: 0.2em;position: relative;}#sk-container-id-1 div.sk-item {position: relative;z-index: 1;}#sk-container-id-1 div.sk-parallel {display: flex;align-items: stretch;justify-content: center;background-color: white;position: relative;}#sk-container-id-1 div.sk-item::before, #sk-container-id-1 div.sk-parallel-item::before {content: \"\";position: absolute;border-left: 1px solid gray;box-sizing: border-box;top: 0;bottom: 0;left: 50%;z-index: -1;}#sk-container-id-1 div.sk-parallel-item {display: flex;flex-direction: column;z-index: 1;position: relative;background-color: white;}#sk-container-id-1 div.sk-parallel-item:first-child::after {align-self: flex-end;width: 50%;}#sk-container-id-1 div.sk-parallel-item:last-child::after {align-self: flex-start;width: 50%;}#sk-container-id-1 div.sk-parallel-item:only-child::after {width: 0;}#sk-container-id-1 div.sk-dashed-wrapped {border: 1px dashed gray;margin: 0 0.4em 0.5em 0.4em;box-sizing: border-box;padding-bottom: 0.4em;background-color: white;}#sk-container-id-1 div.sk-label label {font-family: monospace;font-weight: bold;display: inline-block;line-height: 1.2em;}#sk-container-id-1 div.sk-label-container {text-align: center;}#sk-container-id-1 div.sk-container {/* jupyter's `normalize.less` sets `[hidden] { display: none; }` but bootstrap.min.css set `[hidden] { display: none !important; }` so we also need the `!important` here to be able to override the default hidden behavior on the sphinx rendered scikit-learn.org. See: https://github.com/scikit-learn/scikit-learn/issues/21755 */display: inline-block !important;position: relative;}#sk-container-id-1 div.sk-text-repr-fallback {display: none;}</style><div id=\"sk-container-id-1\" class=\"sk-top-container\"><div class=\"sk-text-repr-fallback\"><pre>RandomForestClassifier()</pre><b>In a Jupyter environment, please rerun this cell to show the HTML representation or trust the notebook. <br />On GitHub, the HTML representation is unable to render, please try loading this page with nbviewer.org.</b></div><div class=\"sk-container\" hidden><div class=\"sk-item\"><div class=\"sk-estimator sk-toggleable\"><input class=\"sk-toggleable__control sk-hidden--visually\" id=\"sk-estimator-id-1\" type=\"checkbox\" checked><label for=\"sk-estimator-id-1\" class=\"sk-toggleable__label sk-toggleable__label-arrow\">RandomForestClassifier</label><div class=\"sk-toggleable__content\"><pre>RandomForestClassifier()</pre></div></div></div></div></div>"
      ],
      "text/plain": [
       "RandomForestClassifier()"
      ]
     },
     "execution_count": 20,
     "metadata": {},
     "output_type": "execute_result"
    }
   ],
   "source": [
    "\n",
    "from sklearn.ensemble import RandomForestClassifier\n",
    "\n",
    "model = RandomForestClassifier ()\n",
    "\n",
    "model.fit (X_dummies, y)\n"
   ]
  },
  {
   "attachments": {},
   "cell_type": "markdown",
   "metadata": {},
   "source": [
    "Модель готова к использованию, но прежде чем начать ее применять, необходимо оценить ее качество. Это позволит узнать, насколько точно модель обучилась и способна ли она распознавать закономерности. Одна из первых метрик, которую я использую, - это точность на тренировочной выборке accuracy / train dataset. Это число, которое показывает, насколько хорошо модель усвоила данные. Таким образом, перед использованием модели необходимо провести оценку ее качества с помощью различных метрик, начиная с точности на тренировочной выборке:\n",
    "model.score (X_dummies, y)\n",
    "\n",
    "Score () - это функция, которая оценивает эффективность. В машинном обучении она используется для оценки эффективности модели на тестовых данных. Он представляет собой числовую метрику, которая выражает, насколько точно модель способна предсказывать целевую переменную на новых данных. Если значение score() близко к 1, то это означает, что модель предсказывает целевые значения точно, а если score() близко к 0, то модель плохо справляется с предсказанием.\n"
   ]
  },
  {
   "cell_type": "code",
   "execution_count": 21,
   "metadata": {},
   "outputs": [
    {
     "data": {
      "text/plain": [
       "1.0"
      ]
     },
     "execution_count": 21,
     "metadata": {},
     "output_type": "execute_result"
    }
   ],
   "source": [
    "model.score (X_dummies, y)"
   ]
  },
  {
   "attachments": {},
   "cell_type": "markdown",
   "metadata": {},
   "source": [
    "Значение score() равно 1, значит модель была обучена хорошо. Для проверки работы модели мы можем ввести данные нового клиента и использовать модель для прогнозирования результатов. Для этого использую команду:\n",
    " X_dummies.columns.\n"
   ]
  },
  {
   "cell_type": "code",
   "execution_count": 22,
   "metadata": {},
   "outputs": [
    {
     "data": {
      "text/plain": [
       "Index(['zarabotnaya_plata', 'vozrast', 'chleni_semyi', 'gorod_Апатиты',\n",
       "       'gorod_Великий-Новгород', 'gorod_Воронеж', 'gorod_Минеральные Воды',\n",
       "       'gorod_Москва', 'gorod_Мурманск', 'gorod_Петрозаводск', 'gorod_Самара',\n",
       "       'gorod_Санкт-Петербург', 'gorod_Сегежа', 'gorod_Сочи',\n",
       "       'tip_tura_Круизный отдых', 'tip_tura_Лечебно-оздоровительный',\n",
       "       'tip_tura_Лечебно-профилактический', 'tip_tura_Пляжный тур',\n",
       "       'tip_tura_Шоп-тур', 'tip_tura_Экскурсионный тур',\n",
       "       'vid_transporta_Автомобиль', 'vid_transporta_Морской транспорт',\n",
       "       'vid_transporta_Поезд', 'vid_transporta_Самолет'],\n",
       "      dtype='object')"
      ]
     },
     "execution_count": 22,
     "metadata": {},
     "output_type": "execute_result"
    }
   ],
   "source": [
    "X_dummies.columns"
   ]
  },
  {
   "attachments": {},
   "cell_type": "markdown",
   "metadata": {},
   "source": [
    "Для удобства ввода расположим данные в столбик:"
   ]
  },
  {
   "cell_type": "code",
   "execution_count": 23,
   "metadata": {},
   "outputs": [
    {
     "data": {
      "text/plain": [
       "{'zarabotnaya_plata': [0],\n",
       " 'vozrast': [0],\n",
       " 'chleni_semyi': [0],\n",
       " 'gorod_Апатиты': [0],\n",
       " 'gorod_Великий-Новгород': [0],\n",
       " 'gorod_Воронеж': [0],\n",
       " 'gorod_Минеральные Воды': [0],\n",
       " 'gorod_Москва': [0],\n",
       " 'gorod_Мурманск': [0],\n",
       " 'gorod_Петрозаводск': [0],\n",
       " 'gorod_Самара': [0],\n",
       " 'gorod_Санкт-Петербург': [0],\n",
       " 'gorod_Сегежа': [0],\n",
       " 'gorod_Сочи': [0],\n",
       " 'tip_tura_Круизный отдых': [0],\n",
       " 'tip_tura_Лечебно-оздоровительный': [0],\n",
       " 'tip_tura_Лечебно-профилактический': [0],\n",
       " 'tip_tura_Пляжный тур': [0],\n",
       " 'tip_tura_Шоп-тур': [0],\n",
       " 'tip_tura_Экскурсионный тур': [0],\n",
       " 'vid_transporta_Автомобиль': [0],\n",
       " 'vid_transporta_Морской транспорт': [0],\n",
       " 'vid_transporta_Поезд': [0],\n",
       " 'vid_transporta_Самолет': [0]}"
      ]
     },
     "execution_count": 23,
     "metadata": {},
     "output_type": "execute_result"
    }
   ],
   "source": [
    "{col: [0] for col in X_dummies.columns} "
   ]
  },
  {
   "attachments": {},
   "cell_type": "markdown",
   "metadata": {},
   "source": [
    "Шаблон готов. Теперь скопирую и вставлю в свой код и заполню данные нового клиента. Допустим, это будет житель города Москва, с заработной платой 120 000 рублей, возраст 63 года, у которого 1 член семьи. Он едет в лечебно-оздоровит тур на самолете."
   ]
  },
  {
   "cell_type": "code",
   "execution_count": 24,
   "metadata": {},
   "outputs": [],
   "source": [
    "example = {'zarabotnaya_plata': [120000],\n",
    " 'vozrast': [63],\n",
    " 'chleni_semyi': [1],\n",
    " 'gorod_Апатиты': [0],\n",
    " 'gorod_Великий-Новгород': [0],\n",
    " 'gorod_Воронеж': [0],\n",
    " 'gorod_Минеральные Воды': [0],\n",
    " 'gorod_Москва': [1],\n",
    " 'gorod_Мурманск': [0],\n",
    " 'gorod_Петрозаводск': [0],\n",
    " 'gorod_Самара': [0],\n",
    " 'gorod_Санкт-Петербург': [0],\n",
    " 'gorod_Сегежа': [0],\n",
    " 'gorod_Сочи': [0],\n",
    " 'tip_tura_Круизный отдых': [0],\n",
    " 'tip_tura_Лечебно-оздоровительный': [1],\n",
    " 'tip_tura_Лечебно-профилактический': [0],\n",
    " 'tip_tura_Пляжный тур': [0],\n",
    " 'tip_tura_Шоп-тур': [0],\n",
    " 'tip_tura_Экскурсионный тур': [0],\n",
    " 'vid_transporta_Автомобиль': [0],\n",
    " 'vid_transporta_Морской транспорт': [0],\n",
    " 'vid_transporta_Поезд': [0],\n",
    " 'vid_transporta_Самолет': [1]}\n",
    "\n",
    "example_df = pandas.DataFrame(data=example, columns=X_dummies.columns)"
   ]
  },
  {
   "attachments": {},
   "cell_type": "markdown",
   "metadata": {},
   "source": [
    "\n",
    "Теперь преобразуем данные в формат pandas –таблицы::"
   ]
  },
  {
   "cell_type": "code",
   "execution_count": 25,
   "metadata": {},
   "outputs": [
    {
     "data": {
      "text/html": [
       "<div>\n",
       "<style scoped>\n",
       "    .dataframe tbody tr th:only-of-type {\n",
       "        vertical-align: middle;\n",
       "    }\n",
       "\n",
       "    .dataframe tbody tr th {\n",
       "        vertical-align: top;\n",
       "    }\n",
       "\n",
       "    .dataframe thead th {\n",
       "        text-align: right;\n",
       "    }\n",
       "</style>\n",
       "<table border=\"1\" class=\"dataframe\">\n",
       "  <thead>\n",
       "    <tr style=\"text-align: right;\">\n",
       "      <th></th>\n",
       "      <th>zarabotnaya_plata</th>\n",
       "      <th>vozrast</th>\n",
       "      <th>chleni_semyi</th>\n",
       "      <th>gorod_Апатиты</th>\n",
       "      <th>gorod_Великий-Новгород</th>\n",
       "      <th>gorod_Воронеж</th>\n",
       "      <th>gorod_Минеральные Воды</th>\n",
       "      <th>gorod_Москва</th>\n",
       "      <th>gorod_Мурманск</th>\n",
       "      <th>gorod_Петрозаводск</th>\n",
       "      <th>...</th>\n",
       "      <th>tip_tura_Круизный отдых</th>\n",
       "      <th>tip_tura_Лечебно-оздоровительный</th>\n",
       "      <th>tip_tura_Лечебно-профилактический</th>\n",
       "      <th>tip_tura_Пляжный тур</th>\n",
       "      <th>tip_tura_Шоп-тур</th>\n",
       "      <th>tip_tura_Экскурсионный тур</th>\n",
       "      <th>vid_transporta_Автомобиль</th>\n",
       "      <th>vid_transporta_Морской транспорт</th>\n",
       "      <th>vid_transporta_Поезд</th>\n",
       "      <th>vid_transporta_Самолет</th>\n",
       "    </tr>\n",
       "  </thead>\n",
       "  <tbody>\n",
       "    <tr>\n",
       "      <th>0</th>\n",
       "      <td>120000</td>\n",
       "      <td>63</td>\n",
       "      <td>1</td>\n",
       "      <td>0</td>\n",
       "      <td>0</td>\n",
       "      <td>0</td>\n",
       "      <td>0</td>\n",
       "      <td>1</td>\n",
       "      <td>0</td>\n",
       "      <td>0</td>\n",
       "      <td>...</td>\n",
       "      <td>0</td>\n",
       "      <td>1</td>\n",
       "      <td>0</td>\n",
       "      <td>0</td>\n",
       "      <td>0</td>\n",
       "      <td>0</td>\n",
       "      <td>0</td>\n",
       "      <td>0</td>\n",
       "      <td>0</td>\n",
       "      <td>1</td>\n",
       "    </tr>\n",
       "  </tbody>\n",
       "</table>\n",
       "<p>1 rows × 24 columns</p>\n",
       "</div>"
      ],
      "text/plain": [
       "   zarabotnaya_plata  vozrast  chleni_semyi  gorod_Апатиты  \\\n",
       "0             120000       63             1              0   \n",
       "\n",
       "   gorod_Великий-Новгород  gorod_Воронеж  gorod_Минеральные Воды  \\\n",
       "0                       0              0                       0   \n",
       "\n",
       "   gorod_Москва  gorod_Мурманск  gorod_Петрозаводск  ...  \\\n",
       "0             1               0                   0  ...   \n",
       "\n",
       "   tip_tura_Круизный отдых  tip_tura_Лечебно-оздоровительный  \\\n",
       "0                        0                                 1   \n",
       "\n",
       "   tip_tura_Лечебно-профилактический  tip_tura_Пляжный тур  tip_tura_Шоп-тур  \\\n",
       "0                                  0                     0                 0   \n",
       "\n",
       "   tip_tura_Экскурсионный тур  vid_transporta_Автомобиль  \\\n",
       "0                           0                          0   \n",
       "\n",
       "   vid_transporta_Морской транспорт  vid_transporta_Поезд  \\\n",
       "0                                 0                     0   \n",
       "\n",
       "   vid_transporta_Самолет  \n",
       "0                       1  \n",
       "\n",
       "[1 rows x 24 columns]"
      ]
     },
     "execution_count": 25,
     "metadata": {},
     "output_type": "execute_result"
    }
   ],
   "source": [
    "example_df"
   ]
  },
  {
   "attachments": {},
   "cell_type": "markdown",
   "metadata": {},
   "source": [
    "Введу функцию для предсказания города, в который можно отправить нового туриста:\n",
    "model.predict(example_df)\n",
    "Функция predict() используется в машинном обучении для прогнозирования выходных значений, основанных на входных множествах данных. \n"
   ]
  },
  {
   "cell_type": "code",
   "execution_count": 26,
   "metadata": {},
   "outputs": [
    {
     "data": {
      "text/plain": [
       "array(['Barcelona'], dtype=object)"
      ]
     },
     "execution_count": 26,
     "metadata": {},
     "output_type": "execute_result"
    }
   ],
   "source": [
    "model.predict(example_df)"
   ]
  },
  {
   "attachments": {},
   "cell_type": "markdown",
   "metadata": {},
   "source": [
    "Модель предсказала, что клиенту следует отправиться в город Барселона. Однако, поскольку модель имеет в своем названии слово \"Random\" не случайно, она может предложить и другие варианты мест для посещения. Чтобы узнать, какие другие города могут быть хорошими вариантами, нужно анализировать вероятности, которые выдаст модель. Среди возможных вариантов можно искать те, которые также имеют высокую вероятность и рекомендовать их клиенту:"
   ]
  },
  {
   "cell_type": "code",
   "execution_count": 27,
   "metadata": {},
   "outputs": [
    {
     "data": {
      "text/plain": [
       "array([[0.57, 0.2 , 0.01, 0.06, 0.16]])"
      ]
     },
     "execution_count": 27,
     "metadata": {},
     "output_type": "execute_result"
    }
   ],
   "source": [
    "model.predict_proba(example_df)"
   ]
  },
  {
   "attachments": {},
   "cell_type": "markdown",
   "metadata": {},
   "source": [
    "Использование predict_proba в моделях классификации может помочь в принятии решения на основе вероятностной информации, а также в выявлении объектов, для которых модель не уверена в правильной классификации. Порядок этих вариантов – это порядок следования городов."
   ]
  },
  {
   "cell_type": "code",
   "execution_count": 28,
   "metadata": {},
   "outputs": [
    {
     "data": {
      "text/plain": [
       "array(['Barcelona', 'Dubai', 'Los Angeles', 'Rimini', 'Singapore'],\n",
       "      dtype=object)"
      ]
     },
     "execution_count": 28,
     "metadata": {},
     "output_type": "execute_result"
    }
   ],
   "source": [
    "model.classes_"
   ]
  },
  {
   "attachments": {},
   "cell_type": "markdown",
   "metadata": {},
   "source": [
    "Вероятность 1 варианта – Барселона - 41 %\n",
    "Вероятность 2 варианта – Дубай - 28 %\n",
    "Вероятность 3 варианта – Лос-Анжелес - 0 %\n",
    "Вероятность 4 варианта – Римини - 9 %\n",
    "Вероятность 5 варианта – Сингапур - 22 %\n",
    "Задача модели – выбрать заранее один из заранее известных вариантов.\n",
    "В реальности она не просто выбирает - она распределяет вероятности между всеми существующими классами – ответами. Сумма процентов даст единицу - 100%.\n",
    "В итоге я проанализировала данные, построила первую простую модель и научилась её использовать для предсказания. Также изучила распределение вероятностей и определила оптимальное направление для отправки нового туриста\n"
   ]
  }
 ],
 "metadata": {
  "kernelspec": {
   "display_name": "Python 3",
   "language": "python",
   "name": "python3"
  },
  "language_info": {
   "codemirror_mode": {
    "name": "ipython",
    "version": 3
   },
   "file_extension": ".py",
   "mimetype": "text/x-python",
   "name": "python",
   "nbconvert_exporter": "python",
   "pygments_lexer": "ipython3",
   "version": "3.11.1"
  },
  "orig_nbformat": 4
 },
 "nbformat": 4,
 "nbformat_minor": 2
}
