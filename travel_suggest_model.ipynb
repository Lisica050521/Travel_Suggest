{
 "cells": [
  {
   "attachments": {},
   "cell_type": "markdown",
   "metadata": {},
   "source": [
    "# \"Travel Suggest\" \n",
    "Это проект для туристического бизнеса, целью которого является рекомендация новому туристу города для посещения в зависимости от его данных. На основе данных о существующих клиентах туристического агентства я построю модель машинного обучения, которая будет предсказывать город назначения новому клиенту. \n",
    "\n",
    "## 1. Анализ данных.   \n",
    "Для начала проанализирую данные. Создам переменную, которая будет содержать данные клиентов туристического агентства:"
   ]
  },
  {
   "cell_type": "code",
   "execution_count": 166,
   "metadata": {},
   "outputs": [],
   "source": [
    "import pandas\n",
    "\n",
    "# Читаем файл в формате Эксель и кладем результат в переменную travelBD\n",
    "\n",
    "travelBD = pandas.read_excel(\"/Travel_Suggest/travelBD.xlsx\")"
   ]
  },
  {
   "attachments": {},
   "cell_type": "markdown",
   "metadata": {},
   "source": [
    "Рассмотрим данные, которые находятся в файле. Для этого применим функцию head(). На экране выведутся первые пять строчек таблицы. \n",
    "Здесь мы можем увидеть названия колонок таблицы, первые пять значений и порядковые номера строк от 0 до 4. "
   ]
  },
  {
   "cell_type": "code",
   "execution_count": 167,
   "metadata": {},
   "outputs": [
    {
     "data": {
      "text/html": [
       "<div>\n",
       "<style scoped>\n",
       "    .dataframe tbody tr th:only-of-type {\n",
       "        vertical-align: middle;\n",
       "    }\n",
       "\n",
       "    .dataframe tbody tr th {\n",
       "        vertical-align: top;\n",
       "    }\n",
       "\n",
       "    .dataframe thead th {\n",
       "        text-align: right;\n",
       "    }\n",
       "</style>\n",
       "<table border=\"1\" class=\"dataframe\">\n",
       "  <thead>\n",
       "    <tr style=\"text-align: right;\">\n",
       "      <th></th>\n",
       "      <th>zarabotnaya_plata</th>\n",
       "      <th>gorod</th>\n",
       "      <th>vozrast</th>\n",
       "      <th>tip_tura</th>\n",
       "      <th>vid_transporta</th>\n",
       "      <th>chleni_semyi</th>\n",
       "      <th>kurort</th>\n",
       "    </tr>\n",
       "  </thead>\n",
       "  <tbody>\n",
       "    <tr>\n",
       "      <th>0</th>\n",
       "      <td>191000</td>\n",
       "      <td>Апатиты</td>\n",
       "      <td>63</td>\n",
       "      <td>Экскурсионный тур</td>\n",
       "      <td>Морской транспорт</td>\n",
       "      <td>2</td>\n",
       "      <td>Rimini</td>\n",
       "    </tr>\n",
       "    <tr>\n",
       "      <th>1</th>\n",
       "      <td>130000</td>\n",
       "      <td>Апатиты</td>\n",
       "      <td>55</td>\n",
       "      <td>Экскурсионный тур</td>\n",
       "      <td>Самолет</td>\n",
       "      <td>1</td>\n",
       "      <td>Rimini</td>\n",
       "    </tr>\n",
       "    <tr>\n",
       "      <th>2</th>\n",
       "      <td>158000</td>\n",
       "      <td>Апатиты</td>\n",
       "      <td>58</td>\n",
       "      <td>Пляжный тур</td>\n",
       "      <td>Самолет</td>\n",
       "      <td>1</td>\n",
       "      <td>Rimini</td>\n",
       "    </tr>\n",
       "    <tr>\n",
       "      <th>3</th>\n",
       "      <td>236000</td>\n",
       "      <td>Апатиты</td>\n",
       "      <td>69</td>\n",
       "      <td>Круизный отдых</td>\n",
       "      <td>Морской транспорт</td>\n",
       "      <td>2</td>\n",
       "      <td>Rimini</td>\n",
       "    </tr>\n",
       "    <tr>\n",
       "      <th>4</th>\n",
       "      <td>196000</td>\n",
       "      <td>Апатиты</td>\n",
       "      <td>64</td>\n",
       "      <td>Пляжный тур</td>\n",
       "      <td>Самолет</td>\n",
       "      <td>2</td>\n",
       "      <td>Rimini</td>\n",
       "    </tr>\n",
       "  </tbody>\n",
       "</table>\n",
       "</div>"
      ],
      "text/plain": [
       "   zarabotnaya_plata    gorod  vozrast           tip_tura     vid_transporta  \\\n",
       "0             191000  Апатиты       63  Экскурсионный тур  Морской транспорт   \n",
       "1             130000  Апатиты       55  Экскурсионный тур            Самолет   \n",
       "2             158000  Апатиты       58        Пляжный тур            Самолет   \n",
       "3             236000  Апатиты       69     Круизный отдых  Морской транспорт   \n",
       "4             196000  Апатиты       64        Пляжный тур            Самолет   \n",
       "\n",
       "   chleni_semyi  kurort  \n",
       "0             2  Rimini  \n",
       "1             1  Rimini  \n",
       "2             1  Rimini  \n",
       "3             2  Rimini  \n",
       "4             2  Rimini  "
      ]
     },
     "execution_count": 167,
     "metadata": {},
     "output_type": "execute_result"
    }
   ],
   "source": [
    "travelBD.head() # Выводит первые несколько строк"
   ]
  },
  {
   "cell_type": "markdown",
   "metadata": {},
   "source": [
    "Если необходимо показать более 5 строк, например первые 10-15 строк в наборе данных, нужно передать функции head() соответствующий числовой аргумент. Код travelBD.head(n=10) покажет первые 10 строк:"
   ]
  },
  {
   "cell_type": "code",
   "execution_count": 168,
   "metadata": {},
   "outputs": [
    {
     "data": {
      "text/html": [
       "<div>\n",
       "<style scoped>\n",
       "    .dataframe tbody tr th:only-of-type {\n",
       "        vertical-align: middle;\n",
       "    }\n",
       "\n",
       "    .dataframe tbody tr th {\n",
       "        vertical-align: top;\n",
       "    }\n",
       "\n",
       "    .dataframe thead th {\n",
       "        text-align: right;\n",
       "    }\n",
       "</style>\n",
       "<table border=\"1\" class=\"dataframe\">\n",
       "  <thead>\n",
       "    <tr style=\"text-align: right;\">\n",
       "      <th></th>\n",
       "      <th>zarabotnaya_plata</th>\n",
       "      <th>gorod</th>\n",
       "      <th>vozrast</th>\n",
       "      <th>tip_tura</th>\n",
       "      <th>vid_transporta</th>\n",
       "      <th>chleni_semyi</th>\n",
       "      <th>kurort</th>\n",
       "    </tr>\n",
       "  </thead>\n",
       "  <tbody>\n",
       "    <tr>\n",
       "      <th>0</th>\n",
       "      <td>191000</td>\n",
       "      <td>Апатиты</td>\n",
       "      <td>63</td>\n",
       "      <td>Экскурсионный тур</td>\n",
       "      <td>Морской транспорт</td>\n",
       "      <td>2</td>\n",
       "      <td>Rimini</td>\n",
       "    </tr>\n",
       "    <tr>\n",
       "      <th>1</th>\n",
       "      <td>130000</td>\n",
       "      <td>Апатиты</td>\n",
       "      <td>55</td>\n",
       "      <td>Экскурсионный тур</td>\n",
       "      <td>Самолет</td>\n",
       "      <td>1</td>\n",
       "      <td>Rimini</td>\n",
       "    </tr>\n",
       "    <tr>\n",
       "      <th>2</th>\n",
       "      <td>158000</td>\n",
       "      <td>Апатиты</td>\n",
       "      <td>58</td>\n",
       "      <td>Пляжный тур</td>\n",
       "      <td>Самолет</td>\n",
       "      <td>1</td>\n",
       "      <td>Rimini</td>\n",
       "    </tr>\n",
       "    <tr>\n",
       "      <th>3</th>\n",
       "      <td>236000</td>\n",
       "      <td>Апатиты</td>\n",
       "      <td>69</td>\n",
       "      <td>Круизный отдых</td>\n",
       "      <td>Морской транспорт</td>\n",
       "      <td>2</td>\n",
       "      <td>Rimini</td>\n",
       "    </tr>\n",
       "    <tr>\n",
       "      <th>4</th>\n",
       "      <td>196000</td>\n",
       "      <td>Апатиты</td>\n",
       "      <td>64</td>\n",
       "      <td>Пляжный тур</td>\n",
       "      <td>Самолет</td>\n",
       "      <td>2</td>\n",
       "      <td>Rimini</td>\n",
       "    </tr>\n",
       "    <tr>\n",
       "      <th>5</th>\n",
       "      <td>179000</td>\n",
       "      <td>Апатиты</td>\n",
       "      <td>62</td>\n",
       "      <td>Пляжный тур</td>\n",
       "      <td>Самолет</td>\n",
       "      <td>3</td>\n",
       "      <td>Rimini</td>\n",
       "    </tr>\n",
       "    <tr>\n",
       "      <th>6</th>\n",
       "      <td>151000</td>\n",
       "      <td>Апатиты</td>\n",
       "      <td>58</td>\n",
       "      <td>Пляжный тур</td>\n",
       "      <td>Самолет</td>\n",
       "      <td>3</td>\n",
       "      <td>Rimini</td>\n",
       "    </tr>\n",
       "    <tr>\n",
       "      <th>7</th>\n",
       "      <td>187000</td>\n",
       "      <td>Апатиты</td>\n",
       "      <td>60</td>\n",
       "      <td>Экскурсионный тур</td>\n",
       "      <td>Морской транспорт</td>\n",
       "      <td>1</td>\n",
       "      <td>Rimini</td>\n",
       "    </tr>\n",
       "    <tr>\n",
       "      <th>8</th>\n",
       "      <td>221000</td>\n",
       "      <td>Апатиты</td>\n",
       "      <td>71</td>\n",
       "      <td>Пляжный тур</td>\n",
       "      <td>Самолет</td>\n",
       "      <td>0</td>\n",
       "      <td>Rimini</td>\n",
       "    </tr>\n",
       "    <tr>\n",
       "      <th>9</th>\n",
       "      <td>141000</td>\n",
       "      <td>Апатиты</td>\n",
       "      <td>57</td>\n",
       "      <td>Пляжный тур</td>\n",
       "      <td>Самолет</td>\n",
       "      <td>3</td>\n",
       "      <td>Rimini</td>\n",
       "    </tr>\n",
       "  </tbody>\n",
       "</table>\n",
       "</div>"
      ],
      "text/plain": [
       "   zarabotnaya_plata    gorod  vozrast           tip_tura     vid_transporta  \\\n",
       "0             191000  Апатиты       63  Экскурсионный тур  Морской транспорт   \n",
       "1             130000  Апатиты       55  Экскурсионный тур            Самолет   \n",
       "2             158000  Апатиты       58        Пляжный тур            Самолет   \n",
       "3             236000  Апатиты       69     Круизный отдых  Морской транспорт   \n",
       "4             196000  Апатиты       64        Пляжный тур            Самолет   \n",
       "5             179000  Апатиты       62        Пляжный тур            Самолет   \n",
       "6             151000  Апатиты       58        Пляжный тур            Самолет   \n",
       "7             187000  Апатиты       60  Экскурсионный тур  Морской транспорт   \n",
       "8             221000  Апатиты       71        Пляжный тур            Самолет   \n",
       "9             141000  Апатиты       57        Пляжный тур            Самолет   \n",
       "\n",
       "   chleni_semyi  kurort  \n",
       "0             2  Rimini  \n",
       "1             1  Rimini  \n",
       "2             1  Rimini  \n",
       "3             2  Rimini  \n",
       "4             2  Rimini  \n",
       "5             3  Rimini  \n",
       "6             3  Rimini  \n",
       "7             1  Rimini  \n",
       "8             0  Rimini  \n",
       "9             3  Rimini  "
      ]
     },
     "execution_count": 168,
     "metadata": {},
     "output_type": "execute_result"
    }
   ],
   "source": [
    "travelBD.head(n=10) "
   ]
  },
  {
   "cell_type": "markdown",
   "metadata": {},
   "source": [
    "Есть еще одна функция, которая похожа на head(), называется tail(). Ее можно использовать ее вместо head(), чтобы получить несколько последних строк"
   ]
  },
  {
   "cell_type": "code",
   "execution_count": 169,
   "metadata": {},
   "outputs": [
    {
     "data": {
      "text/html": [
       "<div>\n",
       "<style scoped>\n",
       "    .dataframe tbody tr th:only-of-type {\n",
       "        vertical-align: middle;\n",
       "    }\n",
       "\n",
       "    .dataframe tbody tr th {\n",
       "        vertical-align: top;\n",
       "    }\n",
       "\n",
       "    .dataframe thead th {\n",
       "        text-align: right;\n",
       "    }\n",
       "</style>\n",
       "<table border=\"1\" class=\"dataframe\">\n",
       "  <thead>\n",
       "    <tr style=\"text-align: right;\">\n",
       "      <th></th>\n",
       "      <th>zarabotnaya_plata</th>\n",
       "      <th>gorod</th>\n",
       "      <th>vozrast</th>\n",
       "      <th>tip_tura</th>\n",
       "      <th>vid_transporta</th>\n",
       "      <th>chleni_semyi</th>\n",
       "      <th>kurort</th>\n",
       "    </tr>\n",
       "  </thead>\n",
       "  <tbody>\n",
       "    <tr>\n",
       "      <th>995</th>\n",
       "      <td>158000</td>\n",
       "      <td>Сочи</td>\n",
       "      <td>65</td>\n",
       "      <td>Экскурсионный тур</td>\n",
       "      <td>Самолет</td>\n",
       "      <td>1</td>\n",
       "      <td>Singapore</td>\n",
       "    </tr>\n",
       "    <tr>\n",
       "      <th>996</th>\n",
       "      <td>45000</td>\n",
       "      <td>Сочи</td>\n",
       "      <td>64</td>\n",
       "      <td>Экскурсионный тур</td>\n",
       "      <td>Самолет</td>\n",
       "      <td>2</td>\n",
       "      <td>Singapore</td>\n",
       "    </tr>\n",
       "    <tr>\n",
       "      <th>997</th>\n",
       "      <td>108000</td>\n",
       "      <td>Сочи</td>\n",
       "      <td>63</td>\n",
       "      <td>Пляжный тур</td>\n",
       "      <td>Морской транспорт</td>\n",
       "      <td>0</td>\n",
       "      <td>Singapore</td>\n",
       "    </tr>\n",
       "    <tr>\n",
       "      <th>998</th>\n",
       "      <td>32000</td>\n",
       "      <td>Сочи</td>\n",
       "      <td>65</td>\n",
       "      <td>Экскурсионный тур</td>\n",
       "      <td>Самолет</td>\n",
       "      <td>1</td>\n",
       "      <td>Singapore</td>\n",
       "    </tr>\n",
       "    <tr>\n",
       "      <th>999</th>\n",
       "      <td>130000</td>\n",
       "      <td>Сочи</td>\n",
       "      <td>55</td>\n",
       "      <td>Лечебно-оздоровительный</td>\n",
       "      <td>Самолет</td>\n",
       "      <td>2</td>\n",
       "      <td>Singapore</td>\n",
       "    </tr>\n",
       "  </tbody>\n",
       "</table>\n",
       "</div>"
      ],
      "text/plain": [
       "     zarabotnaya_plata gorod  vozrast                 tip_tura  \\\n",
       "995             158000  Сочи       65        Экскурсионный тур   \n",
       "996              45000  Сочи       64        Экскурсионный тур   \n",
       "997             108000  Сочи       63              Пляжный тур   \n",
       "998              32000  Сочи       65        Экскурсионный тур   \n",
       "999             130000  Сочи       55  Лечебно-оздоровительный   \n",
       "\n",
       "        vid_transporta  chleni_semyi     kurort  \n",
       "995            Самолет             1  Singapore  \n",
       "996            Самолет             2  Singapore  \n",
       "997  Морской транспорт             0  Singapore  \n",
       "998            Самолет             1  Singapore  \n",
       "999            Самолет             2  Singapore  "
      ]
     },
     "execution_count": 169,
     "metadata": {},
     "output_type": "execute_result"
    }
   ],
   "source": [
    "travelBD.tail()"
   ]
  },
  {
   "attachments": {},
   "cell_type": "markdown",
   "metadata": {},
   "source": [
    "Приступим к анализу данных таблицы. У нас в распоряжении ряд столбцов для анализа, таких как заработная плата, город, возраст и т.д. Для аналитика данных важно детально изучить эту информацию, чтобы узнать базовые характеристики. Каждый столбец имеет свое название переменной, которое можно использовать для получения информации из соответствующей ячейки. Например, чтобы получить данные только по заработной плате, нужно указать название переменной «travelBD» и после точки указать название столбца «zarabotnaya_plata»:"
   ]
  },
  {
   "cell_type": "code",
   "execution_count": 170,
   "metadata": {},
   "outputs": [
    {
     "data": {
      "text/plain": [
       "0      191000\n",
       "1      130000\n",
       "2      158000\n",
       "3      236000\n",
       "4      196000\n",
       "        ...  \n",
       "995    158000\n",
       "996     45000\n",
       "997    108000\n",
       "998     32000\n",
       "999    130000\n",
       "Name: zarabotnaya_plata, Length: 1000, dtype: int64"
      ]
     },
     "execution_count": 170,
     "metadata": {},
     "output_type": "execute_result"
    }
   ],
   "source": [
    "travelBD.zarabotnaya_plata"
   ]
  },
  {
   "attachments": {},
   "cell_type": "markdown",
   "metadata": {},
   "source": [
    "Нам доступна функция discribe(). Это метод, который используется в Pandas библиотеке для создания сводной статистики числовых данных в DataFrame. Он генерирует описательные статистические данные, которые предоставляют информацию, такую как количество, среднее значение, стандартное отклонение и различные процентили данных."
   ]
  },
  {
   "cell_type": "code",
   "execution_count": 171,
   "metadata": {},
   "outputs": [
    {
     "data": {
      "text/plain": [
       "count      1000.000000\n",
       "mean     110189.400000\n",
       "std       52392.170858\n",
       "min        5000.000000\n",
       "25%       69000.000000\n",
       "50%       96000.000000\n",
       "75%      157000.000000\n",
       "max      242000.000000\n",
       "Name: zarabotnaya_plata, dtype: float64"
      ]
     },
     "execution_count": 171,
     "metadata": {},
     "output_type": "execute_result"
    }
   ],
   "source": [
    "travelBD.zarabotnaya_plata.describe()"
   ]
  },
  {
   "attachments": {},
   "cell_type": "markdown",
   "metadata": {},
   "source": [
    "Для анализа заработной платы туристов можно построить по заработной плате гистограмму."
   ]
  },
  {
   "cell_type": "code",
   "execution_count": 172,
   "metadata": {},
   "outputs": [
    {
     "data": {
      "text/plain": [
       "<Axes: >"
      ]
     },
     "execution_count": 172,
     "metadata": {},
     "output_type": "execute_result"
    },
    {
     "data": {
      "image/png": "[encoded data removed]",
      "text/plain": [
       "<Figure size 640x480 with 1 Axes>"
      ]
     },
     "metadata": {},
     "output_type": "display_data"
    }
   ],
   "source": [
    "travelBD.zarabotnaya_plata.hist()"
   ]
  },
  {
   "cell_type": "markdown",
   "metadata": {},
   "source": [
    "Постоим гистограмму по возрасту туристов:"
   ]
  },
  {
   "cell_type": "code",
   "execution_count": 173,
   "metadata": {},
   "outputs": [
    {
     "data": {
      "text/plain": [
       "<Axes: >"
      ]
     },
     "execution_count": 173,
     "metadata": {},
     "output_type": "execute_result"
    },
    {
     "data": {
      "image/png": "[encoded data removed]",
      "text/plain": [
       "<Figure size 640x480 with 1 Axes>"
      ]
     },
     "metadata": {},
     "output_type": "display_data"
    }
   ],
   "source": [
    "travelBD.vozrast.hist()"
   ]
  },
  {
   "attachments": {},
   "cell_type": "markdown",
   "metadata": {},
   "source": [
    "Получим информацию по городам, в которых находятся наши туристы. Гистограмму по городам невозможно построить, так как названия городов не являются числами. Но мы можем получить информацию, сколько людей из разных городов:"
   ]
  },
  {
   "cell_type": "code",
   "execution_count": 174,
   "metadata": {},
   "outputs": [
    {
     "data": {
      "text/plain": [
       "Санкт-Петербург     307\n",
       "Москва              267\n",
       "Сочи                107\n",
       "Мурманск            106\n",
       "Самара               84\n",
       "Воронеж              67\n",
       "Апатиты              33\n",
       "Сегежа               14\n",
       "Петрозаводск         13\n",
       "Великий-Новгород      1\n",
       "Минеральные Воды      1\n",
       "Name: gorod, dtype: int64"
      ]
     },
     "execution_count": 174,
     "metadata": {},
     "output_type": "execute_result"
    }
   ],
   "source": [
    "travelBD.gorod.value_counts()"
   ]
  },
  {
   "attachments": {},
   "cell_type": "markdown",
   "metadata": {},
   "source": [
    "Также есть другая похожая другая похожая функция. Она называется unique() - уникальные значения, которые встречаются в этой колонке городов:"
   ]
  },
  {
   "cell_type": "code",
   "execution_count": 175,
   "metadata": {},
   "outputs": [
    {
     "data": {
      "text/plain": [
       "array(['Апатиты', 'Великий-Новгород', 'Воронеж', 'Минеральные Воды',\n",
       "       'Москва', 'Мурманск', 'Санкт-Петербург', 'Самара', 'Петрозаводск',\n",
       "       'Сегежа', 'Сочи'], dtype=object)"
      ]
     },
     "execution_count": 175,
     "metadata": {},
     "output_type": "execute_result"
    }
   ],
   "source": [
    "travelBD.gorod.unique()"
   ]
  },
  {
   "attachments": {},
   "cell_type": "markdown",
   "metadata": {},
   "source": [
    "Воспользуемся этой функцией groupby(), чтобы сгруппировать данные в колонке \"gorod\":"
   ]
  },
  {
   "cell_type": "code",
   "execution_count": 176,
   "metadata": {},
   "outputs": [
    {
     "data": {
      "text/plain": [
       "<pandas.core.groupby.generic.DataFrameGroupBy object at 0x0000022F98334990>"
      ]
     },
     "execution_count": 176,
     "metadata": {},
     "output_type": "execute_result"
    }
   ],
   "source": [
    "travelBD.groupby(\"gorod\")"
   ]
  },
  {
   "attachments": {},
   "cell_type": "markdown",
   "metadata": {},
   "source": [
    "Теперь можно определить максимальный возраст туристов в кажом городе. Мы группируем данные по городу (колонка \"gorod\") и применяем функцию max() к колонке \"vozrast\":"
   ]
  },
  {
   "cell_type": "code",
   "execution_count": 177,
   "metadata": {},
   "outputs": [
    {
     "data": {
      "text/plain": [
       "gorod\n",
       "Апатиты             74\n",
       "Великий-Новгород    33\n",
       "Воронеж             72\n",
       "Минеральные Воды    65\n",
       "Москва              80\n",
       "Мурманск            79\n",
       "Петрозаводск        74\n",
       "Самара              78\n",
       "Санкт-Петербург     76\n",
       "Сегежа              76\n",
       "Сочи                80\n",
       "Name: vozrast, dtype: int64"
      ]
     },
     "execution_count": 177,
     "metadata": {},
     "output_type": "execute_result"
    }
   ],
   "source": [
    "travelBD.groupby(\"gorod\")[\"vozrast\"].max()"
   ]
  },
  {
   "attachments": {},
   "cell_type": "markdown",
   "metadata": {},
   "source": [
    "Помимо собственно функции max(), можно использовать функцию mean() и вывести средний возраст туристов в каждом городе"
   ]
  },
  {
   "cell_type": "code",
   "execution_count": 178,
   "metadata": {},
   "outputs": [
    {
     "data": {
      "text/plain": [
       "gorod\n",
       "Апатиты             60.272727\n",
       "Великий-Новгород    33.000000\n",
       "Воронеж             58.343284\n",
       "Минеральные Воды    65.000000\n",
       "Москва              52.239700\n",
       "Мурманск            52.518868\n",
       "Петрозаводск        63.000000\n",
       "Самара              56.202381\n",
       "Санкт-Петербург     50.592834\n",
       "Сегежа              55.642857\n",
       "Сочи                54.672897\n",
       "Name: vozrast, dtype: float64"
      ]
     },
     "execution_count": 178,
     "metadata": {},
     "output_type": "execute_result"
    }
   ],
   "source": [
    "travelBD.groupby(\"gorod\")[\"vozrast\"].mean()"
   ]
  },
  {
   "attachments": {},
   "cell_type": "markdown",
   "metadata": {},
   "source": [
    "И соответственно минимальный возраст min(): "
   ]
  },
  {
   "cell_type": "code",
   "execution_count": 179,
   "metadata": {},
   "outputs": [
    {
     "data": {
      "text/plain": [
       "gorod\n",
       "Апатиты             40\n",
       "Великий-Новгород    33\n",
       "Воронеж             27\n",
       "Минеральные Воды    65\n",
       "Москва              18\n",
       "Мурманск            19\n",
       "Петрозаводск        53\n",
       "Самара              32\n",
       "Санкт-Петербург     19\n",
       "Сегежа              34\n",
       "Сочи                26\n",
       "Name: vozrast, dtype: int64"
      ]
     },
     "execution_count": 179,
     "metadata": {},
     "output_type": "execute_result"
    }
   ],
   "source": [
    "travelBD.groupby(\"gorod\")[\"vozrast\"].min()"
   ]
  },
  {
   "attachments": {},
   "cell_type": "markdown",
   "metadata": {},
   "source": [
    "Также можно посчитать и другие показатели для этой колонки, например квантиль. Можно выбрать любые квантили, которые интересуют 0.25, 0.75 и так далее."
   ]
  },
  {
   "cell_type": "code",
   "execution_count": 180,
   "metadata": {},
   "outputs": [
    {
     "data": {
      "text/plain": [
       "gorod\n",
       "Апатиты             60.0\n",
       "Великий-Новгород    33.0\n",
       "Воронеж             59.0\n",
       "Минеральные Воды    65.0\n",
       "Москва              55.0\n",
       "Мурманск            54.0\n",
       "Петрозаводск        63.0\n",
       "Самара              55.0\n",
       "Санкт-Петербург     55.0\n",
       "Сегежа              57.5\n",
       "Сочи                56.0\n",
       "Name: vozrast, dtype: float64"
      ]
     },
     "execution_count": 180,
     "metadata": {},
     "output_type": "execute_result"
    }
   ],
   "source": [
    "travelBD.groupby(\"gorod\")[\"vozrast\"].quantile()"
   ]
  },
  {
   "attachments": {},
   "cell_type": "markdown",
   "metadata": {},
   "source": [
    "Рассмотрим предпочтения клиентов в том, как они путешествуют:"
   ]
  },
  {
   "cell_type": "code",
   "execution_count": 181,
   "metadata": {},
   "outputs": [
    {
     "data": {
      "text/plain": [
       "Самолет              390\n",
       "Автомобиль           379\n",
       "Поезд                148\n",
       "Морской транспорт     83\n",
       "Name: vid_transporta, dtype: int64"
      ]
     },
     "execution_count": 181,
     "metadata": {},
     "output_type": "execute_result"
    }
   ],
   "source": [
    "travelBD.vid_transporta.value_counts()"
   ]
  },
  {
   "cell_type": "markdown",
   "metadata": {},
   "source": [
    "Хочу проанализировать данные о любителях самолётов, чтобы узнать, у кого из них больше членов семьи. Чтобы найти строки по определенным условиям, нужно указать название Датафрейма в квадратных скобках, а в условии указать столбец, по которому хотим осуществить поиск. Для моего случая нужны строки, где в столбце \"vid_transporta\" указано значение \"Самолет\". "
   ]
  },
  {
   "cell_type": "code",
   "execution_count": 182,
   "metadata": {},
   "outputs": [
    {
     "data": {
      "text/html": [
       "<div>\n",
       "<style scoped>\n",
       "    .dataframe tbody tr th:only-of-type {\n",
       "        vertical-align: middle;\n",
       "    }\n",
       "\n",
       "    .dataframe tbody tr th {\n",
       "        vertical-align: top;\n",
       "    }\n",
       "\n",
       "    .dataframe thead th {\n",
       "        text-align: right;\n",
       "    }\n",
       "</style>\n",
       "<table border=\"1\" class=\"dataframe\">\n",
       "  <thead>\n",
       "    <tr style=\"text-align: right;\">\n",
       "      <th></th>\n",
       "      <th>zarabotnaya_plata</th>\n",
       "      <th>gorod</th>\n",
       "      <th>vozrast</th>\n",
       "      <th>tip_tura</th>\n",
       "      <th>vid_transporta</th>\n",
       "      <th>chleni_semyi</th>\n",
       "      <th>kurort</th>\n",
       "    </tr>\n",
       "  </thead>\n",
       "  <tbody>\n",
       "    <tr>\n",
       "      <th>1</th>\n",
       "      <td>130000</td>\n",
       "      <td>Апатиты</td>\n",
       "      <td>55</td>\n",
       "      <td>Экскурсионный тур</td>\n",
       "      <td>Самолет</td>\n",
       "      <td>1</td>\n",
       "      <td>Rimini</td>\n",
       "    </tr>\n",
       "    <tr>\n",
       "      <th>2</th>\n",
       "      <td>158000</td>\n",
       "      <td>Апатиты</td>\n",
       "      <td>58</td>\n",
       "      <td>Пляжный тур</td>\n",
       "      <td>Самолет</td>\n",
       "      <td>1</td>\n",
       "      <td>Rimini</td>\n",
       "    </tr>\n",
       "    <tr>\n",
       "      <th>4</th>\n",
       "      <td>196000</td>\n",
       "      <td>Апатиты</td>\n",
       "      <td>64</td>\n",
       "      <td>Пляжный тур</td>\n",
       "      <td>Самолет</td>\n",
       "      <td>2</td>\n",
       "      <td>Rimini</td>\n",
       "    </tr>\n",
       "    <tr>\n",
       "      <th>5</th>\n",
       "      <td>179000</td>\n",
       "      <td>Апатиты</td>\n",
       "      <td>62</td>\n",
       "      <td>Пляжный тур</td>\n",
       "      <td>Самолет</td>\n",
       "      <td>3</td>\n",
       "      <td>Rimini</td>\n",
       "    </tr>\n",
       "    <tr>\n",
       "      <th>6</th>\n",
       "      <td>151000</td>\n",
       "      <td>Апатиты</td>\n",
       "      <td>58</td>\n",
       "      <td>Пляжный тур</td>\n",
       "      <td>Самолет</td>\n",
       "      <td>3</td>\n",
       "      <td>Rimini</td>\n",
       "    </tr>\n",
       "    <tr>\n",
       "      <th>...</th>\n",
       "      <td>...</td>\n",
       "      <td>...</td>\n",
       "      <td>...</td>\n",
       "      <td>...</td>\n",
       "      <td>...</td>\n",
       "      <td>...</td>\n",
       "      <td>...</td>\n",
       "    </tr>\n",
       "    <tr>\n",
       "      <th>993</th>\n",
       "      <td>67000</td>\n",
       "      <td>Сочи</td>\n",
       "      <td>65</td>\n",
       "      <td>Экскурсионный тур</td>\n",
       "      <td>Самолет</td>\n",
       "      <td>1</td>\n",
       "      <td>Singapore</td>\n",
       "    </tr>\n",
       "    <tr>\n",
       "      <th>995</th>\n",
       "      <td>158000</td>\n",
       "      <td>Сочи</td>\n",
       "      <td>65</td>\n",
       "      <td>Экскурсионный тур</td>\n",
       "      <td>Самолет</td>\n",
       "      <td>1</td>\n",
       "      <td>Singapore</td>\n",
       "    </tr>\n",
       "    <tr>\n",
       "      <th>996</th>\n",
       "      <td>45000</td>\n",
       "      <td>Сочи</td>\n",
       "      <td>64</td>\n",
       "      <td>Экскурсионный тур</td>\n",
       "      <td>Самолет</td>\n",
       "      <td>2</td>\n",
       "      <td>Singapore</td>\n",
       "    </tr>\n",
       "    <tr>\n",
       "      <th>998</th>\n",
       "      <td>32000</td>\n",
       "      <td>Сочи</td>\n",
       "      <td>65</td>\n",
       "      <td>Экскурсионный тур</td>\n",
       "      <td>Самолет</td>\n",
       "      <td>1</td>\n",
       "      <td>Singapore</td>\n",
       "    </tr>\n",
       "    <tr>\n",
       "      <th>999</th>\n",
       "      <td>130000</td>\n",
       "      <td>Сочи</td>\n",
       "      <td>55</td>\n",
       "      <td>Лечебно-оздоровительный</td>\n",
       "      <td>Самолет</td>\n",
       "      <td>2</td>\n",
       "      <td>Singapore</td>\n",
       "    </tr>\n",
       "  </tbody>\n",
       "</table>\n",
       "<p>390 rows × 7 columns</p>\n",
       "</div>"
      ],
      "text/plain": [
       "     zarabotnaya_plata    gorod  vozrast                 tip_tura  \\\n",
       "1               130000  Апатиты       55        Экскурсионный тур   \n",
       "2               158000  Апатиты       58              Пляжный тур   \n",
       "4               196000  Апатиты       64              Пляжный тур   \n",
       "5               179000  Апатиты       62              Пляжный тур   \n",
       "6               151000  Апатиты       58              Пляжный тур   \n",
       "..                 ...      ...      ...                      ...   \n",
       "993              67000     Сочи       65        Экскурсионный тур   \n",
       "995             158000     Сочи       65        Экскурсионный тур   \n",
       "996              45000     Сочи       64        Экскурсионный тур   \n",
       "998              32000     Сочи       65        Экскурсионный тур   \n",
       "999             130000     Сочи       55  Лечебно-оздоровительный   \n",
       "\n",
       "    vid_transporta  chleni_semyi     kurort  \n",
       "1          Самолет             1     Rimini  \n",
       "2          Самолет             1     Rimini  \n",
       "4          Самолет             2     Rimini  \n",
       "5          Самолет             3     Rimini  \n",
       "6          Самолет             3     Rimini  \n",
       "..             ...           ...        ...  \n",
       "993        Самолет             1  Singapore  \n",
       "995        Самолет             1  Singapore  \n",
       "996        Самолет             2  Singapore  \n",
       "998        Самолет             1  Singapore  \n",
       "999        Самолет             2  Singapore  \n",
       "\n",
       "[390 rows x 7 columns]"
      ]
     },
     "execution_count": 182,
     "metadata": {},
     "output_type": "execute_result"
    }
   ],
   "source": [
    "travelBD[travelBD.vid_transporta == 'Самолет']"
   ]
  },
  {
   "cell_type": "markdown",
   "metadata": {},
   "source": [
    "Этот код отфильтрует только строки, где транспорт - самолет, и выведет только те строки, где транспорт - самолет и их всего 390 строк.\n",
    "Затем я найду среди них тех, у кого больше всего членов семьи. Я создам новую переменную \"plane_priority\" и помещу туда результат - строки с любителями самолетов. Затем посмотрю максимальное количество членов семьи среди них. \n"
   ]
  },
  {
   "cell_type": "code",
   "execution_count": 183,
   "metadata": {},
   "outputs": [
    {
     "data": {
      "text/plain": [
       "3"
      ]
     },
     "execution_count": 183,
     "metadata": {},
     "output_type": "execute_result"
    }
   ],
   "source": [
    "plane_priority = travelBD[travelBD.vid_transporta == 'Самолет']\n",
    "plane_priority.chleni_semyi.max()"
   ]
  },
  {
   "cell_type": "markdown",
   "metadata": {},
   "source": [
    "В результате получилось, что самое большое количество членов семьи среди любителей самолетов составляет 3 человека.\n",
    "Это значение сохраню в переменной \"semiya_max\". \n",
    "semiya_max = plane_priority.chleni_semyi.max()\n",
    "Затем, с помощью условия в фильтрации, код выводит список туристов, у которых количество членов семьи равно максимальному значению \"semiya_max\" 3 человека. \n"
   ]
  },
  {
   "cell_type": "code",
   "execution_count": 184,
   "metadata": {},
   "outputs": [
    {
     "data": {
      "text/html": [
       "<div>\n",
       "<style scoped>\n",
       "    .dataframe tbody tr th:only-of-type {\n",
       "        vertical-align: middle;\n",
       "    }\n",
       "\n",
       "    .dataframe tbody tr th {\n",
       "        vertical-align: top;\n",
       "    }\n",
       "\n",
       "    .dataframe thead th {\n",
       "        text-align: right;\n",
       "    }\n",
       "</style>\n",
       "<table border=\"1\" class=\"dataframe\">\n",
       "  <thead>\n",
       "    <tr style=\"text-align: right;\">\n",
       "      <th></th>\n",
       "      <th>zarabotnaya_plata</th>\n",
       "      <th>gorod</th>\n",
       "      <th>vozrast</th>\n",
       "      <th>tip_tura</th>\n",
       "      <th>vid_transporta</th>\n",
       "      <th>chleni_semyi</th>\n",
       "      <th>kurort</th>\n",
       "    </tr>\n",
       "  </thead>\n",
       "  <tbody>\n",
       "    <tr>\n",
       "      <th>5</th>\n",
       "      <td>179000</td>\n",
       "      <td>Апатиты</td>\n",
       "      <td>62</td>\n",
       "      <td>Пляжный тур</td>\n",
       "      <td>Самолет</td>\n",
       "      <td>3</td>\n",
       "      <td>Rimini</td>\n",
       "    </tr>\n",
       "    <tr>\n",
       "      <th>6</th>\n",
       "      <td>151000</td>\n",
       "      <td>Апатиты</td>\n",
       "      <td>58</td>\n",
       "      <td>Пляжный тур</td>\n",
       "      <td>Самолет</td>\n",
       "      <td>3</td>\n",
       "      <td>Rimini</td>\n",
       "    </tr>\n",
       "    <tr>\n",
       "      <th>9</th>\n",
       "      <td>141000</td>\n",
       "      <td>Апатиты</td>\n",
       "      <td>57</td>\n",
       "      <td>Пляжный тур</td>\n",
       "      <td>Самолет</td>\n",
       "      <td>3</td>\n",
       "      <td>Rimini</td>\n",
       "    </tr>\n",
       "    <tr>\n",
       "      <th>11</th>\n",
       "      <td>203000</td>\n",
       "      <td>Апатиты</td>\n",
       "      <td>65</td>\n",
       "      <td>Пляжный тур</td>\n",
       "      <td>Самолет</td>\n",
       "      <td>3</td>\n",
       "      <td>Rimini</td>\n",
       "    </tr>\n",
       "    <tr>\n",
       "      <th>31</th>\n",
       "      <td>195000</td>\n",
       "      <td>Апатиты</td>\n",
       "      <td>62</td>\n",
       "      <td>Пляжный тур</td>\n",
       "      <td>Самолет</td>\n",
       "      <td>3</td>\n",
       "      <td>Singapore</td>\n",
       "    </tr>\n",
       "    <tr>\n",
       "      <th>59</th>\n",
       "      <td>172000</td>\n",
       "      <td>Воронеж</td>\n",
       "      <td>59</td>\n",
       "      <td>Пляжный тур</td>\n",
       "      <td>Самолет</td>\n",
       "      <td>3</td>\n",
       "      <td>Rimini</td>\n",
       "    </tr>\n",
       "    <tr>\n",
       "      <th>73</th>\n",
       "      <td>228000</td>\n",
       "      <td>Воронеж</td>\n",
       "      <td>57</td>\n",
       "      <td>Экскурсионный тур</td>\n",
       "      <td>Самолет</td>\n",
       "      <td>3</td>\n",
       "      <td>Singapore</td>\n",
       "    </tr>\n",
       "    <tr>\n",
       "      <th>74</th>\n",
       "      <td>168000</td>\n",
       "      <td>Воронеж</td>\n",
       "      <td>58</td>\n",
       "      <td>Пляжный тур</td>\n",
       "      <td>Самолет</td>\n",
       "      <td>3</td>\n",
       "      <td>Singapore</td>\n",
       "    </tr>\n",
       "    <tr>\n",
       "      <th>230</th>\n",
       "      <td>93000</td>\n",
       "      <td>Москва</td>\n",
       "      <td>57</td>\n",
       "      <td>Экскурсионный тур</td>\n",
       "      <td>Самолет</td>\n",
       "      <td>3</td>\n",
       "      <td>Barcelona</td>\n",
       "    </tr>\n",
       "    <tr>\n",
       "      <th>285</th>\n",
       "      <td>223000</td>\n",
       "      <td>Москва</td>\n",
       "      <td>66</td>\n",
       "      <td>Шоп-тур</td>\n",
       "      <td>Самолет</td>\n",
       "      <td>3</td>\n",
       "      <td>Dubai</td>\n",
       "    </tr>\n",
       "    <tr>\n",
       "      <th>313</th>\n",
       "      <td>188000</td>\n",
       "      <td>Москва</td>\n",
       "      <td>70</td>\n",
       "      <td>Шоп-тур</td>\n",
       "      <td>Самолет</td>\n",
       "      <td>3</td>\n",
       "      <td>Dubai</td>\n",
       "    </tr>\n",
       "    <tr>\n",
       "      <th>316</th>\n",
       "      <td>185000</td>\n",
       "      <td>Москва</td>\n",
       "      <td>45</td>\n",
       "      <td>Шоп-тур</td>\n",
       "      <td>Самолет</td>\n",
       "      <td>3</td>\n",
       "      <td>Dubai</td>\n",
       "    </tr>\n",
       "    <tr>\n",
       "      <th>333</th>\n",
       "      <td>73000</td>\n",
       "      <td>Москва</td>\n",
       "      <td>58</td>\n",
       "      <td>Шоп-тур</td>\n",
       "      <td>Самолет</td>\n",
       "      <td>3</td>\n",
       "      <td>Singapore</td>\n",
       "    </tr>\n",
       "    <tr>\n",
       "      <th>360</th>\n",
       "      <td>87000</td>\n",
       "      <td>Москва</td>\n",
       "      <td>59</td>\n",
       "      <td>Экскурсионный тур</td>\n",
       "      <td>Самолет</td>\n",
       "      <td>3</td>\n",
       "      <td>Singapore</td>\n",
       "    </tr>\n",
       "    <tr>\n",
       "      <th>383</th>\n",
       "      <td>15000</td>\n",
       "      <td>Мурманск</td>\n",
       "      <td>61</td>\n",
       "      <td>Экскурсионный тур</td>\n",
       "      <td>Самолет</td>\n",
       "      <td>3</td>\n",
       "      <td>Los Angeles</td>\n",
       "    </tr>\n",
       "    <tr>\n",
       "      <th>415</th>\n",
       "      <td>49000</td>\n",
       "      <td>Мурманск</td>\n",
       "      <td>54</td>\n",
       "      <td>Экскурсионный тур</td>\n",
       "      <td>Самолет</td>\n",
       "      <td>3</td>\n",
       "      <td>Barcelona</td>\n",
       "    </tr>\n",
       "    <tr>\n",
       "      <th>423</th>\n",
       "      <td>45000</td>\n",
       "      <td>Мурманск</td>\n",
       "      <td>56</td>\n",
       "      <td>Экскурсионный тур</td>\n",
       "      <td>Самолет</td>\n",
       "      <td>3</td>\n",
       "      <td>Barcelona</td>\n",
       "    </tr>\n",
       "    <tr>\n",
       "      <th>444</th>\n",
       "      <td>183000</td>\n",
       "      <td>Мурманск</td>\n",
       "      <td>79</td>\n",
       "      <td>Экскурсионный тур</td>\n",
       "      <td>Самолет</td>\n",
       "      <td>3</td>\n",
       "      <td>Dubai</td>\n",
       "    </tr>\n",
       "    <tr>\n",
       "      <th>452</th>\n",
       "      <td>207000</td>\n",
       "      <td>Мурманск</td>\n",
       "      <td>59</td>\n",
       "      <td>Шоп-тур</td>\n",
       "      <td>Самолет</td>\n",
       "      <td>3</td>\n",
       "      <td>Dubai</td>\n",
       "    </tr>\n",
       "    <tr>\n",
       "      <th>580</th>\n",
       "      <td>46000</td>\n",
       "      <td>Санкт-Петербург</td>\n",
       "      <td>57</td>\n",
       "      <td>Экскурсионный тур</td>\n",
       "      <td>Самолет</td>\n",
       "      <td>3</td>\n",
       "      <td>Barcelona</td>\n",
       "    </tr>\n",
       "    <tr>\n",
       "      <th>662</th>\n",
       "      <td>149000</td>\n",
       "      <td>Санкт-Петербург</td>\n",
       "      <td>56</td>\n",
       "      <td>Экскурсионный тур</td>\n",
       "      <td>Самолет</td>\n",
       "      <td>3</td>\n",
       "      <td>Dubai</td>\n",
       "    </tr>\n",
       "    <tr>\n",
       "      <th>714</th>\n",
       "      <td>169000</td>\n",
       "      <td>Санкт-Петербург</td>\n",
       "      <td>47</td>\n",
       "      <td>Шоп-тур</td>\n",
       "      <td>Самолет</td>\n",
       "      <td>3</td>\n",
       "      <td>Dubai</td>\n",
       "    </tr>\n",
       "    <tr>\n",
       "      <th>722</th>\n",
       "      <td>192000</td>\n",
       "      <td>Санкт-Петербург</td>\n",
       "      <td>60</td>\n",
       "      <td>Экскурсионный тур</td>\n",
       "      <td>Самолет</td>\n",
       "      <td>3</td>\n",
       "      <td>Dubai</td>\n",
       "    </tr>\n",
       "    <tr>\n",
       "      <th>767</th>\n",
       "      <td>51000</td>\n",
       "      <td>Санкт-Петербург</td>\n",
       "      <td>66</td>\n",
       "      <td>Шоп-тур</td>\n",
       "      <td>Самолет</td>\n",
       "      <td>3</td>\n",
       "      <td>Singapore</td>\n",
       "    </tr>\n",
       "    <tr>\n",
       "      <th>824</th>\n",
       "      <td>114000</td>\n",
       "      <td>Самара</td>\n",
       "      <td>61</td>\n",
       "      <td>Пляжный тур</td>\n",
       "      <td>Самолет</td>\n",
       "      <td>3</td>\n",
       "      <td>Barcelona</td>\n",
       "    </tr>\n",
       "    <tr>\n",
       "      <th>827</th>\n",
       "      <td>181000</td>\n",
       "      <td>Самара</td>\n",
       "      <td>65</td>\n",
       "      <td>Шоп-тур</td>\n",
       "      <td>Самолет</td>\n",
       "      <td>3</td>\n",
       "      <td>Dubai</td>\n",
       "    </tr>\n",
       "    <tr>\n",
       "      <th>853</th>\n",
       "      <td>94000</td>\n",
       "      <td>Самара</td>\n",
       "      <td>49</td>\n",
       "      <td>Пляжный тур</td>\n",
       "      <td>Самолет</td>\n",
       "      <td>3</td>\n",
       "      <td>Singapore</td>\n",
       "    </tr>\n",
       "    <tr>\n",
       "      <th>898</th>\n",
       "      <td>184000</td>\n",
       "      <td>Сочи</td>\n",
       "      <td>58</td>\n",
       "      <td>Пляжный тур</td>\n",
       "      <td>Самолет</td>\n",
       "      <td>3</td>\n",
       "      <td>Rimini</td>\n",
       "    </tr>\n",
       "    <tr>\n",
       "      <th>906</th>\n",
       "      <td>129000</td>\n",
       "      <td>Сочи</td>\n",
       "      <td>48</td>\n",
       "      <td>Экскурсионный тур</td>\n",
       "      <td>Самолет</td>\n",
       "      <td>3</td>\n",
       "      <td>Rimini</td>\n",
       "    </tr>\n",
       "    <tr>\n",
       "      <th>974</th>\n",
       "      <td>147000</td>\n",
       "      <td>Сочи</td>\n",
       "      <td>41</td>\n",
       "      <td>Экскурсионный тур</td>\n",
       "      <td>Самолет</td>\n",
       "      <td>3</td>\n",
       "      <td>Dubai</td>\n",
       "    </tr>\n",
       "  </tbody>\n",
       "</table>\n",
       "</div>"
      ],
      "text/plain": [
       "     zarabotnaya_plata            gorod  vozrast           tip_tura  \\\n",
       "5               179000          Апатиты       62        Пляжный тур   \n",
       "6               151000          Апатиты       58        Пляжный тур   \n",
       "9               141000          Апатиты       57        Пляжный тур   \n",
       "11              203000          Апатиты       65        Пляжный тур   \n",
       "31              195000          Апатиты       62        Пляжный тур   \n",
       "59              172000          Воронеж       59        Пляжный тур   \n",
       "73              228000          Воронеж       57  Экскурсионный тур   \n",
       "74              168000          Воронеж       58        Пляжный тур   \n",
       "230              93000           Москва       57  Экскурсионный тур   \n",
       "285             223000           Москва       66            Шоп-тур   \n",
       "313             188000           Москва       70            Шоп-тур   \n",
       "316             185000           Москва       45            Шоп-тур   \n",
       "333              73000           Москва       58            Шоп-тур   \n",
       "360              87000           Москва       59  Экскурсионный тур   \n",
       "383              15000         Мурманск       61  Экскурсионный тур   \n",
       "415              49000         Мурманск       54  Экскурсионный тур   \n",
       "423              45000         Мурманск       56  Экскурсионный тур   \n",
       "444             183000         Мурманск       79  Экскурсионный тур   \n",
       "452             207000         Мурманск       59            Шоп-тур   \n",
       "580              46000  Санкт-Петербург       57  Экскурсионный тур   \n",
       "662             149000  Санкт-Петербург       56  Экскурсионный тур   \n",
       "714             169000  Санкт-Петербург       47            Шоп-тур   \n",
       "722             192000  Санкт-Петербург       60  Экскурсионный тур   \n",
       "767              51000  Санкт-Петербург       66            Шоп-тур   \n",
       "824             114000           Самара       61        Пляжный тур   \n",
       "827             181000           Самара       65            Шоп-тур   \n",
       "853              94000           Самара       49        Пляжный тур   \n",
       "898             184000             Сочи       58        Пляжный тур   \n",
       "906             129000             Сочи       48  Экскурсионный тур   \n",
       "974             147000             Сочи       41  Экскурсионный тур   \n",
       "\n",
       "    vid_transporta  chleni_semyi       kurort  \n",
       "5          Самолет             3       Rimini  \n",
       "6          Самолет             3       Rimini  \n",
       "9          Самолет             3       Rimini  \n",
       "11         Самолет             3       Rimini  \n",
       "31         Самолет             3    Singapore  \n",
       "59         Самолет             3       Rimini  \n",
       "73         Самолет             3    Singapore  \n",
       "74         Самолет             3    Singapore  \n",
       "230        Самолет             3    Barcelona  \n",
       "285        Самолет             3        Dubai  \n",
       "313        Самолет             3        Dubai  \n",
       "316        Самолет             3        Dubai  \n",
       "333        Самолет             3    Singapore  \n",
       "360        Самолет             3    Singapore  \n",
       "383        Самолет             3  Los Angeles  \n",
       "415        Самолет             3    Barcelona  \n",
       "423        Самолет             3    Barcelona  \n",
       "444        Самолет             3        Dubai  \n",
       "452        Самолет             3        Dubai  \n",
       "580        Самолет             3    Barcelona  \n",
       "662        Самолет             3        Dubai  \n",
       "714        Самолет             3        Dubai  \n",
       "722        Самолет             3        Dubai  \n",
       "767        Самолет             3    Singapore  \n",
       "824        Самолет             3    Barcelona  \n",
       "827        Самолет             3        Dubai  \n",
       "853        Самолет             3    Singapore  \n",
       "898        Самолет             3       Rimini  \n",
       "906        Самолет             3       Rimini  \n",
       "974        Самолет             3        Dubai  "
      ]
     },
     "execution_count": 184,
     "metadata": {},
     "output_type": "execute_result"
    }
   ],
   "source": [
    "semiya_max = plane_priority.chleni_semyi.max()\n",
    "plane_priority[ plane_priority.chleni_semyi == semiya_max]"
   ]
  },
  {
   "cell_type": "markdown",
   "metadata": {},
   "source": [
    "В итоге я получила список туристов с тремя членами семьи, предпочитающих путешествовать на самолете:"
   ]
  },
  {
   "cell_type": "markdown",
   "metadata": {},
   "source": [
    "Выясню такой вопрос: кто предпочитает экскурсионный тур, люди с высокой зарплатой или низкой?\n",
    "Этот вопрос требует глубокого анализа и расширения, поскольку в нем отсутствуют определения того, что является \"высокой\" и \"низкой\" зарплатой. В таких случаях аналитику приходится выполнять интерпретацию вопроса и пытаться дать ответ на основе имеющейся информации. Вспомним информацию по заработной плате:"
   ]
  },
  {
   "cell_type": "code",
   "execution_count": 185,
   "metadata": {},
   "outputs": [
    {
     "data": {
      "text/plain": [
       "count      1000.000000\n",
       "mean     110189.400000\n",
       "std       52392.170858\n",
       "min        5000.000000\n",
       "25%       69000.000000\n",
       "50%       96000.000000\n",
       "75%      157000.000000\n",
       "max      242000.000000\n",
       "Name: zarabotnaya_plata, dtype: float64"
      ]
     },
     "execution_count": 185,
     "metadata": {},
     "output_type": "execute_result"
    }
   ],
   "source": [
    "travelBD.zarabotnaya_plata.describe()"
   ]
  },
  {
   "cell_type": "markdown",
   "metadata": {},
   "source": [
    "Попробую проанализировать, какой процент людей с выше средней и ниже средней зарплатой проявляют интерес к экскурсионным турам. Для этого я возьму среднюю зарплату всех людей:"
   ]
  },
  {
   "cell_type": "code",
   "execution_count": 186,
   "metadata": {},
   "outputs": [
    {
     "name": "stdout",
     "output_type": "stream",
     "text": [
      "(406, 7) (594, 7)\n"
     ]
    }
   ],
   "source": [
    "srednyaya_zarabotnaya_plata = travelBD.zarabotnaya_plata.mean()\n",
    "visokaya_zarabotnaya_plata = travelBD[ travelBD.zarabotnaya_plata > srednyaya_zarabotnaya_plata]\n",
    "nizkaya_zarabotnaya_plata = travelBD[ travelBD.zarabotnaya_plata < srednyaya_zarabotnaya_plata]\n",
    "\n",
    "print(visokaya_zarabotnaya_plata.shape, nizkaya_zarabotnaya_plata.shape)"
   ]
  },
  {
   "cell_type": "markdown",
   "metadata": {},
   "source": [
    "Поскольку количество людей с высокой и низкой зарплатой различается, нельзя получить абсолютное число. Однако если в группе любителей экскурсионных туров с высокой зарплатой окажется больше, чем в группе любителей экскурсионных туров с низкой зарплатой, важно иметь в виду, что выборки этих групп разного размера. Поэтому целесообразно рассмотреть относительное значение. Посчитаю сколько таких людей:"
   ]
  },
  {
   "cell_type": "code",
   "execution_count": 187,
   "metadata": {},
   "outputs": [
    {
     "data": {
      "text/html": [
       "<div>\n",
       "<style scoped>\n",
       "    .dataframe tbody tr th:only-of-type {\n",
       "        vertical-align: middle;\n",
       "    }\n",
       "\n",
       "    .dataframe tbody tr th {\n",
       "        vertical-align: top;\n",
       "    }\n",
       "\n",
       "    .dataframe thead th {\n",
       "        text-align: right;\n",
       "    }\n",
       "</style>\n",
       "<table border=\"1\" class=\"dataframe\">\n",
       "  <thead>\n",
       "    <tr style=\"text-align: right;\">\n",
       "      <th></th>\n",
       "      <th>zarabotnaya_plata</th>\n",
       "      <th>gorod</th>\n",
       "      <th>vozrast</th>\n",
       "      <th>tip_tura</th>\n",
       "      <th>vid_transporta</th>\n",
       "      <th>chleni_semyi</th>\n",
       "      <th>kurort</th>\n",
       "    </tr>\n",
       "  </thead>\n",
       "  <tbody>\n",
       "    <tr>\n",
       "      <th>0</th>\n",
       "      <td>191000</td>\n",
       "      <td>Апатиты</td>\n",
       "      <td>63</td>\n",
       "      <td>Экскурсионный тур</td>\n",
       "      <td>Морской транспорт</td>\n",
       "      <td>2</td>\n",
       "      <td>Rimini</td>\n",
       "    </tr>\n",
       "    <tr>\n",
       "      <th>1</th>\n",
       "      <td>130000</td>\n",
       "      <td>Апатиты</td>\n",
       "      <td>55</td>\n",
       "      <td>Экскурсионный тур</td>\n",
       "      <td>Самолет</td>\n",
       "      <td>1</td>\n",
       "      <td>Rimini</td>\n",
       "    </tr>\n",
       "    <tr>\n",
       "      <th>7</th>\n",
       "      <td>187000</td>\n",
       "      <td>Апатиты</td>\n",
       "      <td>60</td>\n",
       "      <td>Экскурсионный тур</td>\n",
       "      <td>Морской транспорт</td>\n",
       "      <td>1</td>\n",
       "      <td>Rimini</td>\n",
       "    </tr>\n",
       "    <tr>\n",
       "      <th>10</th>\n",
       "      <td>208000</td>\n",
       "      <td>Апатиты</td>\n",
       "      <td>66</td>\n",
       "      <td>Экскурсионный тур</td>\n",
       "      <td>Самолет</td>\n",
       "      <td>2</td>\n",
       "      <td>Rimini</td>\n",
       "    </tr>\n",
       "    <tr>\n",
       "      <th>14</th>\n",
       "      <td>122000</td>\n",
       "      <td>Апатиты</td>\n",
       "      <td>51</td>\n",
       "      <td>Экскурсионный тур</td>\n",
       "      <td>Морской транспорт</td>\n",
       "      <td>3</td>\n",
       "      <td>Rimini</td>\n",
       "    </tr>\n",
       "    <tr>\n",
       "      <th>...</th>\n",
       "      <td>...</td>\n",
       "      <td>...</td>\n",
       "      <td>...</td>\n",
       "      <td>...</td>\n",
       "      <td>...</td>\n",
       "      <td>...</td>\n",
       "      <td>...</td>\n",
       "    </tr>\n",
       "    <tr>\n",
       "      <th>990</th>\n",
       "      <td>144000</td>\n",
       "      <td>Сочи</td>\n",
       "      <td>55</td>\n",
       "      <td>Экскурсионный тур</td>\n",
       "      <td>Самолет</td>\n",
       "      <td>2</td>\n",
       "      <td>Singapore</td>\n",
       "    </tr>\n",
       "    <tr>\n",
       "      <th>991</th>\n",
       "      <td>159000</td>\n",
       "      <td>Сочи</td>\n",
       "      <td>61</td>\n",
       "      <td>Экскурсионный тур</td>\n",
       "      <td>Автомобиль</td>\n",
       "      <td>2</td>\n",
       "      <td>Singapore</td>\n",
       "    </tr>\n",
       "    <tr>\n",
       "      <th>992</th>\n",
       "      <td>121000</td>\n",
       "      <td>Сочи</td>\n",
       "      <td>52</td>\n",
       "      <td>Экскурсионный тур</td>\n",
       "      <td>Самолет</td>\n",
       "      <td>1</td>\n",
       "      <td>Singapore</td>\n",
       "    </tr>\n",
       "    <tr>\n",
       "      <th>994</th>\n",
       "      <td>151000</td>\n",
       "      <td>Сочи</td>\n",
       "      <td>55</td>\n",
       "      <td>Экскурсионный тур</td>\n",
       "      <td>Автомобиль</td>\n",
       "      <td>0</td>\n",
       "      <td>Singapore</td>\n",
       "    </tr>\n",
       "    <tr>\n",
       "      <th>995</th>\n",
       "      <td>158000</td>\n",
       "      <td>Сочи</td>\n",
       "      <td>65</td>\n",
       "      <td>Экскурсионный тур</td>\n",
       "      <td>Самолет</td>\n",
       "      <td>1</td>\n",
       "      <td>Singapore</td>\n",
       "    </tr>\n",
       "  </tbody>\n",
       "</table>\n",
       "<p>180 rows × 7 columns</p>\n",
       "</div>"
      ],
      "text/plain": [
       "     zarabotnaya_plata    gorod  vozrast           tip_tura  \\\n",
       "0               191000  Апатиты       63  Экскурсионный тур   \n",
       "1               130000  Апатиты       55  Экскурсионный тур   \n",
       "7               187000  Апатиты       60  Экскурсионный тур   \n",
       "10              208000  Апатиты       66  Экскурсионный тур   \n",
       "14              122000  Апатиты       51  Экскурсионный тур   \n",
       "..                 ...      ...      ...                ...   \n",
       "990             144000     Сочи       55  Экскурсионный тур   \n",
       "991             159000     Сочи       61  Экскурсионный тур   \n",
       "992             121000     Сочи       52  Экскурсионный тур   \n",
       "994             151000     Сочи       55  Экскурсионный тур   \n",
       "995             158000     Сочи       65  Экскурсионный тур   \n",
       "\n",
       "        vid_transporta  chleni_semyi     kurort  \n",
       "0    Морской транспорт             2     Rimini  \n",
       "1              Самолет             1     Rimini  \n",
       "7    Морской транспорт             1     Rimini  \n",
       "10             Самолет             2     Rimini  \n",
       "14   Морской транспорт             3     Rimini  \n",
       "..                 ...           ...        ...  \n",
       "990            Самолет             2  Singapore  \n",
       "991         Автомобиль             2  Singapore  \n",
       "992            Самолет             1  Singapore  \n",
       "994         Автомобиль             0  Singapore  \n",
       "995            Самолет             1  Singapore  \n",
       "\n",
       "[180 rows x 7 columns]"
      ]
     },
     "execution_count": 187,
     "metadata": {},
     "output_type": "execute_result"
    }
   ],
   "source": [
    "visokaya_zarabotnaya_plata[ visokaya_zarabotnaya_plata.tip_tura == 'Экскурсионный тур' ]"
   ]
  },
  {
   "cell_type": "markdown",
   "metadata": {},
   "source": [
    "Этот результат я назову новой переменной visokaya_exkurs()\n",
    "И тоже самое я найду с любителями экскурсионных туров с низкой зарплатой nizkaya_exkurs()\n",
    "Теперь у меня есть четыре набора данных: \n",
    "- люди с высокой зарплатой \n",
    "- люди с низкой зарплатой люди \n",
    "- с высокой зарплатой, которые предпочитают экскурсионные туры \n",
    "- люди с низкой зарплатой, которые предпочитают экскурсионные туры. \n",
    "Остаётся всё это вывести на экран. Здесь  посчитаем отношения любителей экскурсионных туров к набору данных.\n"
   ]
  },
  {
   "cell_type": "code",
   "execution_count": 188,
   "metadata": {},
   "outputs": [
    {
     "name": "stdout",
     "output_type": "stream",
     "text": [
      "Высокая зарплата 0.4433497536945813\n",
      "Низкая зарплата 0.4494949494949495\n"
     ]
    }
   ],
   "source": [
    "visokaya_zarabotnaya_plata = travelBD[ travelBD.zarabotnaya_plata > srednyaya_zarabotnaya_plata]\n",
    "nizkaya_zarabotnaya_plata = travelBD[ travelBD.zarabotnaya_plata < srednyaya_zarabotnaya_plata]\n",
    "\n",
    "visokaya_exkurs = visokaya_zarabotnaya_plata[ visokaya_zarabotnaya_plata.tip_tura == 'Экскурсионный тур' ]\n",
    "nizkaya_exkurs = nizkaya_zarabotnaya_plata[ nizkaya_zarabotnaya_plata.tip_tura == 'Экскурсионный тур' ]\n",
    "\n",
    "print (\"Высокая зарплата\", visokaya_exkurs.shape[0] / visokaya_zarabotnaya_plata.shape[0])\n",
    "print (\"Низкая зарплата\", nizkaya_exkurs.shape[0] / nizkaya_zarabotnaya_plata.shape[0])"
   ]
  },
  {
   "cell_type": "markdown",
   "metadata": {},
   "source": [
    "Следующая задача, которую нужно решить: какой диапазон возрастов больше всего зарабатывает. Данная задача заключается в определении возрастной группы людей, которая имеет самый высокий заработок. Сначала мы создаем новую колонку, в которую помещаем результат деления возраста на 10 с помощью оператора \"//\". Это целочисленное деление, которое позволяет нам разбить возраст на десятилетние группы"
   ]
  },
  {
   "cell_type": "code",
   "execution_count": 189,
   "metadata": {},
   "outputs": [
    {
     "data": {
      "text/plain": [
       "0      6\n",
       "1      5\n",
       "2      5\n",
       "3      6\n",
       "4      6\n",
       "      ..\n",
       "995    6\n",
       "996    6\n",
       "997    6\n",
       "998    6\n",
       "999    5\n",
       "Name: vozrast, Length: 1000, dtype: int64"
      ]
     },
     "execution_count": 189,
     "metadata": {},
     "output_type": "execute_result"
    }
   ],
   "source": [
    "travelBD[\"vozrast\"] // 10"
   ]
  },
  {
   "cell_type": "markdown",
   "metadata": {},
   "source": [
    "Затем мы группируем данные по заработку и по новой колонке, и считаем средний заработок для каждой группы «gruppa_vozrostov»"
   ]
  },
  {
   "cell_type": "code",
   "execution_count": 190,
   "metadata": {},
   "outputs": [
    {
     "data": {
      "text/html": [
       "<div>\n",
       "<style scoped>\n",
       "    .dataframe tbody tr th:only-of-type {\n",
       "        vertical-align: middle;\n",
       "    }\n",
       "\n",
       "    .dataframe tbody tr th {\n",
       "        vertical-align: top;\n",
       "    }\n",
       "\n",
       "    .dataframe thead th {\n",
       "        text-align: right;\n",
       "    }\n",
       "</style>\n",
       "<table border=\"1\" class=\"dataframe\">\n",
       "  <thead>\n",
       "    <tr style=\"text-align: right;\">\n",
       "      <th></th>\n",
       "      <th>zarabotnaya_plata</th>\n",
       "      <th>gorod</th>\n",
       "      <th>vozrast</th>\n",
       "      <th>tip_tura</th>\n",
       "      <th>vid_transporta</th>\n",
       "      <th>chleni_semyi</th>\n",
       "      <th>kurort</th>\n",
       "      <th>gruppa_vozrostov</th>\n",
       "    </tr>\n",
       "  </thead>\n",
       "  <tbody>\n",
       "    <tr>\n",
       "      <th>0</th>\n",
       "      <td>191000</td>\n",
       "      <td>Апатиты</td>\n",
       "      <td>63</td>\n",
       "      <td>Экскурсионный тур</td>\n",
       "      <td>Морской транспорт</td>\n",
       "      <td>2</td>\n",
       "      <td>Rimini</td>\n",
       "      <td>6</td>\n",
       "    </tr>\n",
       "    <tr>\n",
       "      <th>1</th>\n",
       "      <td>130000</td>\n",
       "      <td>Апатиты</td>\n",
       "      <td>55</td>\n",
       "      <td>Экскурсионный тур</td>\n",
       "      <td>Самолет</td>\n",
       "      <td>1</td>\n",
       "      <td>Rimini</td>\n",
       "      <td>5</td>\n",
       "    </tr>\n",
       "    <tr>\n",
       "      <th>2</th>\n",
       "      <td>158000</td>\n",
       "      <td>Апатиты</td>\n",
       "      <td>58</td>\n",
       "      <td>Пляжный тур</td>\n",
       "      <td>Самолет</td>\n",
       "      <td>1</td>\n",
       "      <td>Rimini</td>\n",
       "      <td>5</td>\n",
       "    </tr>\n",
       "    <tr>\n",
       "      <th>3</th>\n",
       "      <td>236000</td>\n",
       "      <td>Апатиты</td>\n",
       "      <td>69</td>\n",
       "      <td>Круизный отдых</td>\n",
       "      <td>Морской транспорт</td>\n",
       "      <td>2</td>\n",
       "      <td>Rimini</td>\n",
       "      <td>6</td>\n",
       "    </tr>\n",
       "    <tr>\n",
       "      <th>4</th>\n",
       "      <td>196000</td>\n",
       "      <td>Апатиты</td>\n",
       "      <td>64</td>\n",
       "      <td>Пляжный тур</td>\n",
       "      <td>Самолет</td>\n",
       "      <td>2</td>\n",
       "      <td>Rimini</td>\n",
       "      <td>6</td>\n",
       "    </tr>\n",
       "  </tbody>\n",
       "</table>\n",
       "</div>"
      ],
      "text/plain": [
       "   zarabotnaya_plata    gorod  vozrast           tip_tura     vid_transporta  \\\n",
       "0             191000  Апатиты       63  Экскурсионный тур  Морской транспорт   \n",
       "1             130000  Апатиты       55  Экскурсионный тур            Самолет   \n",
       "2             158000  Апатиты       58        Пляжный тур            Самолет   \n",
       "3             236000  Апатиты       69     Круизный отдых  Морской транспорт   \n",
       "4             196000  Апатиты       64        Пляжный тур            Самолет   \n",
       "\n",
       "   chleni_semyi  kurort  gruppa_vozrostov  \n",
       "0             2  Rimini                 6  \n",
       "1             1  Rimini                 5  \n",
       "2             1  Rimini                 5  \n",
       "3             2  Rimini                 6  \n",
       "4             2  Rimini                 6  "
      ]
     },
     "execution_count": 190,
     "metadata": {},
     "output_type": "execute_result"
    }
   ],
   "source": [
    "travelBD[\"gruppa_vozrostov\"] = travelBD[\"vozrast\"] // 10\n",
    "\n",
    "travelBD.head()"
   ]
  },
  {
   "cell_type": "code",
   "execution_count": 191,
   "metadata": {},
   "outputs": [
    {
     "data": {
      "text/plain": [
       "gruppa_vozrostov\n",
       "1     22850.000000\n",
       "2     71295.454545\n",
       "3    119327.731092\n",
       "4    107387.387387\n",
       "5    108320.707071\n",
       "6    116419.354839\n",
       "7    117155.555556\n",
       "8     96500.000000\n",
       "Name: zarabotnaya_plata, dtype: float64"
      ]
     },
     "execution_count": 191,
     "metadata": {},
     "output_type": "execute_result"
    }
   ],
   "source": [
    "travelBD.groupby(\"gruppa_vozrostov\")[\"zarabotnaya_plata\"].mean()"
   ]
  },
  {
   "cell_type": "markdown",
   "metadata": {},
   "source": [
    "Мы видим, что самый высокий заработок наблюдается в группе с возрастом, принадлежащим группе номер 3 (тридцатилетние), и равен 119327 рублей. Для двадцатилетних он равен 71295 рублей, а для сорокалетних – 107387 рублей и так далее.\n",
    "Таким образом, с помощью данного анализа мы можем определить интересные факты о том, какая возрастная группа имеет наибольший заработок.\n",
    "\n"
   ]
  },
  {
   "cell_type": "markdown",
   "metadata": {},
   "source": [
    "Для дальнейшей работы с моделью не требуется информация о группе возрастов. Чтобы избежать дополнительной работы  ввода лишних данных в столбец \"gruppa_vozrostov\", я решаю удалить его, так как если не ввести данные столбца это приведет к появлению пустых значений (NaN) в таблице."
   ]
  },
  {
   "cell_type": "code",
   "execution_count": 192,
   "metadata": {},
   "outputs": [
    {
     "data": {
      "text/html": [
       "<div>\n",
       "<style scoped>\n",
       "    .dataframe tbody tr th:only-of-type {\n",
       "        vertical-align: middle;\n",
       "    }\n",
       "\n",
       "    .dataframe tbody tr th {\n",
       "        vertical-align: top;\n",
       "    }\n",
       "\n",
       "    .dataframe thead th {\n",
       "        text-align: right;\n",
       "    }\n",
       "</style>\n",
       "<table border=\"1\" class=\"dataframe\">\n",
       "  <thead>\n",
       "    <tr style=\"text-align: right;\">\n",
       "      <th></th>\n",
       "      <th>zarabotnaya_plata</th>\n",
       "      <th>gorod</th>\n",
       "      <th>vozrast</th>\n",
       "      <th>tip_tura</th>\n",
       "      <th>vid_transporta</th>\n",
       "      <th>chleni_semyi</th>\n",
       "      <th>kurort</th>\n",
       "    </tr>\n",
       "  </thead>\n",
       "  <tbody>\n",
       "    <tr>\n",
       "      <th>0</th>\n",
       "      <td>191000</td>\n",
       "      <td>Апатиты</td>\n",
       "      <td>63</td>\n",
       "      <td>Экскурсионный тур</td>\n",
       "      <td>Морской транспорт</td>\n",
       "      <td>2</td>\n",
       "      <td>Rimini</td>\n",
       "    </tr>\n",
       "    <tr>\n",
       "      <th>1</th>\n",
       "      <td>130000</td>\n",
       "      <td>Апатиты</td>\n",
       "      <td>55</td>\n",
       "      <td>Экскурсионный тур</td>\n",
       "      <td>Самолет</td>\n",
       "      <td>1</td>\n",
       "      <td>Rimini</td>\n",
       "    </tr>\n",
       "    <tr>\n",
       "      <th>2</th>\n",
       "      <td>158000</td>\n",
       "      <td>Апатиты</td>\n",
       "      <td>58</td>\n",
       "      <td>Пляжный тур</td>\n",
       "      <td>Самолет</td>\n",
       "      <td>1</td>\n",
       "      <td>Rimini</td>\n",
       "    </tr>\n",
       "    <tr>\n",
       "      <th>3</th>\n",
       "      <td>236000</td>\n",
       "      <td>Апатиты</td>\n",
       "      <td>69</td>\n",
       "      <td>Круизный отдых</td>\n",
       "      <td>Морской транспорт</td>\n",
       "      <td>2</td>\n",
       "      <td>Rimini</td>\n",
       "    </tr>\n",
       "    <tr>\n",
       "      <th>4</th>\n",
       "      <td>196000</td>\n",
       "      <td>Апатиты</td>\n",
       "      <td>64</td>\n",
       "      <td>Пляжный тур</td>\n",
       "      <td>Самолет</td>\n",
       "      <td>2</td>\n",
       "      <td>Rimini</td>\n",
       "    </tr>\n",
       "    <tr>\n",
       "      <th>...</th>\n",
       "      <td>...</td>\n",
       "      <td>...</td>\n",
       "      <td>...</td>\n",
       "      <td>...</td>\n",
       "      <td>...</td>\n",
       "      <td>...</td>\n",
       "      <td>...</td>\n",
       "    </tr>\n",
       "    <tr>\n",
       "      <th>995</th>\n",
       "      <td>158000</td>\n",
       "      <td>Сочи</td>\n",
       "      <td>65</td>\n",
       "      <td>Экскурсионный тур</td>\n",
       "      <td>Самолет</td>\n",
       "      <td>1</td>\n",
       "      <td>Singapore</td>\n",
       "    </tr>\n",
       "    <tr>\n",
       "      <th>996</th>\n",
       "      <td>45000</td>\n",
       "      <td>Сочи</td>\n",
       "      <td>64</td>\n",
       "      <td>Экскурсионный тур</td>\n",
       "      <td>Самолет</td>\n",
       "      <td>2</td>\n",
       "      <td>Singapore</td>\n",
       "    </tr>\n",
       "    <tr>\n",
       "      <th>997</th>\n",
       "      <td>108000</td>\n",
       "      <td>Сочи</td>\n",
       "      <td>63</td>\n",
       "      <td>Пляжный тур</td>\n",
       "      <td>Морской транспорт</td>\n",
       "      <td>0</td>\n",
       "      <td>Singapore</td>\n",
       "    </tr>\n",
       "    <tr>\n",
       "      <th>998</th>\n",
       "      <td>32000</td>\n",
       "      <td>Сочи</td>\n",
       "      <td>65</td>\n",
       "      <td>Экскурсионный тур</td>\n",
       "      <td>Самолет</td>\n",
       "      <td>1</td>\n",
       "      <td>Singapore</td>\n",
       "    </tr>\n",
       "    <tr>\n",
       "      <th>999</th>\n",
       "      <td>130000</td>\n",
       "      <td>Сочи</td>\n",
       "      <td>55</td>\n",
       "      <td>Лечебно-оздоровительный</td>\n",
       "      <td>Самолет</td>\n",
       "      <td>2</td>\n",
       "      <td>Singapore</td>\n",
       "    </tr>\n",
       "  </tbody>\n",
       "</table>\n",
       "<p>1000 rows × 7 columns</p>\n",
       "</div>"
      ],
      "text/plain": [
       "     zarabotnaya_plata    gorod  vozrast                 tip_tura  \\\n",
       "0               191000  Апатиты       63        Экскурсионный тур   \n",
       "1               130000  Апатиты       55        Экскурсионный тур   \n",
       "2               158000  Апатиты       58              Пляжный тур   \n",
       "3               236000  Апатиты       69           Круизный отдых   \n",
       "4               196000  Апатиты       64              Пляжный тур   \n",
       "..                 ...      ...      ...                      ...   \n",
       "995             158000     Сочи       65        Экскурсионный тур   \n",
       "996              45000     Сочи       64        Экскурсионный тур   \n",
       "997             108000     Сочи       63              Пляжный тур   \n",
       "998              32000     Сочи       65        Экскурсионный тур   \n",
       "999             130000     Сочи       55  Лечебно-оздоровительный   \n",
       "\n",
       "        vid_transporta  chleni_semyi     kurort  \n",
       "0    Морской транспорт             2     Rimini  \n",
       "1              Самолет             1     Rimini  \n",
       "2              Самолет             1     Rimini  \n",
       "3    Морской транспорт             2     Rimini  \n",
       "4              Самолет             2     Rimini  \n",
       "..                 ...           ...        ...  \n",
       "995            Самолет             1  Singapore  \n",
       "996            Самолет             2  Singapore  \n",
       "997  Морской транспорт             0  Singapore  \n",
       "998            Самолет             1  Singapore  \n",
       "999            Самолет             2  Singapore  \n",
       "\n",
       "[1000 rows x 7 columns]"
      ]
     },
     "execution_count": 192,
     "metadata": {},
     "output_type": "execute_result"
    }
   ],
   "source": [
    "travelBD.drop(\"gruppa_vozrostov\", axis=1, inplace=True)\n",
    "\n",
    "travelBD"
   ]
  },
  {
   "cell_type": "markdown",
   "metadata": {},
   "source": [
    "В этой главе я производила анализ данных туристов, их возрастах, зарплатах и предпочтениях в путешествиях. В ходе исследования было изучено множество функций для работы с DataFrame, которые позволили провести анализ этих данных разными методами, в том числе построение гистограмм, которые помогли визуализировать распределение данных по различным характеристикам, например, возрасту и зарплате. \n",
    "\n",
    "Для получения описательных статистик использовалась функция .describe(), а функция .head() позволила вывести первые несколько строк данных для предварительного ознакомления. \n",
    "Для получения общей информации о данных использовалась функция .shape(), которая сообщает о размере DataFrame, а функции .groupby() и .valuecounts() позволили осуществить группировку данных и подсчет их количества. \n",
    "Выводы и анализ, полученные в результате работы с данными, помогут в выборе и обучении модели машинного обучения на основе этих данных. Данный анализ поможет определить, какой алгоритм лучше всего подходит для предсказания предпочтений туристов и принятия решений в выборе города назначения."
   ]
  },
  {
   "attachments": {},
   "cell_type": "markdown",
   "metadata": {},
   "source": [
    "## 2. Создание модели машинного обучения.   \n",
    "Задача модели машинного обучения заключается в том, чтобы спрогнозировать рекомендации для новых клиентов, основываясь на их личных данных. Я хочу научить модель машинного обучения рекомендовать курорт новому клиенту. Например, если клиент сообщает свой доход, возраст и все остальные показатели, модель может рекомендовать ему подходящие города, такие как Сингапур, Лос-Анжелес, Римини и т.д. Для этого модель использует информацию о том, куда ранее ездили другие туристы с теми же показателями. Какие города будут предлагаться в качестве рекомендации? Посмотрим на колонку, которая называется «kurort». Это те города, куда ездили туристы. Применим функцию value_counts(): "
   ]
  },
  {
   "cell_type": "code",
   "execution_count": 193,
   "metadata": {},
   "outputs": [
    {
     "data": {
      "text/plain": [
       "Barcelona      203\n",
       "Los Angeles    201\n",
       "Rimini         199\n",
       "Singapore      199\n",
       "Dubai          198\n",
       "Name: kurort, dtype: int64"
      ]
     },
     "execution_count": 193,
     "metadata": {},
     "output_type": "execute_result"
    }
   ],
   "source": [
    "travelBD.kurort.value_counts()"
   ]
  },
  {
   "attachments": {},
   "cell_type": "markdown",
   "metadata": {},
   "source": [
    "Мы получили список возможных городов назначения. Задача выбора наиболее вероятного ответа из заранее заданных возможностей называется задачей классификации. Для решения этой задачи используется модель машинного обучения, называемая классификатором.\n",
    "\n",
    "На вход модели мы будем подавать информацию о нашем клиенте (Х) – это зарплата, город, возраст и так далее (там несколько колонок), а на выходе мы ожидаем получить (Y) - города назначения. "
   ]
  },
  {
   "cell_type": "code",
   "execution_count": 194,
   "metadata": {},
   "outputs": [],
   "source": [
    "# Задача \"Классификации\" - модель МО выбирает наиболее вероятный из заранее известных ответов\n",
    "# Модель - \"Классификатор\"\n",
    "# На вход модели (Х): данные о туристе (ЗП. город, возраст и т.д)\n",
    "# На выходе модели (y): город назначения (kurort)\n",
    "# Задача модели найти закономерности между Х и у\n",
    "# Х => model => y\n",
    "\n",
    "X = travelBD.drop(\"kurort\", axis=1)\n",
    "y = travelBD.kurort\n",
    "\n"
   ]
  },
  {
   "attachments": {},
   "cell_type": "markdown",
   "metadata": {},
   "source": [
    "С помощью функции pandas.get_dummies() уберем буквенные значения в таблице. X_dummies – это развернутая таблица с нулями и единицами, которую мы получили в результате применения функции get_dummies():"
   ]
  },
  {
   "cell_type": "code",
   "execution_count": 195,
   "metadata": {},
   "outputs": [
    {
     "name": "stdout",
     "output_type": "stream",
     "text": [
      "     zarabotnaya_plata  vozrast  chleni_semyi  gorod_Апатиты  \\\n",
      "0               191000       63             2              1   \n",
      "1               130000       55             1              1   \n",
      "2               158000       58             1              1   \n",
      "3               236000       69             2              1   \n",
      "4               196000       64             2              1   \n",
      "..                 ...      ...           ...            ...   \n",
      "995             158000       65             1              0   \n",
      "996              45000       64             2              0   \n",
      "997             108000       63             0              0   \n",
      "998              32000       65             1              0   \n",
      "999             130000       55             2              0   \n",
      "\n",
      "     gorod_Великий-Новгород  gorod_Воронеж  gorod_Минеральные Воды  \\\n",
      "0                         0              0                       0   \n",
      "1                         0              0                       0   \n",
      "2                         0              0                       0   \n",
      "3                         0              0                       0   \n",
      "4                         0              0                       0   \n",
      "..                      ...            ...                     ...   \n",
      "995                       0              0                       0   \n",
      "996                       0              0                       0   \n",
      "997                       0              0                       0   \n",
      "998                       0              0                       0   \n",
      "999                       0              0                       0   \n",
      "\n",
      "     gorod_Москва  gorod_Мурманск  gorod_Петрозаводск  ...  \\\n",
      "0               0               0                   0  ...   \n",
      "1               0               0                   0  ...   \n",
      "2               0               0                   0  ...   \n",
      "3               0               0                   0  ...   \n",
      "4               0               0                   0  ...   \n",
      "..            ...             ...                 ...  ...   \n",
      "995             0               0                   0  ...   \n",
      "996             0               0                   0  ...   \n",
      "997             0               0                   0  ...   \n",
      "998             0               0                   0  ...   \n",
      "999             0               0                   0  ...   \n",
      "\n",
      "     tip_tura_Круизный отдых  tip_tura_Лечебно-оздоровительный  \\\n",
      "0                          0                                 0   \n",
      "1                          0                                 0   \n",
      "2                          0                                 0   \n",
      "3                          1                                 0   \n",
      "4                          0                                 0   \n",
      "..                       ...                               ...   \n",
      "995                        0                                 0   \n",
      "996                        0                                 0   \n",
      "997                        0                                 0   \n",
      "998                        0                                 0   \n",
      "999                        0                                 1   \n",
      "\n",
      "     tip_tura_Лечебно-профилактический  tip_tura_Пляжный тур  \\\n",
      "0                                    0                     0   \n",
      "1                                    0                     0   \n",
      "2                                    0                     1   \n",
      "3                                    0                     0   \n",
      "4                                    0                     1   \n",
      "..                                 ...                   ...   \n",
      "995                                  0                     0   \n",
      "996                                  0                     0   \n",
      "997                                  0                     1   \n",
      "998                                  0                     0   \n",
      "999                                  0                     0   \n",
      "\n",
      "     tip_tura_Шоп-тур  tip_tura_Экскурсионный тур  vid_transporta_Автомобиль  \\\n",
      "0                   0                           1                          0   \n",
      "1                   0                           1                          0   \n",
      "2                   0                           0                          0   \n",
      "3                   0                           0                          0   \n",
      "4                   0                           0                          0   \n",
      "..                ...                         ...                        ...   \n",
      "995                 0                           1                          0   \n",
      "996                 0                           1                          0   \n",
      "997                 0                           0                          0   \n",
      "998                 0                           1                          0   \n",
      "999                 0                           0                          0   \n",
      "\n",
      "     vid_transporta_Морской транспорт  vid_transporta_Поезд  \\\n",
      "0                                   1                     0   \n",
      "1                                   0                     0   \n",
      "2                                   0                     0   \n",
      "3                                   1                     0   \n",
      "4                                   0                     0   \n",
      "..                                ...                   ...   \n",
      "995                                 0                     0   \n",
      "996                                 0                     0   \n",
      "997                                 1                     0   \n",
      "998                                 0                     0   \n",
      "999                                 0                     0   \n",
      "\n",
      "     vid_transporta_Самолет  \n",
      "0                         0  \n",
      "1                         1  \n",
      "2                         1  \n",
      "3                         0  \n",
      "4                         1  \n",
      "..                      ...  \n",
      "995                       1  \n",
      "996                       1  \n",
      "997                       0  \n",
      "998                       1  \n",
      "999                       1  \n",
      "\n",
      "[1000 rows x 24 columns]\n"
     ]
    }
   ],
   "source": [
    "X_dummies = pandas.get_dummies(X, columns=[\"gorod\", \"tip_tura\", \"vid_transporta\"])\n",
    "\n",
    "print (X_dummies)"
   ]
  },
  {
   "attachments": {},
   "cell_type": "markdown",
   "metadata": {},
   "source": [
    "Я выберу алгоритм машинного обучения \"случайные леса\" так как они подходят для решения задачи классификации.\n",
    "Библиотека scikit-learn предоставляет реализации многих алгоритмов машинного обучения, включая Random Forest Classifier.\n",
    "Мы приступаем к обучению модели, для этого используем функцию model.fit(). Ключевым моментом в этом процессе является то, что мы просим модель подстроиться под данные x и y, а не просто обучиться на них напрямую. Именно поэтому метод обучения называется fit, что на английском языке означает \"подстроиться\". Таким образом, модель будет аккуратно и плавно подстраиваться к этим конкретным данным x и y.\n",
    "В конечном итоге, качество модели будет зависеть от того, насколько точный и качественный пример и качество данных:\n"
   ]
  },
  {
   "cell_type": "code",
   "execution_count": 196,
   "metadata": {},
   "outputs": [
    {
     "data": {
      "text/html": [
       "<style>#sk-container-id-5 {color: black;background-color: white;}#sk-container-id-5 pre{padding: 0;}#sk-container-id-5 div.sk-toggleable {background-color: white;}#sk-container-id-5 label.sk-toggleable__label {cursor: pointer;display: block;width: 100%;margin-bottom: 0;padding: 0.3em;box-sizing: border-box;text-align: center;}#sk-container-id-5 label.sk-toggleable__label-arrow:before {content: \"▸\";float: left;margin-right: 0.25em;color: #696969;}#sk-container-id-5 label.sk-toggleable__label-arrow:hover:before {color: black;}#sk-container-id-5 div.sk-estimator:hover label.sk-toggleable__label-arrow:before {color: black;}#sk-container-id-5 div.sk-toggleable__content {max-height: 0;max-width: 0;overflow: hidden;text-align: left;background-color: #f0f8ff;}#sk-container-id-5 div.sk-toggleable__content pre {margin: 0.2em;color: black;border-radius: 0.25em;background-color: #f0f8ff;}#sk-container-id-5 input.sk-toggleable__control:checked~div.sk-toggleable__content {max-height: 200px;max-width: 100%;overflow: auto;}#sk-container-id-5 input.sk-toggleable__control:checked~label.sk-toggleable__label-arrow:before {content: \"▾\";}#sk-container-id-5 div.sk-estimator input.sk-toggleable__control:checked~label.sk-toggleable__label {background-color: #d4ebff;}#sk-container-id-5 div.sk-label input.sk-toggleable__control:checked~label.sk-toggleable__label {background-color: #d4ebff;}#sk-container-id-5 input.sk-hidden--visually {border: 0;clip: rect(1px 1px 1px 1px);clip: rect(1px, 1px, 1px, 1px);height: 1px;margin: -1px;overflow: hidden;padding: 0;position: absolute;width: 1px;}#sk-container-id-5 div.sk-estimator {font-family: monospace;background-color: #f0f8ff;border: 1px dotted black;border-radius: 0.25em;box-sizing: border-box;margin-bottom: 0.5em;}#sk-container-id-5 div.sk-estimator:hover {background-color: #d4ebff;}#sk-container-id-5 div.sk-parallel-item::after {content: \"\";width: 100%;border-bottom: 1px solid gray;flex-grow: 1;}#sk-container-id-5 div.sk-label:hover label.sk-toggleable__label {background-color: #d4ebff;}#sk-container-id-5 div.sk-serial::before {content: \"\";position: absolute;border-left: 1px solid gray;box-sizing: border-box;top: 0;bottom: 0;left: 50%;z-index: 0;}#sk-container-id-5 div.sk-serial {display: flex;flex-direction: column;align-items: center;background-color: white;padding-right: 0.2em;padding-left: 0.2em;position: relative;}#sk-container-id-5 div.sk-item {position: relative;z-index: 1;}#sk-container-id-5 div.sk-parallel {display: flex;align-items: stretch;justify-content: center;background-color: white;position: relative;}#sk-container-id-5 div.sk-item::before, #sk-container-id-5 div.sk-parallel-item::before {content: \"\";position: absolute;border-left: 1px solid gray;box-sizing: border-box;top: 0;bottom: 0;left: 50%;z-index: -1;}#sk-container-id-5 div.sk-parallel-item {display: flex;flex-direction: column;z-index: 1;position: relative;background-color: white;}#sk-container-id-5 div.sk-parallel-item:first-child::after {align-self: flex-end;width: 50%;}#sk-container-id-5 div.sk-parallel-item:last-child::after {align-self: flex-start;width: 50%;}#sk-container-id-5 div.sk-parallel-item:only-child::after {width: 0;}#sk-container-id-5 div.sk-dashed-wrapped {border: 1px dashed gray;margin: 0 0.4em 0.5em 0.4em;box-sizing: border-box;padding-bottom: 0.4em;background-color: white;}#sk-container-id-5 div.sk-label label {font-family: monospace;font-weight: bold;display: inline-block;line-height: 1.2em;}#sk-container-id-5 div.sk-label-container {text-align: center;}#sk-container-id-5 div.sk-container {/* jupyter's `normalize.less` sets `[hidden] { display: none; }` but bootstrap.min.css set `[hidden] { display: none !important; }` so we also need the `!important` here to be able to override the default hidden behavior on the sphinx rendered scikit-learn.org. See: https://github.com/scikit-learn/scikit-learn/issues/21755 */display: inline-block !important;position: relative;}#sk-container-id-5 div.sk-text-repr-fallback {display: none;}</style><div id=\"sk-container-id-5\" class=\"sk-top-container\"><div class=\"sk-text-repr-fallback\"><pre>RandomForestClassifier()</pre><b>In a Jupyter environment, please rerun this cell to show the HTML representation or trust the notebook. <br />On GitHub, the HTML representation is unable to render, please try loading this page with nbviewer.org.</b></div><div class=\"sk-container\" hidden><div class=\"sk-item\"><div class=\"sk-estimator sk-toggleable\"><input class=\"sk-toggleable__control sk-hidden--visually\" id=\"sk-estimator-id-5\" type=\"checkbox\" checked><label for=\"sk-estimator-id-5\" class=\"sk-toggleable__label sk-toggleable__label-arrow\">RandomForestClassifier</label><div class=\"sk-toggleable__content\"><pre>RandomForestClassifier()</pre></div></div></div></div></div>"
      ],
      "text/plain": [
       "RandomForestClassifier()"
      ]
     },
     "execution_count": 196,
     "metadata": {},
     "output_type": "execute_result"
    }
   ],
   "source": [
    "\n",
    "from sklearn.ensemble import RandomForestClassifier\n",
    "\n",
    "model = RandomForestClassifier ()\n",
    "\n",
    "model.fit (X_dummies, y)\n"
   ]
  },
  {
   "attachments": {},
   "cell_type": "markdown",
   "metadata": {},
   "source": [
    "Для проверки работы модели мы можем ввести данные нового клиента и использовать модель для прогнозирования результатов. Для этого использую команду:\n",
    " X_dummies.columns.\n"
   ]
  },
  {
   "cell_type": "code",
   "execution_count": 197,
   "metadata": {},
   "outputs": [
    {
     "data": {
      "text/plain": [
       "Index(['zarabotnaya_plata', 'vozrast', 'chleni_semyi', 'gorod_Апатиты',\n",
       "       'gorod_Великий-Новгород', 'gorod_Воронеж', 'gorod_Минеральные Воды',\n",
       "       'gorod_Москва', 'gorod_Мурманск', 'gorod_Петрозаводск', 'gorod_Самара',\n",
       "       'gorod_Санкт-Петербург', 'gorod_Сегежа', 'gorod_Сочи',\n",
       "       'tip_tura_Круизный отдых', 'tip_tura_Лечебно-оздоровительный',\n",
       "       'tip_tura_Лечебно-профилактический', 'tip_tura_Пляжный тур',\n",
       "       'tip_tura_Шоп-тур', 'tip_tura_Экскурсионный тур',\n",
       "       'vid_transporta_Автомобиль', 'vid_transporta_Морской транспорт',\n",
       "       'vid_transporta_Поезд', 'vid_transporta_Самолет'],\n",
       "      dtype='object')"
      ]
     },
     "execution_count": 197,
     "metadata": {},
     "output_type": "execute_result"
    }
   ],
   "source": [
    "X_dummies.columns"
   ]
  },
  {
   "attachments": {},
   "cell_type": "markdown",
   "metadata": {},
   "source": [
    "Для удобства ввода расположим данные в столбик:"
   ]
  },
  {
   "cell_type": "code",
   "execution_count": 198,
   "metadata": {},
   "outputs": [
    {
     "data": {
      "text/plain": [
       "{'zarabotnaya_plata': [0],\n",
       " 'vozrast': [0],\n",
       " 'chleni_semyi': [0],\n",
       " 'gorod_Апатиты': [0],\n",
       " 'gorod_Великий-Новгород': [0],\n",
       " 'gorod_Воронеж': [0],\n",
       " 'gorod_Минеральные Воды': [0],\n",
       " 'gorod_Москва': [0],\n",
       " 'gorod_Мурманск': [0],\n",
       " 'gorod_Петрозаводск': [0],\n",
       " 'gorod_Самара': [0],\n",
       " 'gorod_Санкт-Петербург': [0],\n",
       " 'gorod_Сегежа': [0],\n",
       " 'gorod_Сочи': [0],\n",
       " 'tip_tura_Круизный отдых': [0],\n",
       " 'tip_tura_Лечебно-оздоровительный': [0],\n",
       " 'tip_tura_Лечебно-профилактический': [0],\n",
       " 'tip_tura_Пляжный тур': [0],\n",
       " 'tip_tura_Шоп-тур': [0],\n",
       " 'tip_tura_Экскурсионный тур': [0],\n",
       " 'vid_transporta_Автомобиль': [0],\n",
       " 'vid_transporta_Морской транспорт': [0],\n",
       " 'vid_transporta_Поезд': [0],\n",
       " 'vid_transporta_Самолет': [0]}"
      ]
     },
     "execution_count": 198,
     "metadata": {},
     "output_type": "execute_result"
    }
   ],
   "source": [
    "{col: [0] for col in X_dummies.columns} "
   ]
  },
  {
   "attachments": {},
   "cell_type": "markdown",
   "metadata": {},
   "source": [
    "Шаблон готов. Теперь скопирую и вставлю в свой код и заполню данные нового клиента. Допустим, это будет житель города Москва, с заработной платой 120 000 рублей, возраст 63 года, у которого 1 член семьи. Он едет в лечебно-оздоровит тур на самолете."
   ]
  },
  {
   "cell_type": "code",
   "execution_count": 199,
   "metadata": {},
   "outputs": [],
   "source": [
    "example = {'zarabotnaya_plata': [120000],\n",
    " 'vozrast': [63],\n",
    " 'chleni_semyi': [1],\n",
    " 'gorod_Апатиты': [0],\n",
    " 'gorod_Великий-Новгород': [0],\n",
    " 'gorod_Воронеж': [0],\n",
    " 'gorod_Минеральные Воды': [0],\n",
    " 'gorod_Москва': [1],\n",
    " 'gorod_Мурманск': [0],\n",
    " 'gorod_Петрозаводск': [0],\n",
    " 'gorod_Самара': [0],\n",
    " 'gorod_Санкт-Петербург': [0],\n",
    " 'gorod_Сегежа': [0],\n",
    " 'gorod_Сочи': [0],\n",
    " 'tip_tura_Круизный отдых': [0],\n",
    " 'tip_tura_Лечебно-оздоровительный': [1],\n",
    " 'tip_tura_Лечебно-профилактический': [0],\n",
    " 'tip_tura_Пляжный тур': [0],\n",
    " 'tip_tura_Шоп-тур': [0],\n",
    " 'tip_tura_Экскурсионный тур': [0],\n",
    " 'vid_transporta_Автомобиль': [0],\n",
    " 'vid_transporta_Морской транспорт': [0],\n",
    " 'vid_transporta_Поезд': [0],\n",
    " 'vid_transporta_Самолет': [1]}\n",
    "\n",
    "example_df = pandas.DataFrame(data=example, columns=X_dummies.columns)"
   ]
  },
  {
   "attachments": {},
   "cell_type": "markdown",
   "metadata": {},
   "source": [
    "\n",
    "Теперь преобразуем данные в формат pandas –таблицы::"
   ]
  },
  {
   "cell_type": "code",
   "execution_count": 200,
   "metadata": {},
   "outputs": [
    {
     "data": {
      "text/html": [
       "<div>\n",
       "<style scoped>\n",
       "    .dataframe tbody tr th:only-of-type {\n",
       "        vertical-align: middle;\n",
       "    }\n",
       "\n",
       "    .dataframe tbody tr th {\n",
       "        vertical-align: top;\n",
       "    }\n",
       "\n",
       "    .dataframe thead th {\n",
       "        text-align: right;\n",
       "    }\n",
       "</style>\n",
       "<table border=\"1\" class=\"dataframe\">\n",
       "  <thead>\n",
       "    <tr style=\"text-align: right;\">\n",
       "      <th></th>\n",
       "      <th>zarabotnaya_plata</th>\n",
       "      <th>vozrast</th>\n",
       "      <th>chleni_semyi</th>\n",
       "      <th>gorod_Апатиты</th>\n",
       "      <th>gorod_Великий-Новгород</th>\n",
       "      <th>gorod_Воронеж</th>\n",
       "      <th>gorod_Минеральные Воды</th>\n",
       "      <th>gorod_Москва</th>\n",
       "      <th>gorod_Мурманск</th>\n",
       "      <th>gorod_Петрозаводск</th>\n",
       "      <th>...</th>\n",
       "      <th>tip_tura_Круизный отдых</th>\n",
       "      <th>tip_tura_Лечебно-оздоровительный</th>\n",
       "      <th>tip_tura_Лечебно-профилактический</th>\n",
       "      <th>tip_tura_Пляжный тур</th>\n",
       "      <th>tip_tura_Шоп-тур</th>\n",
       "      <th>tip_tura_Экскурсионный тур</th>\n",
       "      <th>vid_transporta_Автомобиль</th>\n",
       "      <th>vid_transporta_Морской транспорт</th>\n",
       "      <th>vid_transporta_Поезд</th>\n",
       "      <th>vid_transporta_Самолет</th>\n",
       "    </tr>\n",
       "  </thead>\n",
       "  <tbody>\n",
       "    <tr>\n",
       "      <th>0</th>\n",
       "      <td>120000</td>\n",
       "      <td>63</td>\n",
       "      <td>1</td>\n",
       "      <td>0</td>\n",
       "      <td>0</td>\n",
       "      <td>0</td>\n",
       "      <td>0</td>\n",
       "      <td>1</td>\n",
       "      <td>0</td>\n",
       "      <td>0</td>\n",
       "      <td>...</td>\n",
       "      <td>0</td>\n",
       "      <td>1</td>\n",
       "      <td>0</td>\n",
       "      <td>0</td>\n",
       "      <td>0</td>\n",
       "      <td>0</td>\n",
       "      <td>0</td>\n",
       "      <td>0</td>\n",
       "      <td>0</td>\n",
       "      <td>1</td>\n",
       "    </tr>\n",
       "  </tbody>\n",
       "</table>\n",
       "<p>1 rows × 24 columns</p>\n",
       "</div>"
      ],
      "text/plain": [
       "   zarabotnaya_plata  vozrast  chleni_semyi  gorod_Апатиты  \\\n",
       "0             120000       63             1              0   \n",
       "\n",
       "   gorod_Великий-Новгород  gorod_Воронеж  gorod_Минеральные Воды  \\\n",
       "0                       0              0                       0   \n",
       "\n",
       "   gorod_Москва  gorod_Мурманск  gorod_Петрозаводск  ...  \\\n",
       "0             1               0                   0  ...   \n",
       "\n",
       "   tip_tura_Круизный отдых  tip_tura_Лечебно-оздоровительный  \\\n",
       "0                        0                                 1   \n",
       "\n",
       "   tip_tura_Лечебно-профилактический  tip_tura_Пляжный тур  tip_tura_Шоп-тур  \\\n",
       "0                                  0                     0                 0   \n",
       "\n",
       "   tip_tura_Экскурсионный тур  vid_transporta_Автомобиль  \\\n",
       "0                           0                          0   \n",
       "\n",
       "   vid_transporta_Морской транспорт  vid_transporta_Поезд  \\\n",
       "0                                 0                     0   \n",
       "\n",
       "   vid_transporta_Самолет  \n",
       "0                       1  \n",
       "\n",
       "[1 rows x 24 columns]"
      ]
     },
     "execution_count": 200,
     "metadata": {},
     "output_type": "execute_result"
    }
   ],
   "source": [
    "example_df"
   ]
  },
  {
   "attachments": {},
   "cell_type": "markdown",
   "metadata": {},
   "source": [
    "Введу функцию для предсказания города, в который можно отправить нового туриста:\n",
    "model.predict(example_df)\n",
    "Функция predict() используется в машинном обучении для прогнозирования выходных значений, основанных на входных множествах данных. \n"
   ]
  },
  {
   "cell_type": "code",
   "execution_count": 201,
   "metadata": {},
   "outputs": [
    {
     "data": {
      "text/plain": [
       "array(['Barcelona'], dtype=object)"
      ]
     },
     "execution_count": 201,
     "metadata": {},
     "output_type": "execute_result"
    }
   ],
   "source": [
    "model.predict(example_df)"
   ]
  },
  {
   "attachments": {},
   "cell_type": "markdown",
   "metadata": {},
   "source": [
    "Модель предсказала, что клиенту следует отправиться в город Барселона. Однако, поскольку модель имеет в своем названии слово \"Random\" не случайно, она может предложить и другие варианты мест для посещения. Чтобы узнать, какие другие города могут быть хорошими вариантами, нужно анализировать вероятности, которые выдаст модель. Среди возможных вариантов можно искать те, которые также имеют высокую вероятность и рекомендовать их клиенту:"
   ]
  },
  {
   "cell_type": "code",
   "execution_count": 202,
   "metadata": {},
   "outputs": [
    {
     "data": {
      "text/plain": [
       "array([[0.47, 0.14, 0.02, 0.12, 0.25]])"
      ]
     },
     "execution_count": 202,
     "metadata": {},
     "output_type": "execute_result"
    }
   ],
   "source": [
    "model.predict_proba(example_df)"
   ]
  },
  {
   "attachments": {},
   "cell_type": "markdown",
   "metadata": {},
   "source": [
    "Использование predict_proba в моделях классификации может помочь в принятии решения на основе вероятностной информации, а также в выявлении объектов, для которых модель не уверена в правильной классификации. Порядок этих вариантов – это порядок следования городов."
   ]
  },
  {
   "cell_type": "code",
   "execution_count": 203,
   "metadata": {},
   "outputs": [
    {
     "data": {
      "text/plain": [
       "array(['Barcelona', 'Dubai', 'Los Angeles', 'Rimini', 'Singapore'],\n",
       "      dtype=object)"
      ]
     },
     "execution_count": 203,
     "metadata": {},
     "output_type": "execute_result"
    }
   ],
   "source": [
    "model.classes_"
   ]
  },
  {
   "attachments": {},
   "cell_type": "markdown",
   "metadata": {},
   "source": [
    "Задача модели – выбрать заранее один из заранее известных вариантов.  \n",
    "В реальности она не просто выбирает - она распределяет вероятности между всеми существующими классами – ответами. Сумма процентов даст единицу - 100%.\n",
    "В итоге я проанализировала данные, построила первую простую модель и научилась её использовать для предсказания. Также изучила распределение вероятностей и определила оптимальное направление для отправки нового туриста"
   ]
  },
  {
   "cell_type": "markdown",
   "metadata": {},
   "source": [
    "## 3. Тестирование модели.  \n",
    "Тренировочная выборка - Это число, которое показывает, насколько хорошо модель усвоила данные. Тренировочная выборка, представляет собой набор данных, на котором модель обучается для поиска закономерностей в данных. Можно сказать, что это своего рода учебник для модели. Я уже создала тренировочную выборку и обучила модель на ней, и она начала предсказывать результаты"
   ]
  },
  {
   "cell_type": "code",
   "execution_count": 204,
   "metadata": {},
   "outputs": [
    {
     "data": {
      "text/plain": [
       "1.0"
      ]
     },
     "execution_count": 204,
     "metadata": {},
     "output_type": "execute_result"
    }
   ],
   "source": [
    "model.score (X_dummies, y)"
   ]
  },
  {
   "cell_type": "markdown",
   "metadata": {},
   "source": [
    "Значение score() равно 1, значит модель была обучена хорошо.  \n",
    "\n",
    "Тестовая выборка. На этой выборке я проверяю качество обученной модели. Для модели это своего рода экзамен. Я даю модели тестовую экзаменационную выборку, на которой она не обучалась, и смотрю, насколько хорошо она справляется с предсказаниями. "
   ]
  },
  {
   "cell_type": "code",
   "execution_count": 205,
   "metadata": {},
   "outputs": [
    {
     "name": "stdout",
     "output_type": "stream",
     "text": [
      "(750, 24) (750,)\n",
      "(250, 24) (250,)\n"
     ]
    }
   ],
   "source": [
    "from sklearn.model_selection import train_test_split\n",
    "\n",
    "X_train, X_test, y_train, y_test = train_test_split(X_dummies, y)\n",
    "print(X_train.shape, y_train.shape)\n",
    "print(X_test.shape, y_test.shape)"
   ]
  },
  {
   "cell_type": "code",
   "execution_count": 222,
   "metadata": {},
   "outputs": [
    {
     "name": "stdout",
     "output_type": "stream",
     "text": [
      "668          Dubai\n",
      "598      Barcelona\n",
      "71       Singapore\n",
      "249      Barcelona\n",
      "27       Singapore\n",
      "          ...     \n",
      "784         Rimini\n",
      "933    Los Angeles\n",
      "177    Los Angeles\n",
      "51          Rimini\n",
      "695          Dubai\n",
      "Name: kurort, Length: 250, dtype: object ['Dubai' 'Barcelona' 'Rimini' 'Barcelona' 'Singapore' 'Singapore'\n",
      " 'Barcelona' 'Barcelona' 'Barcelona' 'Los Angeles' 'Dubai' 'Dubai'\n",
      " 'Barcelona' 'Barcelona' 'Dubai' 'Barcelona' 'Los Angeles' 'Barcelona'\n",
      " 'Dubai' 'Singapore' 'Singapore' 'Barcelona' 'Rimini' 'Los Angeles'\n",
      " 'Los Angeles' 'Singapore' 'Dubai' 'Los Angeles' 'Barcelona' 'Barcelona'\n",
      " 'Dubai' 'Rimini' 'Barcelona' 'Dubai' 'Los Angeles' 'Dubai' 'Rimini'\n",
      " 'Singapore' 'Los Angeles' 'Barcelona' 'Barcelona' 'Rimini' 'Dubai'\n",
      " 'Dubai' 'Rimini' 'Singapore' 'Los Angeles' 'Rimini' 'Rimini' 'Dubai'\n",
      " 'Rimini' 'Singapore' 'Barcelona' 'Barcelona' 'Los Angeles' 'Dubai'\n",
      " 'Rimini' 'Dubai' 'Singapore' 'Barcelona' 'Rimini' 'Barcelona' 'Dubai'\n",
      " 'Los Angeles' 'Los Angeles' 'Los Angeles' 'Singapore' 'Dubai' 'Barcelona'\n",
      " 'Dubai' 'Singapore' 'Singapore' 'Rimini' 'Barcelona' 'Los Angeles'\n",
      " 'Rimini' 'Dubai' 'Los Angeles' 'Barcelona' 'Los Angeles' 'Singapore'\n",
      " 'Singapore' 'Rimini' 'Dubai' 'Singapore' 'Rimini' 'Barcelona' 'Barcelona'\n",
      " 'Rimini' 'Los Angeles' 'Dubai' 'Rimini' 'Barcelona' 'Barcelona'\n",
      " 'Barcelona' 'Los Angeles' 'Singapore' 'Barcelona' 'Rimini' 'Los Angeles'\n",
      " 'Barcelona' 'Barcelona' 'Rimini' 'Los Angeles' 'Los Angeles' 'Dubai'\n",
      " 'Rimini' 'Dubai' 'Los Angeles' 'Dubai' 'Dubai' 'Barcelona' 'Barcelona'\n",
      " 'Singapore' 'Dubai' 'Singapore' 'Los Angeles' 'Singapore' 'Rimini'\n",
      " 'Dubai' 'Rimini' 'Singapore' 'Rimini' 'Dubai' 'Singapore' 'Singapore'\n",
      " 'Los Angeles' 'Rimini' 'Dubai' 'Dubai' 'Los Angeles' 'Singapore'\n",
      " 'Singapore' 'Singapore' 'Dubai' 'Singapore' 'Singapore' 'Barcelona'\n",
      " 'Los Angeles' 'Barcelona' 'Rimini' 'Barcelona' 'Los Angeles' 'Rimini'\n",
      " 'Los Angeles' 'Dubai' 'Barcelona' 'Dubai' 'Dubai' 'Singapore' 'Singapore'\n",
      " 'Dubai' 'Barcelona' 'Barcelona' 'Los Angeles' 'Dubai' 'Barcelona'\n",
      " 'Barcelona' 'Rimini' 'Los Angeles' 'Dubai' 'Barcelona' 'Rimini'\n",
      " 'Barcelona' 'Los Angeles' 'Los Angeles' 'Rimini' 'Los Angeles'\n",
      " 'Barcelona' 'Dubai' 'Dubai' 'Los Angeles' 'Rimini' 'Rimini' 'Barcelona'\n",
      " 'Rimini' 'Los Angeles' 'Rimini' 'Los Angeles' 'Rimini' 'Los Angeles'\n",
      " 'Los Angeles' 'Singapore' 'Singapore' 'Dubai' 'Rimini' 'Singapore'\n",
      " 'Rimini' 'Rimini' 'Dubai' 'Singapore' 'Los Angeles' 'Singapore' 'Dubai'\n",
      " 'Singapore' 'Barcelona' 'Rimini' 'Los Angeles' 'Singapore' 'Rimini'\n",
      " 'Los Angeles' 'Singapore' 'Dubai' 'Rimini' 'Rimini' 'Dubai' 'Barcelona'\n",
      " 'Dubai' 'Barcelona' 'Los Angeles' 'Singapore' 'Barcelona' 'Los Angeles'\n",
      " 'Rimini' 'Rimini' 'Singapore' 'Los Angeles' 'Dubai' 'Rimini' 'Singapore'\n",
      " 'Dubai' 'Dubai' 'Dubai' 'Los Angeles' 'Rimini' 'Los Angeles' 'Rimini'\n",
      " 'Dubai' 'Rimini' 'Dubai' 'Los Angeles' 'Los Angeles' 'Rimini' 'Dubai'\n",
      " 'Barcelona' 'Rimini' 'Singapore' 'Rimini' 'Singapore' 'Barcelona'\n",
      " 'Singapore' 'Singapore' 'Los Angeles' 'Dubai' 'Rimini' 'Rimini'\n",
      " 'Barcelona' 'Los Angeles' 'Rimini' 'Rimini']\n"
     ]
    }
   ],
   "source": [
    "from sklearn.ensemble import RandomForestClassifier\n",
    "model = RandomForestClassifier()\n",
    "model.fit(X_train, y_train)\n",
    "y_pred = model.predict(X_test)\n",
    "print(y_test, y_pred)"
   ]
  },
  {
   "cell_type": "code",
   "execution_count": 225,
   "metadata": {},
   "outputs": [
    {
     "ename": "ValueError",
     "evalue": "could not convert string to float: 'Dubai'",
     "output_type": "error",
     "traceback": [
      "\u001b[1;31m---------------------------------------------------------------------------\u001b[0m",
      "\u001b[1;31mValueError\u001b[0m                                Traceback (most recent call last)",
      "Cell \u001b[1;32mIn[225], line 2\u001b[0m\n\u001b[0;32m      1\u001b[0m \u001b[39mfrom\u001b[39;00m \u001b[39msklearn\u001b[39;00m \u001b[39mimport\u001b[39;00m metrics\n\u001b[1;32m----> 2\u001b[0m \u001b[39mprint\u001b[39m(\u001b[39m'\u001b[39m\u001b[39mсредняя абс ошибка:\u001b[39m\u001b[39m'\u001b[39m, metrics\u001b[39m.\u001b[39;49mmean_absolute_error(y_test, y_pred))\n",
      "File \u001b[1;32mc:\\Users\\noch2\\AppData\\Local\\Programs\\Python\\Python311\\Lib\\site-packages\\sklearn\\metrics\\_regression.py:196\u001b[0m, in \u001b[0;36mmean_absolute_error\u001b[1;34m(y_true, y_pred, sample_weight, multioutput)\u001b[0m\n\u001b[0;32m    141\u001b[0m \u001b[39mdef\u001b[39;00m \u001b[39mmean_absolute_error\u001b[39m(\n\u001b[0;32m    142\u001b[0m     y_true, y_pred, \u001b[39m*\u001b[39m, sample_weight\u001b[39m=\u001b[39m\u001b[39mNone\u001b[39;00m, multioutput\u001b[39m=\u001b[39m\u001b[39m\"\u001b[39m\u001b[39muniform_average\u001b[39m\u001b[39m\"\u001b[39m\n\u001b[0;32m    143\u001b[0m ):\n\u001b[0;32m    144\u001b[0m \u001b[39m    \u001b[39m\u001b[39m\"\"\"Mean absolute error regression loss.\u001b[39;00m\n\u001b[0;32m    145\u001b[0m \n\u001b[0;32m    146\u001b[0m \u001b[39m    Read more in the :ref:`User Guide <mean_absolute_error>`.\u001b[39;00m\n\u001b[1;32m   (...)\u001b[0m\n\u001b[0;32m    194\u001b[0m \u001b[39m    0.85...\u001b[39;00m\n\u001b[0;32m    195\u001b[0m \u001b[39m    \"\"\"\u001b[39;00m\n\u001b[1;32m--> 196\u001b[0m     y_type, y_true, y_pred, multioutput \u001b[39m=\u001b[39m _check_reg_targets(\n\u001b[0;32m    197\u001b[0m         y_true, y_pred, multioutput\n\u001b[0;32m    198\u001b[0m     )\n\u001b[0;32m    199\u001b[0m     check_consistent_length(y_true, y_pred, sample_weight)\n\u001b[0;32m    200\u001b[0m     output_errors \u001b[39m=\u001b[39m np\u001b[39m.\u001b[39maverage(np\u001b[39m.\u001b[39mabs(y_pred \u001b[39m-\u001b[39m y_true), weights\u001b[39m=\u001b[39msample_weight, axis\u001b[39m=\u001b[39m\u001b[39m0\u001b[39m)\n",
      "File \u001b[1;32mc:\\Users\\noch2\\AppData\\Local\\Programs\\Python\\Python311\\Lib\\site-packages\\sklearn\\metrics\\_regression.py:101\u001b[0m, in \u001b[0;36m_check_reg_targets\u001b[1;34m(y_true, y_pred, multioutput, dtype)\u001b[0m\n\u001b[0;32m     67\u001b[0m \u001b[39m\u001b[39m\u001b[39m\"\"\"Check that y_true and y_pred belong to the same regression task.\u001b[39;00m\n\u001b[0;32m     68\u001b[0m \n\u001b[0;32m     69\u001b[0m \u001b[39mParameters\u001b[39;00m\n\u001b[1;32m   (...)\u001b[0m\n\u001b[0;32m     98\u001b[0m \u001b[39m    correct keyword.\u001b[39;00m\n\u001b[0;32m     99\u001b[0m \u001b[39m\"\"\"\u001b[39;00m\n\u001b[0;32m    100\u001b[0m check_consistent_length(y_true, y_pred)\n\u001b[1;32m--> 101\u001b[0m y_true \u001b[39m=\u001b[39m check_array(y_true, ensure_2d\u001b[39m=\u001b[39;49m\u001b[39mFalse\u001b[39;49;00m, dtype\u001b[39m=\u001b[39;49mdtype)\n\u001b[0;32m    102\u001b[0m y_pred \u001b[39m=\u001b[39m check_array(y_pred, ensure_2d\u001b[39m=\u001b[39m\u001b[39mFalse\u001b[39;00m, dtype\u001b[39m=\u001b[39mdtype)\n\u001b[0;32m    104\u001b[0m \u001b[39mif\u001b[39;00m y_true\u001b[39m.\u001b[39mndim \u001b[39m==\u001b[39m \u001b[39m1\u001b[39m:\n",
      "File \u001b[1;32mc:\\Users\\noch2\\AppData\\Local\\Programs\\Python\\Python311\\Lib\\site-packages\\sklearn\\utils\\validation.py:879\u001b[0m, in \u001b[0;36mcheck_array\u001b[1;34m(array, accept_sparse, accept_large_sparse, dtype, order, copy, force_all_finite, ensure_2d, allow_nd, ensure_min_samples, ensure_min_features, estimator, input_name)\u001b[0m\n\u001b[0;32m    877\u001b[0m         array \u001b[39m=\u001b[39m xp\u001b[39m.\u001b[39mastype(array, dtype, copy\u001b[39m=\u001b[39m\u001b[39mFalse\u001b[39;00m)\n\u001b[0;32m    878\u001b[0m     \u001b[39melse\u001b[39;00m:\n\u001b[1;32m--> 879\u001b[0m         array \u001b[39m=\u001b[39m _asarray_with_order(array, order\u001b[39m=\u001b[39;49morder, dtype\u001b[39m=\u001b[39;49mdtype, xp\u001b[39m=\u001b[39;49mxp)\n\u001b[0;32m    880\u001b[0m \u001b[39mexcept\u001b[39;00m ComplexWarning \u001b[39mas\u001b[39;00m complex_warning:\n\u001b[0;32m    881\u001b[0m     \u001b[39mraise\u001b[39;00m \u001b[39mValueError\u001b[39;00m(\n\u001b[0;32m    882\u001b[0m         \u001b[39m\"\u001b[39m\u001b[39mComplex data not supported\u001b[39m\u001b[39m\\n\u001b[39;00m\u001b[39m{}\u001b[39;00m\u001b[39m\\n\u001b[39;00m\u001b[39m\"\u001b[39m\u001b[39m.\u001b[39mformat(array)\n\u001b[0;32m    883\u001b[0m     ) \u001b[39mfrom\u001b[39;00m \u001b[39mcomplex_warning\u001b[39;00m\n",
      "File \u001b[1;32mc:\\Users\\noch2\\AppData\\Local\\Programs\\Python\\Python311\\Lib\\site-packages\\sklearn\\utils\\_array_api.py:185\u001b[0m, in \u001b[0;36m_asarray_with_order\u001b[1;34m(array, dtype, order, copy, xp)\u001b[0m\n\u001b[0;32m    182\u001b[0m     xp, _ \u001b[39m=\u001b[39m get_namespace(array)\n\u001b[0;32m    183\u001b[0m \u001b[39mif\u001b[39;00m xp\u001b[39m.\u001b[39m\u001b[39m__name__\u001b[39m \u001b[39min\u001b[39;00m {\u001b[39m\"\u001b[39m\u001b[39mnumpy\u001b[39m\u001b[39m\"\u001b[39m, \u001b[39m\"\u001b[39m\u001b[39mnumpy.array_api\u001b[39m\u001b[39m\"\u001b[39m}:\n\u001b[0;32m    184\u001b[0m     \u001b[39m# Use NumPy API to support order\u001b[39;00m\n\u001b[1;32m--> 185\u001b[0m     array \u001b[39m=\u001b[39m numpy\u001b[39m.\u001b[39masarray(array, order\u001b[39m=\u001b[39morder, dtype\u001b[39m=\u001b[39mdtype)\n\u001b[0;32m    186\u001b[0m     \u001b[39mreturn\u001b[39;00m xp\u001b[39m.\u001b[39masarray(array, copy\u001b[39m=\u001b[39mcopy)\n\u001b[0;32m    187\u001b[0m \u001b[39melse\u001b[39;00m:\n",
      "File \u001b[1;32mc:\\Users\\noch2\\AppData\\Local\\Programs\\Python\\Python311\\Lib\\site-packages\\pandas\\core\\series.py:893\u001b[0m, in \u001b[0;36mSeries.__array__\u001b[1;34m(self, dtype)\u001b[0m\n\u001b[0;32m    846\u001b[0m \u001b[39mdef\u001b[39;00m \u001b[39m__array__\u001b[39m(\u001b[39mself\u001b[39m, dtype: npt\u001b[39m.\u001b[39mDTypeLike \u001b[39m|\u001b[39m \u001b[39mNone\u001b[39;00m \u001b[39m=\u001b[39m \u001b[39mNone\u001b[39;00m) \u001b[39m-\u001b[39m\u001b[39m>\u001b[39m np\u001b[39m.\u001b[39mndarray:\n\u001b[0;32m    847\u001b[0m \u001b[39m    \u001b[39m\u001b[39m\"\"\"\u001b[39;00m\n\u001b[0;32m    848\u001b[0m \u001b[39m    Return the values as a NumPy array.\u001b[39;00m\n\u001b[0;32m    849\u001b[0m \n\u001b[1;32m   (...)\u001b[0m\n\u001b[0;32m    891\u001b[0m \u001b[39m          dtype='datetime64[ns]')\u001b[39;00m\n\u001b[0;32m    892\u001b[0m \u001b[39m    \"\"\"\u001b[39;00m\n\u001b[1;32m--> 893\u001b[0m     \u001b[39mreturn\u001b[39;00m np\u001b[39m.\u001b[39masarray(\u001b[39mself\u001b[39m\u001b[39m.\u001b[39m_values, dtype)\n",
      "\u001b[1;31mValueError\u001b[0m: could not convert string to float: 'Dubai'"
     ]
    }
   ],
   "source": [
    "\n",
    "from sklearn import metrics\n",
    "print('средняя абс ошибка:', metrics.mean_absolute_error(y_test, y_pred))"
   ]
  }
 ],
 "metadata": {
  "kernelspec": {
   "display_name": "Python 3",
   "language": "python",
   "name": "python3"
  },
  "language_info": {
   "codemirror_mode": {
    "name": "ipython",
    "version": 3
   },
   "file_extension": ".py",
   "mimetype": "text/x-python",
   "name": "python",
   "nbconvert_exporter": "python",
   "pygments_lexer": "ipython3",
   "version": "3.11.1"
  },
  "orig_nbformat": 4
 },
 "nbformat": 4,
 "nbformat_minor": 2
}
