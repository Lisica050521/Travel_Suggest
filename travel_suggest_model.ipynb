{
 "cells": [
  {
   "attachments": {},
   "cell_type": "markdown",
   "metadata": {},
   "source": [
    "\"Travel Suggest\" - это проект для туристического бизнеса, целью которого является рекомендация новому туристу города для посещения в зависимости от его данных. На основе данных о существующих клиентах туристического агентства я построю модель машинного обучения, которая будет предсказывать город назначения новому клиенту. Для начала создам переменную, которая будет содержать данные клиентов туристического агентства:"
   ]
  },
  {
   "cell_type": "code",
   "execution_count": 1,
   "metadata": {},
   "outputs": [],
   "source": [
    "import pandas\n",
    "\n",
    "# Читаем файл в формате Эксель и кладем результат в переменную travelBD\n",
    "\n",
    "travelBD = pandas.read_excel(\"/Travel_Suggest/travelBD.xlsx\")"
   ]
  },
  {
   "attachments": {},
   "cell_type": "markdown",
   "metadata": {},
   "source": [
    "Рассмотрим данные, которые находятся в файле. Для этого применим функцию head(). На экране выведутся первые пять строчек таблицы. \n",
    "Здесь мы можем увидеть названия колонок таблицы, первые пять значений и порядковые номера строк от 0 до 4. "
   ]
  },
  {
   "cell_type": "code",
   "execution_count": 2,
   "metadata": {},
   "outputs": [
    {
     "data": {
      "text/html": [
       "<div>\n",
       "<style scoped>\n",
       "    .dataframe tbody tr th:only-of-type {\n",
       "        vertical-align: middle;\n",
       "    }\n",
       "\n",
       "    .dataframe tbody tr th {\n",
       "        vertical-align: top;\n",
       "    }\n",
       "\n",
       "    .dataframe thead th {\n",
       "        text-align: right;\n",
       "    }\n",
       "</style>\n",
       "<table border=\"1\" class=\"dataframe\">\n",
       "  <thead>\n",
       "    <tr style=\"text-align: right;\">\n",
       "      <th></th>\n",
       "      <th>zarabotnaya_plata</th>\n",
       "      <th>gorod</th>\n",
       "      <th>vozrast</th>\n",
       "      <th>tip_tura</th>\n",
       "      <th>vid_transporta</th>\n",
       "      <th>chleni_semyi</th>\n",
       "      <th>kurort</th>\n",
       "    </tr>\n",
       "  </thead>\n",
       "  <tbody>\n",
       "    <tr>\n",
       "      <th>0</th>\n",
       "      <td>191000</td>\n",
       "      <td>Апатиты</td>\n",
       "      <td>63</td>\n",
       "      <td>Экскурсионный тур</td>\n",
       "      <td>Морской транспорт</td>\n",
       "      <td>2</td>\n",
       "      <td>Rimini</td>\n",
       "    </tr>\n",
       "    <tr>\n",
       "      <th>1</th>\n",
       "      <td>130000</td>\n",
       "      <td>Апатиты</td>\n",
       "      <td>55</td>\n",
       "      <td>Экскурсионный тур</td>\n",
       "      <td>Самолет</td>\n",
       "      <td>1</td>\n",
       "      <td>Rimini</td>\n",
       "    </tr>\n",
       "    <tr>\n",
       "      <th>2</th>\n",
       "      <td>158000</td>\n",
       "      <td>Апатиты</td>\n",
       "      <td>58</td>\n",
       "      <td>Пляжный тур</td>\n",
       "      <td>Самолет</td>\n",
       "      <td>1</td>\n",
       "      <td>Rimini</td>\n",
       "    </tr>\n",
       "    <tr>\n",
       "      <th>3</th>\n",
       "      <td>236000</td>\n",
       "      <td>Апатиты</td>\n",
       "      <td>69</td>\n",
       "      <td>Круизный отдых</td>\n",
       "      <td>Морской транспорт</td>\n",
       "      <td>2</td>\n",
       "      <td>Rimini</td>\n",
       "    </tr>\n",
       "    <tr>\n",
       "      <th>4</th>\n",
       "      <td>196000</td>\n",
       "      <td>Апатиты</td>\n",
       "      <td>64</td>\n",
       "      <td>Пляжный тур</td>\n",
       "      <td>Самолет</td>\n",
       "      <td>2</td>\n",
       "      <td>Rimini</td>\n",
       "    </tr>\n",
       "  </tbody>\n",
       "</table>\n",
       "</div>"
      ],
      "text/plain": [
       "   zarabotnaya_plata    gorod  vozrast           tip_tura     vid_transporta  \\\n",
       "0             191000  Апатиты       63  Экскурсионный тур  Морской транспорт   \n",
       "1             130000  Апатиты       55  Экскурсионный тур            Самолет   \n",
       "2             158000  Апатиты       58        Пляжный тур            Самолет   \n",
       "3             236000  Апатиты       69     Круизный отдых  Морской транспорт   \n",
       "4             196000  Апатиты       64        Пляжный тур            Самолет   \n",
       "\n",
       "   chleni_semyi  kurort  \n",
       "0             2  Rimini  \n",
       "1             1  Rimini  \n",
       "2             1  Rimini  \n",
       "3             2  Rimini  \n",
       "4             2  Rimini  "
      ]
     },
     "execution_count": 2,
     "metadata": {},
     "output_type": "execute_result"
    }
   ],
   "source": [
    "travelBD.head() # Выводит первые несколько строк"
   ]
  },
  {
   "attachments": {},
   "cell_type": "markdown",
   "metadata": {},
   "source": [
    "Приступим к анализу данных таблицы. У нас в распоряжении ряд столбцов для анализа, таких как заработная плата, город, возраст и т.д. Для аналитика данных важно детально изучить эту информацию, чтобы узнать базовые характеристики. Каждый столбец имеет свое название переменной, которое можно использовать для получения информации из соответствующей ячейки. Например, чтобы получить данные только по заработной плате, нужно указать название переменной «travelBD» и после точки указать название столбца «zarabotnaya_plata»:"
   ]
  },
  {
   "cell_type": "code",
   "execution_count": 3,
   "metadata": {},
   "outputs": [
    {
     "data": {
      "text/plain": [
       "0      191000\n",
       "1      130000\n",
       "2      158000\n",
       "3      236000\n",
       "4      196000\n",
       "        ...  \n",
       "995    158000\n",
       "996     45000\n",
       "997    108000\n",
       "998     32000\n",
       "999    130000\n",
       "Name: zarabotnaya_plata, Length: 1000, dtype: int64"
      ]
     },
     "execution_count": 3,
     "metadata": {},
     "output_type": "execute_result"
    }
   ],
   "source": [
    "travelBD.zarabotnaya_plata"
   ]
  },
  {
   "attachments": {},
   "cell_type": "markdown",
   "metadata": {},
   "source": [
    "Нам доступна функция discribe(). Это метод, который используется в Pandas библиотеке для создания сводной статистики числовых данных в DataFrame. Он генерирует описательные статистические данные, которые предоставляют информацию, такую как количество, среднее значение, стандартное отклонение и различные процентили данных."
   ]
  },
  {
   "cell_type": "code",
   "execution_count": 4,
   "metadata": {},
   "outputs": [
    {
     "data": {
      "text/plain": [
       "count      1000.000000\n",
       "mean     114935.000000\n",
       "std       54580.049073\n",
       "min        3000.000000\n",
       "25%       71000.000000\n",
       "50%      102000.000000\n",
       "75%      164000.000000\n",
       "max      253000.000000\n",
       "Name: zarabotnaya_plata, dtype: float64"
      ]
     },
     "execution_count": 4,
     "metadata": {},
     "output_type": "execute_result"
    }
   ],
   "source": [
    "travelBD.zarabotnaya_plata.describe()"
   ]
  },
  {
   "attachments": {},
   "cell_type": "markdown",
   "metadata": {},
   "source": [
    "Для анализа заработной платы туристов можно построить по заработной плате гистограмму."
   ]
  },
  {
   "cell_type": "code",
   "execution_count": 5,
   "metadata": {},
   "outputs": [
    {
     "data": {
      "text/plain": [
       "<AxesSubplot:>"
      ]
     },
     "execution_count": 5,
     "metadata": {},
     "output_type": "execute_result"
    },
    {
     "data": {
      "image/png": "[encoded data removed]",
      "text/plain": [
       "<Figure size 640x480 with 1 Axes>"
      ]
     },
     "metadata": {},
     "output_type": "display_data"
    }
   ],
   "source": [
    "travelBD.zarabotnaya_plata.hist()"
   ]
  },
  {
   "attachments": {},
   "cell_type": "markdown",
   "metadata": {},
   "source": [
    "Постоим гистограмму по возрасту туристов:"
   ]
  },
  {
   "cell_type": "code",
   "execution_count": 6,
   "metadata": {},
   "outputs": [
    {
     "data": {
      "text/plain": [
       "<AxesSubplot:>"
      ]
     },
     "execution_count": 6,
     "metadata": {},
     "output_type": "execute_result"
    },
    {
     "data": {
      "image/png": "[encoded data removed]",
      "text/plain": [
       "<Figure size 640x480 with 1 Axes>"
      ]
     },
     "metadata": {},
     "output_type": "display_data"
    }
   ],
   "source": [
    "travelBD.vozrast.hist()"
   ]
  },
  {
   "attachments": {},
   "cell_type": "markdown",
   "metadata": {},
   "source": [
    "Получим информацию по городам, в которых находятся наши туристы. Гистограмму по городам невозможно построить, так как названия городов не являются числами. Но мы можем получить информацию, сколько людей из разных городов:"
   ]
  },
  {
   "cell_type": "code",
   "execution_count": 8,
   "metadata": {},
   "outputs": [
    {
     "data": {
      "text/plain": [
       "Санкт-Петербург     307\n",
       "Москва              267\n",
       "Сочи                107\n",
       "Мурманск            106\n",
       "Самара               84\n",
       "Воронеж              67\n",
       "Апатиты              33\n",
       "Сегежа               14\n",
       "Петрозаводск         13\n",
       "Великий-Новгород      1\n",
       "Минеральные Воды      1\n",
       "Name: gorod, dtype: int64"
      ]
     },
     "execution_count": 8,
     "metadata": {},
     "output_type": "execute_result"
    }
   ],
   "source": [
    "travelBD.gorod.value_counts()"
   ]
  },
  {
   "attachments": {},
   "cell_type": "markdown",
   "metadata": {},
   "source": [
    "Рассмотрим предпочтения клиентов в том, как они путешествуют:"
   ]
  },
  {
   "cell_type": "code",
   "execution_count": 9,
   "metadata": {},
   "outputs": [
    {
     "data": {
      "text/plain": [
       "Самолет              390\n",
       "Автомобиль           379\n",
       "Поезд                148\n",
       "Морской транспорт     83\n",
       "Name: vid_transporta, dtype: int64"
      ]
     },
     "execution_count": 9,
     "metadata": {},
     "output_type": "execute_result"
    }
   ],
   "source": [
    "travelBD.vid_transporta.value_counts()"
   ]
  },
  {
   "attachments": {},
   "cell_type": "markdown",
   "metadata": {},
   "source": [
    "Задача модели машинного обучения заключается в том, чтобы спрогнозировать рекомендации для новых клиентов, основываясь на их личных данных. Я хочу научить модель машинного обучения рекомендовать курорт новому клиенту. Например, если клиент сообщает свой доход, возраст и все остальные показатели, модель может рекомендовать ему подходящие города, такие как Сингапур, Лос-Анжелес, Римини и т.д. Для этого модель использует информацию о том, куда ранее ездили другие туристы с теми же показателями. Какие города будут предлагаться в качестве рекомендации? Посмотрим на колонку, которая называется «kurort». Это те города, куда ездили туристы. Применим функцию value_counts(): "
   ]
  },
  {
   "cell_type": "code",
   "execution_count": 11,
   "metadata": {},
   "outputs": [
    {
     "data": {
      "text/plain": [
       "Barcelona      203\n",
       "Los Angeles    201\n",
       "Rimini         199\n",
       "Singapore      199\n",
       "Dubai          198\n",
       "Name: kurort, dtype: int64"
      ]
     },
     "execution_count": 11,
     "metadata": {},
     "output_type": "execute_result"
    }
   ],
   "source": [
    "travelBD.kurort.value_counts()"
   ]
  },
  {
   "attachments": {},
   "cell_type": "markdown",
   "metadata": {},
   "source": [
    "Мы получили список возможных городов назначения. Задача выбора наиболее вероятного ответа из заранее заданных возможностей называется задачей классификации. Для решения этой задачи используется модель машинного обучения, называемая классификатором.\n",
    "\n",
    "На вход модели мы будем подавать информацию о нашем клиенте (Х) – это зарплата, город, возраст и так далее (там несколько колонок), а на выходе мы ожидаем получить (Y) - города назначения. "
   ]
  },
  {
   "cell_type": "code",
   "execution_count": 12,
   "metadata": {},
   "outputs": [],
   "source": [
    "# Задача \"Классификации\" - модель МО выбирает наиболее вероятный из заранее известных ответов\n",
    "# Модель - \"Классификатор\"\n",
    "# На вход модели (Х): данные о туристе (ЗП. город, возраст и т.д)\n",
    "# На выходе модели (y): город назначения (kurort)\n",
    "# Задача модели найти закономерности между Х и у\n",
    "# Х => model => y\n",
    "\n",
    "X = travelBD.drop(\"kurort\", axis=1)\n",
    "y = travelBD.kurort\n",
    "\n"
   ]
  },
  {
   "attachments": {},
   "cell_type": "markdown",
   "metadata": {},
   "source": [
    "С помощью функции pandas.get_dummies() уберем буквенные значения в таблице. X_dummies – это развернутая таблица с нулями и единицами, которую мы получили в результате применения функции get_dummies():"
   ]
  },
  {
   "cell_type": "code",
   "execution_count": 15,
   "metadata": {},
   "outputs": [
    {
     "name": "stdout",
     "output_type": "stream",
     "text": [
      "     zarabotnaya_plata  vozrast  chleni_semyi  gorod_Апатиты  \\\n",
      "0               191000       63             2              1   \n",
      "1               130000       55             1              1   \n",
      "2               158000       58             1              1   \n",
      "3               236000       69             2              1   \n",
      "4               196000       64             2              1   \n",
      "..                 ...      ...           ...            ...   \n",
      "995             158000       65             1              0   \n",
      "996              45000       64             2              0   \n",
      "997             108000       63             0              0   \n",
      "998              32000       65             1              0   \n",
      "999             130000       55             2              0   \n",
      "\n",
      "     gorod_Великий-Новгород  gorod_Воронеж  gorod_Минеральные Воды  \\\n",
      "0                         0              0                       0   \n",
      "1                         0              0                       0   \n",
      "2                         0              0                       0   \n",
      "3                         0              0                       0   \n",
      "4                         0              0                       0   \n",
      "..                      ...            ...                     ...   \n",
      "995                       0              0                       0   \n",
      "996                       0              0                       0   \n",
      "997                       0              0                       0   \n",
      "998                       0              0                       0   \n",
      "999                       0              0                       0   \n",
      "\n",
      "     gorod_Москва  gorod_Мурманск  gorod_Петрозаводск  ...  \\\n",
      "0               0               0                   0  ...   \n",
      "1               0               0                   0  ...   \n",
      "2               0               0                   0  ...   \n",
      "3               0               0                   0  ...   \n",
      "4               0               0                   0  ...   \n",
      "..            ...             ...                 ...  ...   \n",
      "995             0               0                   0  ...   \n",
      "996             0               0                   0  ...   \n",
      "997             0               0                   0  ...   \n",
      "998             0               0                   0  ...   \n",
      "999             0               0                   0  ...   \n",
      "\n",
      "     tip_tura_Круизный отдых  tip_tura_Лечебно-оздоровительный  \\\n",
      "0                          0                                 0   \n",
      "1                          0                                 0   \n",
      "2                          0                                 0   \n",
      "3                          1                                 0   \n",
      "4                          0                                 0   \n",
      "..                       ...                               ...   \n",
      "995                        0                                 0   \n",
      "996                        0                                 0   \n",
      "997                        0                                 0   \n",
      "998                        0                                 0   \n",
      "999                        0                                 1   \n",
      "\n",
      "     tip_tura_Лечебно-профилактический  tip_tura_Пляжный тур  \\\n",
      "0                                    0                     0   \n",
      "1                                    0                     0   \n",
      "2                                    0                     1   \n",
      "3                                    0                     0   \n",
      "4                                    0                     1   \n",
      "..                                 ...                   ...   \n",
      "995                                  0                     0   \n",
      "996                                  0                     0   \n",
      "997                                  0                     1   \n",
      "998                                  0                     0   \n",
      "999                                  0                     0   \n",
      "\n",
      "     tip_tura_Шоп-тур  tip_tura_Экскурсионный тур  vid_transporta_Автомобиль  \\\n",
      "0                   0                           1                          0   \n",
      "1                   0                           1                          0   \n",
      "2                   0                           0                          0   \n",
      "3                   0                           0                          0   \n",
      "4                   0                           0                          0   \n",
      "..                ...                         ...                        ...   \n",
      "995                 0                           1                          0   \n",
      "996                 0                           1                          0   \n",
      "997                 0                           0                          0   \n",
      "998                 0                           1                          0   \n",
      "999                 0                           0                          0   \n",
      "\n",
      "     vid_transporta_Морской транспорт  vid_transporta_Поезд  \\\n",
      "0                                   1                     0   \n",
      "1                                   0                     0   \n",
      "2                                   0                     0   \n",
      "3                                   1                     0   \n",
      "4                                   0                     0   \n",
      "..                                ...                   ...   \n",
      "995                                 0                     0   \n",
      "996                                 0                     0   \n",
      "997                                 1                     0   \n",
      "998                                 0                     0   \n",
      "999                                 0                     0   \n",
      "\n",
      "     vid_transporta_Самолет  \n",
      "0                         0  \n",
      "1                         1  \n",
      "2                         1  \n",
      "3                         0  \n",
      "4                         1  \n",
      "..                      ...  \n",
      "995                       1  \n",
      "996                       1  \n",
      "997                       0  \n",
      "998                       1  \n",
      "999                       1  \n",
      "\n",
      "[1000 rows x 24 columns]\n"
     ]
    }
   ],
   "source": [
    "X_dummies = pandas.get_dummies(X, columns=[\"gorod\", \"tip_tura\", \"vid_transporta\"])\n",
    "\n",
    "print (X_dummies)\n"
   ]
  },
  {
   "attachments": {},
   "cell_type": "markdown",
   "metadata": {},
   "source": [
    "Я выберу алгоритм машинного обучения \"случайные леса\" так как они подходят для решения задачи классификации.\n",
    "Библиотека scikit-learn предоставляет реализации многих алгоритмов машинного обучения, включая Random Forest Classifier.\n",
    "Мы приступаем к обучению модели, для этого используем функцию model.fit(). Ключевым моментом в этом процессе является то, что мы просим модель подстроиться под данные x и y, а не просто обучиться на них напрямую. Именно поэтому метод обучения называется fit, что на английском языке означает \"подстроиться\". Таким образом, модель будет аккуратно и плавно подстраиваться к этим конкретным данным x и y.\n",
    "В конечном итоге, качество модели будет зависеть от того, насколько точный и качественный пример и качество данных:\n"
   ]
  },
  {
   "cell_type": "code",
   "execution_count": 16,
   "metadata": {},
   "outputs": [
    {
     "data": {
      "text/plain": [
       "RandomForestClassifier()"
      ]
     },
     "execution_count": 16,
     "metadata": {},
     "output_type": "execute_result"
    }
   ],
   "source": [
    "\n",
    "from sklearn.ensemble import RandomForestClassifier\n",
    "\n",
    "model = RandomForestClassifier ()\n",
    "\n",
    "model.fit (X_dummies, y)\n"
   ]
  },
  {
   "attachments": {},
   "cell_type": "markdown",
   "metadata": {},
   "source": [
    "Модель готова к использованию, но прежде чем начать ее применять, необходимо оценить ее качество. Это позволит узнать, насколько точно модель обучилась и способна ли она распознавать закономерности. Одна из первых метрик, которую я использую, - это точность на тренировочной выборке accuracy / train dataset. Это число, которое показывает, насколько хорошо модель усвоила данные. Таким образом, перед использованием модели необходимо провести оценку ее качества с помощью различных метрик, начиная с точности на тренировочной выборке:\n",
    "model.score (X_dummies, y)\n",
    "\n",
    "Score () - это функция, которая оценивает эффективность. В машинном обучении она используется для оценки эффективности модели на тестовых данных. Он представляет собой числовую метрику, которая выражает, насколько точно модель способна предсказывать целевую переменную на новых данных. Если значение score() близко к 1, то это означает, что модель предсказывает целевые значения точно, а если score() близко к 0, то модель плохо справляется с предсказанием.\n"
   ]
  },
  {
   "cell_type": "code",
   "execution_count": 17,
   "metadata": {},
   "outputs": [
    {
     "data": {
      "text/plain": [
       "1.0"
      ]
     },
     "execution_count": 17,
     "metadata": {},
     "output_type": "execute_result"
    }
   ],
   "source": [
    "model.score (X_dummies, y)"
   ]
  },
  {
   "attachments": {},
   "cell_type": "markdown",
   "metadata": {},
   "source": [
    "Значение score() равно 1, значит модель была обучена хорошо. Для проверки работы модели мы можем ввести данные нового клиента и использовать модель для прогнозирования результатов. Для этого использую команду:\n",
    " X_dummies.columns.\n"
   ]
  },
  {
   "cell_type": "code",
   "execution_count": 18,
   "metadata": {},
   "outputs": [
    {
     "data": {
      "text/plain": [
       "Index(['zarabotnaya_plata', 'vozrast', 'chleni_semyi', 'gorod_Апатиты',\n",
       "       'gorod_Великий-Новгород', 'gorod_Воронеж', 'gorod_Минеральные Воды',\n",
       "       'gorod_Москва', 'gorod_Мурманск', 'gorod_Петрозаводск', 'gorod_Самара',\n",
       "       'gorod_Санкт-Петербург', 'gorod_Сегежа', 'gorod_Сочи',\n",
       "       'tip_tura_Круизный отдых', 'tip_tura_Лечебно-оздоровительный',\n",
       "       'tip_tura_Лечебно-профилактический', 'tip_tura_Пляжный тур',\n",
       "       'tip_tura_Шоп-тур', 'tip_tura_Экскурсионный тур',\n",
       "       'vid_transporta_Автомобиль', 'vid_transporta_Морской транспорт',\n",
       "       'vid_transporta_Поезд', 'vid_transporta_Самолет'],\n",
       "      dtype='object')"
      ]
     },
     "execution_count": 18,
     "metadata": {},
     "output_type": "execute_result"
    }
   ],
   "source": [
    "X_dummies.columns"
   ]
  },
  {
   "attachments": {},
   "cell_type": "markdown",
   "metadata": {},
   "source": [
    "Для удобства ввода расположим данные в столбик:"
   ]
  },
  {
   "cell_type": "code",
   "execution_count": 19,
   "metadata": {},
   "outputs": [
    {
     "data": {
      "text/plain": [
       "{'zarabotnaya_plata': [0],\n",
       " 'vozrast': [0],\n",
       " 'chleni_semyi': [0],\n",
       " 'gorod_Апатиты': [0],\n",
       " 'gorod_Великий-Новгород': [0],\n",
       " 'gorod_Воронеж': [0],\n",
       " 'gorod_Минеральные Воды': [0],\n",
       " 'gorod_Москва': [0],\n",
       " 'gorod_Мурманск': [0],\n",
       " 'gorod_Петрозаводск': [0],\n",
       " 'gorod_Самара': [0],\n",
       " 'gorod_Санкт-Петербург': [0],\n",
       " 'gorod_Сегежа': [0],\n",
       " 'gorod_Сочи': [0],\n",
       " 'tip_tura_Круизный отдых': [0],\n",
       " 'tip_tura_Лечебно-оздоровительный': [0],\n",
       " 'tip_tura_Лечебно-профилактический': [0],\n",
       " 'tip_tura_Пляжный тур': [0],\n",
       " 'tip_tura_Шоп-тур': [0],\n",
       " 'tip_tura_Экскурсионный тур': [0],\n",
       " 'vid_transporta_Автомобиль': [0],\n",
       " 'vid_transporta_Морской транспорт': [0],\n",
       " 'vid_transporta_Поезд': [0],\n",
       " 'vid_transporta_Самолет': [0]}"
      ]
     },
     "execution_count": 19,
     "metadata": {},
     "output_type": "execute_result"
    }
   ],
   "source": [
    "{col: [0] for col in X_dummies.columns} "
   ]
  },
  {
   "attachments": {},
   "cell_type": "markdown",
   "metadata": {},
   "source": [
    "Шаблон готов. Теперь скопирую и вставлю в свой код и заполню данные нового клиента. Допустим, это будет житель города Москва, с заработной платой 120 000 рублей, возраст 63 года, у которого 1 член семьи. Он едет в лечебно-оздоровит тур на самолете."
   ]
  },
  {
   "cell_type": "code",
   "execution_count": 20,
   "metadata": {},
   "outputs": [],
   "source": [
    "example = {'zarabotnaya_plata': [120000],\n",
    " 'vozrast': [63],\n",
    " 'chleni_semyi': [1],\n",
    " 'gorod_Апатиты': [0],\n",
    " 'gorod_Великий-Новгород': [0],\n",
    " 'gorod_Воронеж': [0],\n",
    " 'gorod_Минеральные Воды': [0],\n",
    " 'gorod_Москва': [1],\n",
    " 'gorod_Мурманск': [0],\n",
    " 'gorod_Петрозаводск': [0],\n",
    " 'gorod_Самара': [0],\n",
    " 'gorod_Санкт-Петербург': [0],\n",
    " 'gorod_Сегежа': [0],\n",
    " 'gorod_Сочи': [0],\n",
    " 'tip_tura_Круизный отдых': [0],\n",
    " 'tip_tura_Лечебно-оздоровительный': [1],\n",
    " 'tip_tura_Лечебно-профилактический': [0],\n",
    " 'tip_tura_Пляжный тур': [0],\n",
    " 'tip_tura_Шоп-тур': [0],\n",
    " 'tip_tura_Экскурсионный тур': [0],\n",
    " 'vid_transporta_Автомобиль': [0],\n",
    " 'vid_transporta_Морской транспорт': [0],\n",
    " 'vid_transporta_Поезд': [0],\n",
    " 'vid_transporta_Самолет': [1]}\n",
    "\n",
    "example_df = pandas.DataFrame(data=example, columns=X_dummies.columns)"
   ]
  },
  {
   "attachments": {},
   "cell_type": "markdown",
   "metadata": {},
   "source": [
    "\n",
    "Теперь преобразуем данные в формат pandas –таблицы::"
   ]
  },
  {
   "cell_type": "code",
   "execution_count": 21,
   "metadata": {},
   "outputs": [
    {
     "data": {
      "text/html": [
       "<div>\n",
       "<style scoped>\n",
       "    .dataframe tbody tr th:only-of-type {\n",
       "        vertical-align: middle;\n",
       "    }\n",
       "\n",
       "    .dataframe tbody tr th {\n",
       "        vertical-align: top;\n",
       "    }\n",
       "\n",
       "    .dataframe thead th {\n",
       "        text-align: right;\n",
       "    }\n",
       "</style>\n",
       "<table border=\"1\" class=\"dataframe\">\n",
       "  <thead>\n",
       "    <tr style=\"text-align: right;\">\n",
       "      <th></th>\n",
       "      <th>zarabotnaya_plata</th>\n",
       "      <th>vozrast</th>\n",
       "      <th>chleni_semyi</th>\n",
       "      <th>gorod_Апатиты</th>\n",
       "      <th>gorod_Великий-Новгород</th>\n",
       "      <th>gorod_Воронеж</th>\n",
       "      <th>gorod_Минеральные Воды</th>\n",
       "      <th>gorod_Москва</th>\n",
       "      <th>gorod_Мурманск</th>\n",
       "      <th>gorod_Петрозаводск</th>\n",
       "      <th>...</th>\n",
       "      <th>tip_tura_Круизный отдых</th>\n",
       "      <th>tip_tura_Лечебно-оздоровительный</th>\n",
       "      <th>tip_tura_Лечебно-профилактический</th>\n",
       "      <th>tip_tura_Пляжный тур</th>\n",
       "      <th>tip_tura_Шоп-тур</th>\n",
       "      <th>tip_tura_Экскурсионный тур</th>\n",
       "      <th>vid_transporta_Автомобиль</th>\n",
       "      <th>vid_transporta_Морской транспорт</th>\n",
       "      <th>vid_transporta_Поезд</th>\n",
       "      <th>vid_transporta_Самолет</th>\n",
       "    </tr>\n",
       "  </thead>\n",
       "  <tbody>\n",
       "    <tr>\n",
       "      <th>0</th>\n",
       "      <td>120000</td>\n",
       "      <td>63</td>\n",
       "      <td>1</td>\n",
       "      <td>0</td>\n",
       "      <td>0</td>\n",
       "      <td>0</td>\n",
       "      <td>0</td>\n",
       "      <td>1</td>\n",
       "      <td>0</td>\n",
       "      <td>0</td>\n",
       "      <td>...</td>\n",
       "      <td>0</td>\n",
       "      <td>1</td>\n",
       "      <td>0</td>\n",
       "      <td>0</td>\n",
       "      <td>0</td>\n",
       "      <td>0</td>\n",
       "      <td>0</td>\n",
       "      <td>0</td>\n",
       "      <td>0</td>\n",
       "      <td>1</td>\n",
       "    </tr>\n",
       "  </tbody>\n",
       "</table>\n",
       "<p>1 rows × 24 columns</p>\n",
       "</div>"
      ],
      "text/plain": [
       "   zarabotnaya_plata  vozrast  chleni_semyi  gorod_Апатиты  \\\n",
       "0             120000       63             1              0   \n",
       "\n",
       "   gorod_Великий-Новгород  gorod_Воронеж  gorod_Минеральные Воды  \\\n",
       "0                       0              0                       0   \n",
       "\n",
       "   gorod_Москва  gorod_Мурманск  gorod_Петрозаводск  ...  \\\n",
       "0             1               0                   0  ...   \n",
       "\n",
       "   tip_tura_Круизный отдых  tip_tura_Лечебно-оздоровительный  \\\n",
       "0                        0                                 1   \n",
       "\n",
       "   tip_tura_Лечебно-профилактический  tip_tura_Пляжный тур  tip_tura_Шоп-тур  \\\n",
       "0                                  0                     0                 0   \n",
       "\n",
       "   tip_tura_Экскурсионный тур  vid_transporta_Автомобиль  \\\n",
       "0                           0                          0   \n",
       "\n",
       "   vid_transporta_Морской транспорт  vid_transporta_Поезд  \\\n",
       "0                                 0                     0   \n",
       "\n",
       "   vid_transporta_Самолет  \n",
       "0                       1  \n",
       "\n",
       "[1 rows x 24 columns]"
      ]
     },
     "execution_count": 21,
     "metadata": {},
     "output_type": "execute_result"
    }
   ],
   "source": [
    "example_df"
   ]
  },
  {
   "attachments": {},
   "cell_type": "markdown",
   "metadata": {},
   "source": [
    "Введу функцию для предсказания города, в который можно отправить нового туриста:\n",
    "model.predict(example_df)\n",
    "Функция predict() используется в машинном обучении для прогнозирования выходных значений, основанных на входных множествах данных. \n"
   ]
  },
  {
   "cell_type": "code",
   "execution_count": 22,
   "metadata": {},
   "outputs": [
    {
     "data": {
      "text/plain": [
       "array(['Barcelona'], dtype=object)"
      ]
     },
     "execution_count": 22,
     "metadata": {},
     "output_type": "execute_result"
    }
   ],
   "source": [
    "model.predict(example_df)"
   ]
  },
  {
   "attachments": {},
   "cell_type": "markdown",
   "metadata": {},
   "source": [
    "Модель предсказала, что клиенту следует отправиться в город Барселона. Однако, поскольку модель имеет в своем названии слово \"Random\" не случайно, она может предложить и другие варианты мест для посещения. Чтобы узнать, какие другие города могут быть хорошими вариантами, нужно анализировать вероятности, которые выдаст модель. Среди возможных вариантов можно искать те, которые также имеют высокую вероятность и рекомендовать их клиенту:"
   ]
  },
  {
   "cell_type": "code",
   "execution_count": 23,
   "metadata": {},
   "outputs": [
    {
     "data": {
      "text/plain": [
       "array([[0.59, 0.14, 0.01, 0.08, 0.18]])"
      ]
     },
     "execution_count": 23,
     "metadata": {},
     "output_type": "execute_result"
    }
   ],
   "source": [
    "model.predict_proba(example_df)"
   ]
  },
  {
   "attachments": {},
   "cell_type": "markdown",
   "metadata": {},
   "source": [
    "Использование predict_proba в моделях классификации может помочь в принятии решения на основе вероятностной информации, а также в выявлении объектов, для которых модель не уверена в правильной классификации. Порядок этих вариантов – это порядок следования городов."
   ]
  },
  {
   "cell_type": "code",
   "execution_count": 24,
   "metadata": {},
   "outputs": [
    {
     "data": {
      "text/plain": [
       "array(['Barcelona', 'Dubai', 'Los Angeles', 'Rimini', 'Singapore'],\n",
       "      dtype=object)"
      ]
     },
     "execution_count": 24,
     "metadata": {},
     "output_type": "execute_result"
    }
   ],
   "source": [
    "model.classes_"
   ]
  },
  {
   "attachments": {},
   "cell_type": "markdown",
   "metadata": {},
   "source": [
    "Вероятность 1 варианта – Барселона - 41 %\n",
    "Вероятность 2 варианта – Дубай - 28 %\n",
    "Вероятность 3 варианта – Лос-Анжелес - 0 %\n",
    "Вероятность 4 варианта – Римини - 9 %\n",
    "Вероятность 5 варианта – Сингапур - 22 %\n",
    "Задача модели – выбрать заранее один из заранее известных вариантов.\n",
    "В реальности она не просто выбирает - она распределяет вероятности между всеми существующими классами – ответами. Сумма процентов даст единицу - 100%.\n",
    "В итоге я проанализировала данные, построила первую простую модель и научилась её использовать для предсказания. Также изучила распределение вероятностей и определила оптимальное направление для отправки нового туриста\n"
   ]
  }
 ],
 "metadata": {
  "kernelspec": {
   "display_name": "Python 3",
   "language": "python",
   "name": "python3"
  },
  "language_info": {
   "codemirror_mode": {
    "name": "ipython",
    "version": 3
   },
   "file_extension": ".py",
   "mimetype": "text/x-python",
   "name": "python",
   "nbconvert_exporter": "python",
   "pygments_lexer": "ipython3",
   "version": "3.11.1"
  },
  "orig_nbformat": 4
 },
 "nbformat": 4,
 "nbformat_minor": 2
}
